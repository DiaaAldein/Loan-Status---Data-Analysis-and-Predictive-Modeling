{
 "cells": [
  {
   "cell_type": "markdown",
   "id": "b9c54c15",
   "metadata": {},
   "source": [
    "# Data Science Project\n",
    "## Loan Prediction - Data Analysis & Predictive Modeling\n",
    "\n",
    "**Project Prepared by:** Diaa Aldein Alsayed Ibrahim Osman  \n",
    "**Prepared for:** Epsilon AI Institute  \n",
    "\n",
    "**Background:**  \n",
    "\n",
    "Dream Housing Finance company deals in all kinds of home loans and has a presence across all urban, semi-urban, and rural areas. Customers first apply for a home loan, after which the company validates their eligibility. The company aims to automate the loan eligibility process in real-time based on customer details provided while filling the online application form. These details include Gender, Marital Status, Education, Number of Dependents, Income, Loan Amount, Credit History, and others. To achieve automation, they have provided a dataset to identify customer segments eligible for loan amounts, allowing them to specifically target these customers.\n",
    "\n",
    "**Project Objective:** \n",
    "\n",
    "Analyze the data to gain key insights into the factors affecting loan eligibility and create a predictive model to automate the loan eligibility process.\n",
    "\n",
    "**Dataset Description:** \n",
    "\n",
    "The dataset comprises 614 instances and 13 features. The data is unclean, with missing values, and not all instances and features may be necessary to achieve the project's goals.\n",
    "\n",
    "**Features Description:** \n",
    "\n",
    " 1.   **Loan_ID:**                Unique Loan ID                                    614 non-null    object \n",
    " 2.   **Gender:**                 Male / Female                                     601 non-null    object \n",
    " 3.   **Married:**                Applicant married (Y/N)                           611 non-null    object \n",
    " 4.   **Dependents:**             Number of dependents                              599 non-null    object \n",
    " 5.   **Education:**              Applicant Education (Graduate/Under Graduate)     614 non-null    object \n",
    " 6.   **Self_Employed:**          Self_Employed (Y/N)                               582 non-null    object \n",
    " 7.   **ApplicantIncome:**        Applicant income                                  614 non-null    int64  \n",
    " 8.   **CoapplicantIncome:**      Coapplicant income                                614 non-null    float64\n",
    " 9.   **LoanAmount:**             Loan amount in thousands                          592 non-null    float64\n",
    " 10.  **Loan_Amount_Term:**       Term of loan in Months                            600 non-null    float64\n",
    " 11.  **Credit_History:**         Credit history meet guidelines                    564 non-null    float64\n",
    " 12.  **Property_Area:**          Urban/Semi Urban/Rural                            614 non-null    object \n",
    " 13.  **Loan_Status:**            (Target) Loan approved (Y/N)                      614 non-null    object \n"
   ]
  },
  {
   "cell_type": "markdown",
   "id": "6346ea06",
   "metadata": {},
   "source": [
    "## Step 1: Cleaning"
   ]
  },
  {
   "cell_type": "code",
   "execution_count": 1,
   "id": "39969847",
   "metadata": {},
   "outputs": [],
   "source": [
    "# Importing necessary libraries\n",
    "import numpy as np\n",
    "import pandas as pd\n",
    "import seaborn as sns\n",
    "import matplotlib.pyplot as plt\n",
    "import plotly.express as px"
   ]
  },
  {
   "cell_type": "code",
   "execution_count": 2,
   "id": "c6c2371b",
   "metadata": {},
   "outputs": [
    {
     "data": {
      "text/html": [
       "<div>\n",
       "<style scoped>\n",
       "    .dataframe tbody tr th:only-of-type {\n",
       "        vertical-align: middle;\n",
       "    }\n",
       "\n",
       "    .dataframe tbody tr th {\n",
       "        vertical-align: top;\n",
       "    }\n",
       "\n",
       "    .dataframe thead th {\n",
       "        text-align: right;\n",
       "    }\n",
       "</style>\n",
       "<table border=\"1\" class=\"dataframe\">\n",
       "  <thead>\n",
       "    <tr style=\"text-align: right;\">\n",
       "      <th></th>\n",
       "      <th>Loan_ID</th>\n",
       "      <th>Gender</th>\n",
       "      <th>Married</th>\n",
       "      <th>Dependents</th>\n",
       "      <th>Education</th>\n",
       "      <th>Self_Employed</th>\n",
       "      <th>ApplicantIncome</th>\n",
       "      <th>CoapplicantIncome</th>\n",
       "      <th>LoanAmount</th>\n",
       "      <th>Loan_Amount_Term</th>\n",
       "      <th>Credit_History</th>\n",
       "      <th>Property_Area</th>\n",
       "      <th>Loan_Status</th>\n",
       "    </tr>\n",
       "  </thead>\n",
       "  <tbody>\n",
       "    <tr>\n",
       "      <th>0</th>\n",
       "      <td>LP001002</td>\n",
       "      <td>Male</td>\n",
       "      <td>No</td>\n",
       "      <td>0</td>\n",
       "      <td>Graduate</td>\n",
       "      <td>No</td>\n",
       "      <td>5849</td>\n",
       "      <td>0.0</td>\n",
       "      <td>NaN</td>\n",
       "      <td>360.0</td>\n",
       "      <td>1.0</td>\n",
       "      <td>Urban</td>\n",
       "      <td>Y</td>\n",
       "    </tr>\n",
       "    <tr>\n",
       "      <th>1</th>\n",
       "      <td>LP001003</td>\n",
       "      <td>Male</td>\n",
       "      <td>Yes</td>\n",
       "      <td>1</td>\n",
       "      <td>Graduate</td>\n",
       "      <td>No</td>\n",
       "      <td>4583</td>\n",
       "      <td>1508.0</td>\n",
       "      <td>128.0</td>\n",
       "      <td>360.0</td>\n",
       "      <td>1.0</td>\n",
       "      <td>Rural</td>\n",
       "      <td>N</td>\n",
       "    </tr>\n",
       "    <tr>\n",
       "      <th>2</th>\n",
       "      <td>LP001005</td>\n",
       "      <td>Male</td>\n",
       "      <td>Yes</td>\n",
       "      <td>0</td>\n",
       "      <td>Graduate</td>\n",
       "      <td>Yes</td>\n",
       "      <td>3000</td>\n",
       "      <td>0.0</td>\n",
       "      <td>66.0</td>\n",
       "      <td>360.0</td>\n",
       "      <td>1.0</td>\n",
       "      <td>Urban</td>\n",
       "      <td>Y</td>\n",
       "    </tr>\n",
       "    <tr>\n",
       "      <th>3</th>\n",
       "      <td>LP001006</td>\n",
       "      <td>Male</td>\n",
       "      <td>Yes</td>\n",
       "      <td>0</td>\n",
       "      <td>Not Graduate</td>\n",
       "      <td>No</td>\n",
       "      <td>2583</td>\n",
       "      <td>2358.0</td>\n",
       "      <td>120.0</td>\n",
       "      <td>360.0</td>\n",
       "      <td>1.0</td>\n",
       "      <td>Urban</td>\n",
       "      <td>Y</td>\n",
       "    </tr>\n",
       "    <tr>\n",
       "      <th>4</th>\n",
       "      <td>LP001008</td>\n",
       "      <td>Male</td>\n",
       "      <td>No</td>\n",
       "      <td>0</td>\n",
       "      <td>Graduate</td>\n",
       "      <td>No</td>\n",
       "      <td>6000</td>\n",
       "      <td>0.0</td>\n",
       "      <td>141.0</td>\n",
       "      <td>360.0</td>\n",
       "      <td>1.0</td>\n",
       "      <td>Urban</td>\n",
       "      <td>Y</td>\n",
       "    </tr>\n",
       "    <tr>\n",
       "      <th>...</th>\n",
       "      <td>...</td>\n",
       "      <td>...</td>\n",
       "      <td>...</td>\n",
       "      <td>...</td>\n",
       "      <td>...</td>\n",
       "      <td>...</td>\n",
       "      <td>...</td>\n",
       "      <td>...</td>\n",
       "      <td>...</td>\n",
       "      <td>...</td>\n",
       "      <td>...</td>\n",
       "      <td>...</td>\n",
       "      <td>...</td>\n",
       "    </tr>\n",
       "    <tr>\n",
       "      <th>609</th>\n",
       "      <td>LP002978</td>\n",
       "      <td>Female</td>\n",
       "      <td>No</td>\n",
       "      <td>0</td>\n",
       "      <td>Graduate</td>\n",
       "      <td>No</td>\n",
       "      <td>2900</td>\n",
       "      <td>0.0</td>\n",
       "      <td>71.0</td>\n",
       "      <td>360.0</td>\n",
       "      <td>1.0</td>\n",
       "      <td>Rural</td>\n",
       "      <td>Y</td>\n",
       "    </tr>\n",
       "    <tr>\n",
       "      <th>610</th>\n",
       "      <td>LP002979</td>\n",
       "      <td>Male</td>\n",
       "      <td>Yes</td>\n",
       "      <td>3+</td>\n",
       "      <td>Graduate</td>\n",
       "      <td>No</td>\n",
       "      <td>4106</td>\n",
       "      <td>0.0</td>\n",
       "      <td>40.0</td>\n",
       "      <td>180.0</td>\n",
       "      <td>1.0</td>\n",
       "      <td>Rural</td>\n",
       "      <td>Y</td>\n",
       "    </tr>\n",
       "    <tr>\n",
       "      <th>611</th>\n",
       "      <td>LP002983</td>\n",
       "      <td>Male</td>\n",
       "      <td>Yes</td>\n",
       "      <td>1</td>\n",
       "      <td>Graduate</td>\n",
       "      <td>No</td>\n",
       "      <td>8072</td>\n",
       "      <td>240.0</td>\n",
       "      <td>253.0</td>\n",
       "      <td>360.0</td>\n",
       "      <td>1.0</td>\n",
       "      <td>Urban</td>\n",
       "      <td>Y</td>\n",
       "    </tr>\n",
       "    <tr>\n",
       "      <th>612</th>\n",
       "      <td>LP002984</td>\n",
       "      <td>Male</td>\n",
       "      <td>Yes</td>\n",
       "      <td>2</td>\n",
       "      <td>Graduate</td>\n",
       "      <td>No</td>\n",
       "      <td>7583</td>\n",
       "      <td>0.0</td>\n",
       "      <td>187.0</td>\n",
       "      <td>360.0</td>\n",
       "      <td>1.0</td>\n",
       "      <td>Urban</td>\n",
       "      <td>Y</td>\n",
       "    </tr>\n",
       "    <tr>\n",
       "      <th>613</th>\n",
       "      <td>LP002990</td>\n",
       "      <td>Female</td>\n",
       "      <td>No</td>\n",
       "      <td>0</td>\n",
       "      <td>Graduate</td>\n",
       "      <td>Yes</td>\n",
       "      <td>4583</td>\n",
       "      <td>0.0</td>\n",
       "      <td>133.0</td>\n",
       "      <td>360.0</td>\n",
       "      <td>0.0</td>\n",
       "      <td>Semiurban</td>\n",
       "      <td>N</td>\n",
       "    </tr>\n",
       "  </tbody>\n",
       "</table>\n",
       "<p>614 rows × 13 columns</p>\n",
       "</div>"
      ],
      "text/plain": [
       "      Loan_ID  Gender Married Dependents     Education Self_Employed  \\\n",
       "0    LP001002    Male      No          0      Graduate            No   \n",
       "1    LP001003    Male     Yes          1      Graduate            No   \n",
       "2    LP001005    Male     Yes          0      Graduate           Yes   \n",
       "3    LP001006    Male     Yes          0  Not Graduate            No   \n",
       "4    LP001008    Male      No          0      Graduate            No   \n",
       "..        ...     ...     ...        ...           ...           ...   \n",
       "609  LP002978  Female      No          0      Graduate            No   \n",
       "610  LP002979    Male     Yes         3+      Graduate            No   \n",
       "611  LP002983    Male     Yes          1      Graduate            No   \n",
       "612  LP002984    Male     Yes          2      Graduate            No   \n",
       "613  LP002990  Female      No          0      Graduate           Yes   \n",
       "\n",
       "     ApplicantIncome  CoapplicantIncome  LoanAmount  Loan_Amount_Term  \\\n",
       "0               5849                0.0         NaN             360.0   \n",
       "1               4583             1508.0       128.0             360.0   \n",
       "2               3000                0.0        66.0             360.0   \n",
       "3               2583             2358.0       120.0             360.0   \n",
       "4               6000                0.0       141.0             360.0   \n",
       "..               ...                ...         ...               ...   \n",
       "609             2900                0.0        71.0             360.0   \n",
       "610             4106                0.0        40.0             180.0   \n",
       "611             8072              240.0       253.0             360.0   \n",
       "612             7583                0.0       187.0             360.0   \n",
       "613             4583                0.0       133.0             360.0   \n",
       "\n",
       "     Credit_History Property_Area Loan_Status  \n",
       "0               1.0         Urban           Y  \n",
       "1               1.0         Rural           N  \n",
       "2               1.0         Urban           Y  \n",
       "3               1.0         Urban           Y  \n",
       "4               1.0         Urban           Y  \n",
       "..              ...           ...         ...  \n",
       "609             1.0         Rural           Y  \n",
       "610             1.0         Rural           Y  \n",
       "611             1.0         Urban           Y  \n",
       "612             1.0         Urban           Y  \n",
       "613             0.0     Semiurban           N  \n",
       "\n",
       "[614 rows x 13 columns]"
      ]
     },
     "execution_count": 2,
     "metadata": {},
     "output_type": "execute_result"
    }
   ],
   "source": [
    "# loading & veiwing the dataset\n",
    "df = pd.read_csv(\"train_ctrUa4K.csv\")\n",
    "df"
   ]
  },
  {
   "cell_type": "code",
   "execution_count": 3,
   "id": "54187e5a",
   "metadata": {},
   "outputs": [
    {
     "name": "stdout",
     "output_type": "stream",
     "text": [
      "<class 'pandas.core.frame.DataFrame'>\n",
      "RangeIndex: 614 entries, 0 to 613\n",
      "Data columns (total 13 columns):\n",
      " #   Column             Non-Null Count  Dtype  \n",
      "---  ------             --------------  -----  \n",
      " 0   Loan_ID            614 non-null    object \n",
      " 1   Gender             601 non-null    object \n",
      " 2   Married            611 non-null    object \n",
      " 3   Dependents         599 non-null    object \n",
      " 4   Education          614 non-null    object \n",
      " 5   Self_Employed      582 non-null    object \n",
      " 6   ApplicantIncome    614 non-null    int64  \n",
      " 7   CoapplicantIncome  614 non-null    float64\n",
      " 8   LoanAmount         592 non-null    float64\n",
      " 9   Loan_Amount_Term   600 non-null    float64\n",
      " 10  Credit_History     564 non-null    float64\n",
      " 11  Property_Area      614 non-null    object \n",
      " 12  Loan_Status        614 non-null    object \n",
      "dtypes: float64(4), int64(1), object(8)\n",
      "memory usage: 62.5+ KB\n"
     ]
    }
   ],
   "source": [
    "# Geitting Information about the Data\n",
    "df.info()"
   ]
  },
  {
   "cell_type": "code",
   "execution_count": 4,
   "id": "a50339a1",
   "metadata": {},
   "outputs": [
    {
     "data": {
      "text/plain": [
       "0"
      ]
     },
     "execution_count": 4,
     "metadata": {},
     "output_type": "execute_result"
    }
   ],
   "source": [
    "df.duplicated().sum()"
   ]
  },
  {
   "cell_type": "code",
   "execution_count": 5,
   "id": "047e3d89",
   "metadata": {},
   "outputs": [
    {
     "data": {
      "text/plain": [
       "Loan_ID              0.000000\n",
       "Gender               2.117264\n",
       "Married              0.488599\n",
       "Dependents           2.442997\n",
       "Education            0.000000\n",
       "Self_Employed        5.211726\n",
       "ApplicantIncome      0.000000\n",
       "CoapplicantIncome    0.000000\n",
       "LoanAmount           3.583062\n",
       "Loan_Amount_Term     2.280130\n",
       "Credit_History       8.143322\n",
       "Property_Area        0.000000\n",
       "Loan_Status          0.000000\n",
       "dtype: float64"
      ]
     },
     "execution_count": 5,
     "metadata": {},
     "output_type": "execute_result"
    }
   ],
   "source": [
    "#checking for missing data percentage\n",
    "df.isnull().sum()/df.shape[0] * 100"
   ]
  },
  {
   "cell_type": "markdown",
   "id": "583981f5",
   "metadata": {},
   "source": [
    "* As the data contain only 614 rows we are going to keep all null values and deal with it in the preprocessing step."
   ]
  },
  {
   "cell_type": "code",
   "execution_count": 6,
   "id": "4573f2c8",
   "metadata": {},
   "outputs": [
    {
     "data": {
      "text/plain": [
       "Y    422\n",
       "N    192\n",
       "Name: Loan_Status, dtype: int64"
      ]
     },
     "execution_count": 6,
     "metadata": {},
     "output_type": "execute_result"
    }
   ],
   "source": [
    "df.Loan_Status.value_counts()"
   ]
  },
  {
   "cell_type": "markdown",
   "id": "90200f52",
   "metadata": {},
   "source": [
    "## Checking features for strange values"
   ]
  },
  {
   "cell_type": "code",
   "execution_count": 7,
   "id": "cf5ba1c6",
   "metadata": {},
   "outputs": [
    {
     "data": {
      "text/plain": [
       "Male      489\n",
       "Female    112\n",
       "Name: Gender, dtype: int64"
      ]
     },
     "execution_count": 7,
     "metadata": {},
     "output_type": "execute_result"
    }
   ],
   "source": [
    "# Gender:\n",
    "df.Gender.value_counts() # Looks Good"
   ]
  },
  {
   "cell_type": "code",
   "execution_count": 8,
   "id": "41881020",
   "metadata": {},
   "outputs": [
    {
     "data": {
      "text/plain": [
       "Yes    398\n",
       "No     213\n",
       "Name: Married, dtype: int64"
      ]
     },
     "execution_count": 8,
     "metadata": {},
     "output_type": "execute_result"
    }
   ],
   "source": [
    "# Married:\n",
    "df.Married.value_counts() # Looks Good"
   ]
  },
  {
   "cell_type": "code",
   "execution_count": 9,
   "id": "a7124993",
   "metadata": {},
   "outputs": [
    {
     "data": {
      "text/plain": [
       "0     345\n",
       "1     102\n",
       "2     101\n",
       "3+     51\n",
       "Name: Dependents, dtype: int64"
      ]
     },
     "execution_count": 9,
     "metadata": {},
     "output_type": "execute_result"
    }
   ],
   "source": [
    "# Dependents:\n",
    "df.Dependents.value_counts() "
   ]
  },
  {
   "cell_type": "markdown",
   "id": "51f1a74a",
   "metadata": {},
   "source": [
    "* There is strange values as 3+ indicating 3 or more dependets we are going to remove + signs leave only 3 to indicate 3 or more dependents. Also change the data type to float as it contain Null vlaue. to help in feature engineering."
   ]
  },
  {
   "cell_type": "code",
   "execution_count": 10,
   "id": "c5e8323a",
   "metadata": {},
   "outputs": [],
   "source": [
    "df.Dependents = df.Dependents.replace(\"3+\",\"3\").astype(\"float\")"
   ]
  },
  {
   "cell_type": "code",
   "execution_count": 11,
   "id": "5287a308",
   "metadata": {},
   "outputs": [
    {
     "data": {
      "text/plain": [
       "0.0    345\n",
       "1.0    102\n",
       "2.0    101\n",
       "3.0     51\n",
       "Name: Dependents, dtype: int64"
      ]
     },
     "execution_count": 11,
     "metadata": {},
     "output_type": "execute_result"
    }
   ],
   "source": [
    "# checking after dealing with strange values and data type\n",
    "df.Dependents.value_counts() "
   ]
  },
  {
   "cell_type": "code",
   "execution_count": 12,
   "id": "aa3afae9",
   "metadata": {},
   "outputs": [
    {
     "data": {
      "text/plain": [
       "Graduate        480\n",
       "Not Graduate    134\n",
       "Name: Education, dtype: int64"
      ]
     },
     "execution_count": 12,
     "metadata": {},
     "output_type": "execute_result"
    }
   ],
   "source": [
    "# Education:\n",
    "df.Education.value_counts() # Looks Good"
   ]
  },
  {
   "cell_type": "code",
   "execution_count": 13,
   "id": "51ee2708",
   "metadata": {},
   "outputs": [
    {
     "data": {
      "text/plain": [
       "No     500\n",
       "Yes     82\n",
       "Name: Self_Employed, dtype: int64"
      ]
     },
     "execution_count": 13,
     "metadata": {},
     "output_type": "execute_result"
    }
   ],
   "source": [
    "# Self_Employed:\n",
    "df.Self_Employed.value_counts() # Looks Good"
   ]
  },
  {
   "cell_type": "code",
   "execution_count": 14,
   "id": "5ddc3338",
   "metadata": {},
   "outputs": [
    {
     "data": {
      "text/plain": [
       "array([ 5849,  4583,  3000,  2583,  6000,  5417,  2333,  3036,  4006,\n",
       "       12841,  3200,  2500,  3073,  1853,  1299,  4950,  3596,  3510,\n",
       "        4887,  2600,  7660,  5955,  3365,  3717,  9560,  2799,  4226,\n",
       "        1442,  3750,  4166,  3167,  4692,  3500, 12500,  2275,  1828,\n",
       "        3667,  3748,  3600,  1800,  2400,  3941,  4695,  3410,  5649,\n",
       "        5821,  2645,  4000,  1928,  3086,  4230,  4616, 11500,  2708,\n",
       "        2132,  3366,  8080,  3357,  3029,  2609,  4945,  5726, 10750,\n",
       "        7100,  4300,  3208,  1875,  4755,  5266,  1000,  3333,  3846,\n",
       "        2395,  1378,  3988,  2366,  8566,  5695,  2958,  6250,  3273,\n",
       "        4133,  3620,  6782,  2484,  1977,  4188,  1759,  4288,  4843,\n",
       "       13650,  4652,  3816,  3052, 11417,  7333,  3800,  2071,  5316,\n",
       "        2929,  3572,  7451,  5050, 14583,  2214,  5568, 10408,  5667,\n",
       "        2137,  2957,  3692, 23803,  3865, 10513,  6080, 20166,  2014,\n",
       "        2718,  3459,  4895,  3316, 14999,  4200,  5042,  6950,  2698,\n",
       "       11757,  2330, 14866,  1538, 10000,  4860,  6277,  2577,  9166,\n",
       "        2281,  3254, 39999,  9538,  2980,  1863,  7933,  3089,  4167,\n",
       "        9323,  3707,  2439,  2237,  8000,  1820, 51763,  3522,  5708,\n",
       "        4344,  3497,  2045,  5516,  6400,  1916,  4600, 33846,  3625,\n",
       "       39147,  2178,  2383,   674,  9328,  4885, 12000,  6033,  3858,\n",
       "        4191,  3125,  8333,  1907,  3416, 11000,  4923,  3992,  3917,\n",
       "        4408,  3244,  3975,  2479,  3418,  3430,  7787,  5703,  3173,\n",
       "        3850,   150,  3727,  5000,  4283,  2221,  4009,  2971,  7578,\n",
       "        3250,  4735,  4758,  2491,  3716,  3189,  3155,  5500,  5746,\n",
       "        3463,  3812,  3315,  5819,  2510,  2965,  3406,  6050,  9703,\n",
       "        6608,  2882,  1809,  1668,  3427,  2661, 16250,  3083,  6045,\n",
       "        5250, 14683,  4931,  6083,  2060,  3481,  7200,  5166,  4095,\n",
       "        4708,  4333,  2876,  3237, 11146,  2833,  2620,  3900,  2750,\n",
       "        3993,  3103,  4100,  4053,  3927,  2301,  1811, 20667,  3158,\n",
       "        3704,  4124,  9508,  3075,  4400,  3153,  4416,  6875,  4666,\n",
       "        2875,  1625,  2000,  3762, 20233,  7667,  2917,  2927,  2507,\n",
       "        2473,  3399,  2058,  3541,  4342,  3601,  3166, 15000,  8666,\n",
       "        4917,  5818,  4384,  2935, 63337,  9833,  5503,  1830,  4160,\n",
       "        2647,  2378,  4554,  2499,  3523,  6333,  2625,  9083,  8750,\n",
       "        2666,  2423,  3813,  3875,  5167,  4723,  4750,  3013,  6822,\n",
       "        6216,  5124,  6325, 19730, 15759,  5185,  3062,  2764,  4817,\n",
       "        4310,  3069,  5391,  5941,  7167,  4566,  2346,  3010,  5488,\n",
       "        9167,  9504,  1993,  3100,  3276,  3180,  3033,  3902,  1500,\n",
       "        2889,  2755,  1963,  7441,  4547,  2167,  2213,  8300, 81000,\n",
       "        3867,  6256,  6096,  2253,  2149,  2995,  1600,  1025,  3246,\n",
       "        5829,  2720,  7250, 14880,  4606,  5935,  2920,  2717,  8624,\n",
       "        6500, 12876,  2425, 10047,  1926, 10416,  7142,  3660,  7901,\n",
       "        4707, 37719,  3466,  3539,  3340,  2769,  2309,  1958,  3948,\n",
       "        2483,  7085,  3859,  4301,  3708,  4354,  8334,  2083,  7740,\n",
       "        3015,  5191,  2947, 16692,   210,  3450,  2653,  4691,  5532,\n",
       "       16525,  6700,  2873, 16667,  4350,  3095, 10833,  3547, 18333,\n",
       "        2435,  2699,  5333,  3691, 17263,  3597,  3326,  4625,  2895,\n",
       "        6283,   645,  3159,  4865,  4050,  3814, 20833,  3583, 13262,\n",
       "        3598,  6065,  3283,  2130,  5815,  2031,  3074,  4683,  3400,\n",
       "        2192,  5677,  7948,  4680, 17500,  3775,  5285,  2679,  6783,\n",
       "        4281,  3588, 11250, 18165,  2550,  6133,  3617,  6417,  4608,\n",
       "        2138,  3652,  2239,  3017,  2768,  3358,  2526,  2785,  6633,\n",
       "        2492,  2454,  3593,  5468,  2667, 10139,  3887,  4180,  3675,\n",
       "       19484,  5923,  5800,  8799,  4467,  3417,  5116, 16666,  6125,\n",
       "        6406,  3087,  3229,  1782,  3182,  6540,  1836,  1880,  2787,\n",
       "        2297,  2165,  2726,  9357, 16120,  3833,  6383,  2987,  9963,\n",
       "        5780,   416,  2894,  3676,  3987,  3232,  2900,  4106,  8072,\n",
       "        7583], dtype=int64)"
      ]
     },
     "execution_count": 14,
     "metadata": {},
     "output_type": "execute_result"
    }
   ],
   "source": [
    "# ApplicantIncome:\n",
    "df.ApplicantIncome.unique() # Looks Good"
   ]
  },
  {
   "cell_type": "code",
   "execution_count": 15,
   "id": "4abe8fa0",
   "metadata": {},
   "outputs": [
    {
     "data": {
      "text/plain": [
       "array([0.00000000e+00, 1.50800000e+03, 2.35800000e+03, 4.19600000e+03,\n",
       "       1.51600000e+03, 2.50400000e+03, 1.52600000e+03, 1.09680000e+04,\n",
       "       7.00000000e+02, 1.84000000e+03, 8.10600000e+03, 2.84000000e+03,\n",
       "       1.08600000e+03, 3.50000000e+03, 5.62500000e+03, 1.91100000e+03,\n",
       "       1.91700000e+03, 2.92500000e+03, 2.25300000e+03, 1.04000000e+03,\n",
       "       2.08300000e+03, 3.36900000e+03, 1.66700000e+03, 3.00000000e+03,\n",
       "       2.06700000e+03, 1.33000000e+03, 1.45900000e+03, 7.21000000e+03,\n",
       "       1.66800000e+03, 1.21300000e+03, 2.33600000e+03, 3.44000000e+03,\n",
       "       2.27500000e+03, 1.64400000e+03, 1.16700000e+03, 1.59100000e+03,\n",
       "       2.20000000e+03, 2.25000000e+03, 2.85900000e+03, 3.79600000e+03,\n",
       "       3.44900000e+03, 4.59500000e+03, 2.25400000e+03, 3.06600000e+03,\n",
       "       1.87500000e+03, 1.77400000e+03, 4.75000000e+03, 3.02200000e+03,\n",
       "       4.00000000e+03, 2.16600000e+03, 1.88100000e+03, 2.53100000e+03,\n",
       "       2.00000000e+03, 2.11800000e+03, 4.16700000e+03, 2.90000000e+03,\n",
       "       5.65400000e+03, 1.82000000e+03, 2.30200000e+03, 9.97000000e+02,\n",
       "       3.54100000e+03, 3.26300000e+03, 3.80600000e+03, 3.58300000e+03,\n",
       "       7.54000000e+02, 1.03000000e+03, 1.12600000e+03, 3.60000000e+03,\n",
       "       2.33300000e+03, 4.11400000e+03, 2.28300000e+03, 1.39800000e+03,\n",
       "       2.14200000e+03, 2.66700000e+03, 8.98000000e+03, 2.01400000e+03,\n",
       "       1.64000000e+03, 3.85000000e+03, 2.56900000e+03, 1.92900000e+03,\n",
       "       7.75000000e+03, 1.43000000e+03, 2.03400000e+03, 4.48600000e+03,\n",
       "       1.42500000e+03, 1.66600000e+03, 8.30000000e+02, 3.75000000e+03,\n",
       "       1.04100000e+03, 1.28000000e+03, 1.44700000e+03, 3.16600000e+03,\n",
       "       3.33300000e+03, 1.76900000e+03, 7.36000000e+02, 1.96400000e+03,\n",
       "       1.61900000e+03, 1.13000000e+04, 1.45100000e+03, 7.25000000e+03,\n",
       "       5.06300000e+03, 2.13800000e+03, 5.29600000e+03, 2.58300000e+03,\n",
       "       2.36500000e+03, 2.81600000e+03, 2.50000000e+03, 1.08300000e+03,\n",
       "       1.25000000e+03, 3.02100000e+03, 9.83000000e+02, 1.80000000e+03,\n",
       "       1.77500000e+03, 2.38300000e+03, 1.71700000e+03, 2.79100000e+03,\n",
       "       1.01000000e+03, 1.69500000e+03, 2.05400000e+03, 2.59800000e+03,\n",
       "       1.77900000e+03, 1.26000000e+03, 5.00000000e+03, 1.98300000e+03,\n",
       "       5.70100000e+03, 1.30000000e+03, 4.41700000e+03, 4.33300000e+03,\n",
       "       1.84300000e+03, 1.86800000e+03, 3.89000000e+03, 2.16700000e+03,\n",
       "       7.10100000e+03, 2.10000000e+03, 4.25000000e+03, 2.20900000e+03,\n",
       "       3.44700000e+03, 1.38700000e+03, 1.81100000e+03, 1.56000000e+03,\n",
       "       1.85700000e+03, 2.22300000e+03, 1.84200000e+03, 3.27400000e+03,\n",
       "       2.42600000e+03, 8.00000000e+02, 9.85799988e+02, 3.05300000e+03,\n",
       "       2.41600000e+03, 3.33400000e+03, 2.54100000e+03, 2.93400000e+03,\n",
       "       1.75000000e+03, 1.80300000e+03, 1.86300000e+03, 2.40500000e+03,\n",
       "       2.13400000e+03, 1.89000000e+02, 1.59000000e+03, 2.98500000e+03,\n",
       "       4.98300000e+03, 2.16000000e+03, 2.45100000e+03, 1.79300000e+03,\n",
       "       1.83300000e+03, 4.49000000e+03, 6.88000000e+02, 4.60000000e+03,\n",
       "       1.58700000e+03, 1.22900000e+03, 2.33000000e+03, 2.45800000e+03,\n",
       "       3.23000000e+03, 2.16800000e+03, 4.58300000e+03, 6.25000000e+03,\n",
       "       5.05000000e+02, 3.16700000e+03, 3.66700000e+03, 3.03300000e+03,\n",
       "       5.26600000e+03, 7.87300000e+03, 1.98700000e+03, 9.23000000e+02,\n",
       "       4.99600000e+03, 4.23200000e+03, 1.60000000e+03, 3.13600000e+03,\n",
       "       2.41700000e+03, 2.11500000e+03, 1.62500000e+03, 1.40000000e+03,\n",
       "       4.84000000e+02, 2.00000000e+04, 2.40000000e+03, 2.03300000e+03,\n",
       "       3.23700000e+03, 2.77300000e+03, 1.41700000e+03, 1.71900000e+03,\n",
       "       4.30000000e+03, 1.61200008e+01, 2.34000000e+03, 1.85100000e+03,\n",
       "       1.12500000e+03, 5.06400000e+03, 1.99300000e+03, 8.33300000e+03,\n",
       "       1.21000000e+03, 1.37600000e+03, 1.71000000e+03, 1.54200000e+03,\n",
       "       1.25500000e+03, 1.45600000e+03, 1.73300000e+03, 2.46600000e+03,\n",
       "       4.08300000e+03, 2.18800000e+03, 1.66400000e+03, 2.91700000e+03,\n",
       "       2.07900000e+03, 1.50000000e+03, 4.64800000e+03, 1.01400000e+03,\n",
       "       1.87200000e+03, 1.60300000e+03, 3.15000000e+03, 2.43600000e+03,\n",
       "       2.78500000e+03, 1.13100000e+03, 2.15700000e+03, 9.13000000e+02,\n",
       "       1.70000000e+03, 2.85700000e+03, 4.41600000e+03, 3.68300000e+03,\n",
       "       5.62400000e+03, 5.30200000e+03, 1.48300000e+03, 6.66700000e+03,\n",
       "       3.01300000e+03, 1.28700000e+03, 2.00400000e+03, 2.03500000e+03,\n",
       "       6.66600000e+03, 3.66600000e+03, 3.42800000e+03, 1.63200000e+03,\n",
       "       1.91500000e+03, 1.74200000e+03, 1.42400000e+03, 7.16600000e+03,\n",
       "       2.08700000e+03, 1.30200000e+03, 5.50000000e+03, 2.04200000e+03,\n",
       "       3.90600000e+03, 5.36000000e+02, 2.84500000e+03, 2.52400000e+03,\n",
       "       6.63000000e+02, 1.95000000e+03, 1.78300000e+03, 2.01600000e+03,\n",
       "       2.37500000e+03, 3.25000000e+03, 4.26600000e+03, 1.03200000e+03,\n",
       "       2.66900000e+03, 2.30600000e+03, 2.42000000e+02, 2.06400000e+03,\n",
       "       4.61000000e+02, 2.21000000e+03, 2.73900000e+03, 2.23200000e+03,\n",
       "       3.38370000e+04, 1.52200000e+03, 3.41600000e+03, 3.30000000e+03,\n",
       "       1.00000000e+03, 4.16670000e+04, 2.79200000e+03, 4.30100000e+03,\n",
       "       3.80000000e+03, 1.41100000e+03, 2.40000000e+02])"
      ]
     },
     "execution_count": 15,
     "metadata": {},
     "output_type": "execute_result"
    }
   ],
   "source": [
    "# CoapplicantIncome:\n",
    "df.CoapplicantIncome.unique() # Looks Good"
   ]
  },
  {
   "cell_type": "code",
   "execution_count": 16,
   "id": "5cac311d",
   "metadata": {},
   "outputs": [
    {
     "data": {
      "text/plain": [
       "array([ nan, 128.,  66., 120., 141., 267.,  95., 158., 168., 349.,  70.,\n",
       "       109., 200., 114.,  17., 125., 100.,  76., 133., 115., 104., 315.,\n",
       "       116., 112., 151., 191., 122., 110.,  35., 201.,  74., 106., 320.,\n",
       "       144., 184.,  80.,  47.,  75., 134.,  96.,  88.,  44., 286.,  97.,\n",
       "       135., 180.,  99., 165., 258., 126., 312., 136., 172.,  81., 187.,\n",
       "       113., 176., 130., 111., 167., 265.,  50., 210., 175., 131., 188.,\n",
       "        25., 137., 160., 225., 216.,  94., 139., 152., 118., 185., 154.,\n",
       "        85., 259., 194.,  93., 370., 182., 650., 102., 290.,  84., 242.,\n",
       "       129.,  30., 244., 600., 255.,  98., 275., 121.,  63., 700.,  87.,\n",
       "       101., 495.,  67.,  73., 260., 108.,  58.,  48., 164., 170.,  83.,\n",
       "        90., 166., 124.,  55.,  59., 127., 214., 240.,  72.,  60., 138.,\n",
       "        42., 280., 140., 155., 123., 279., 192., 304., 330., 150., 207.,\n",
       "       436.,  78.,  54.,  89., 143., 105., 132., 480.,  56., 159., 300.,\n",
       "       376., 117.,  71., 490., 173.,  46., 228., 308., 236., 570., 380.,\n",
       "       296., 156., 103.,  45.,  65.,  53., 360.,  62., 218., 178., 239.,\n",
       "       405., 148., 190., 149., 153., 162., 230.,  86., 234., 246., 500.,\n",
       "       186., 119., 107., 209., 208., 243.,  40., 250., 311., 400., 161.,\n",
       "       196., 324., 157., 145., 181.,  26., 211.,   9., 205.,  36.,  61.,\n",
       "       146., 292., 142., 350., 496., 253.])"
      ]
     },
     "execution_count": 16,
     "metadata": {},
     "output_type": "execute_result"
    }
   ],
   "source": [
    "# LoanAmount: \n",
    "df.LoanAmount.unique() # Looks Good"
   ]
  },
  {
   "cell_type": "code",
   "execution_count": 17,
   "id": "3d55f6d8",
   "metadata": {},
   "outputs": [
    {
     "data": {
      "text/plain": [
       "360.0    512\n",
       "180.0     44\n",
       "480.0     15\n",
       "300.0     13\n",
       "240.0      4\n",
       "84.0       4\n",
       "120.0      3\n",
       "60.0       2\n",
       "36.0       2\n",
       "12.0       1\n",
       "Name: Loan_Amount_Term, dtype: int64"
      ]
     },
     "execution_count": 17,
     "metadata": {},
     "output_type": "execute_result"
    }
   ],
   "source": [
    "# Loan_Amount_Term:\n",
    "df.Loan_Amount_Term.value_counts() # Looks Good"
   ]
  },
  {
   "cell_type": "code",
   "execution_count": 18,
   "id": "3eef9b6d",
   "metadata": {},
   "outputs": [
    {
     "data": {
      "text/plain": [
       "array([ 1.,  0., nan])"
      ]
     },
     "execution_count": 18,
     "metadata": {},
     "output_type": "execute_result"
    }
   ],
   "source": [
    "# Credit_History: \n",
    "df.Credit_History.unique() # Looks Good"
   ]
  },
  {
   "cell_type": "code",
   "execution_count": 19,
   "id": "12d71801",
   "metadata": {},
   "outputs": [
    {
     "data": {
      "text/plain": [
       "array(['Urban', 'Rural', 'Semiurban'], dtype=object)"
      ]
     },
     "execution_count": 19,
     "metadata": {},
     "output_type": "execute_result"
    }
   ],
   "source": [
    "# Property_Area:\n",
    "df.Property_Area.unique() # Looks Good"
   ]
  },
  {
   "cell_type": "code",
   "execution_count": 20,
   "id": "2511692c",
   "metadata": {},
   "outputs": [
    {
     "data": {
      "text/plain": [
       "Y    422\n",
       "N    192\n",
       "Name: Loan_Status, dtype: int64"
      ]
     },
     "execution_count": 20,
     "metadata": {},
     "output_type": "execute_result"
    }
   ],
   "source": [
    "# Loan_Status:\n",
    "df.Loan_Status.value_counts() "
   ]
  },
  {
   "cell_type": "markdown",
   "id": "71d23441",
   "metadata": {},
   "source": [
    "* Although loan status looks good but I am going to change 'Y' to 1 and 'N' to 0 to help in calculating the impact of each feature on the acceptance rate in the analysis step."
   ]
  },
  {
   "cell_type": "code",
   "execution_count": 21,
   "id": "769a00f2",
   "metadata": {},
   "outputs": [],
   "source": [
    "df.Loan_Status = df.Loan_Status.replace(['Y','N'],[1,0]).astype('int')"
   ]
  },
  {
   "cell_type": "code",
   "execution_count": 22,
   "id": "586f0fe5",
   "metadata": {},
   "outputs": [
    {
     "data": {
      "text/plain": [
       "1    422\n",
       "0    192\n",
       "Name: Loan_Status, dtype: int64"
      ]
     },
     "execution_count": 22,
     "metadata": {},
     "output_type": "execute_result"
    }
   ],
   "source": [
    "# checking Loan_Status\n",
    "df.Loan_Status.value_counts() "
   ]
  },
  {
   "cell_type": "markdown",
   "id": "69b8c0fc",
   "metadata": {},
   "source": [
    "## Step 2: Feature Engineering\n",
    "\n",
    "We can create new features as follows:\n",
    "\n",
    "1. Income per Dependent: By dividing ApplicantIncome by the number of Dependents + 1 to include the applicant, which can be useful for assessing the financial stability and capability of the household to repay loans or manage expenses.\n",
    "\n",
    "2. Total Income: (ApplicantIncome + CoapplicantIncome) to assess the household's total financial strength.\n",
    "\n",
    "3. Binning: Binning (ApplicantIncome, CoapplicantIncome, total income, and LoanAmount) into categories based on predefined thresholds (e.g., small, medium, large).\n",
    "\n",
    "4. Loan_Amount_Term_category: by appling function for (Short, Medium, Long) Loan amount term.\n"
   ]
  },
  {
   "cell_type": "code",
   "execution_count": 23,
   "id": "4921f4eb",
   "metadata": {},
   "outputs": [
    {
     "name": "stdout",
     "output_type": "stream",
     "text": [
      "<class 'pandas.core.frame.DataFrame'>\n",
      "RangeIndex: 614 entries, 0 to 613\n",
      "Data columns (total 13 columns):\n",
      " #   Column             Non-Null Count  Dtype  \n",
      "---  ------             --------------  -----  \n",
      " 0   Loan_ID            614 non-null    object \n",
      " 1   Gender             601 non-null    object \n",
      " 2   Married            611 non-null    object \n",
      " 3   Dependents         599 non-null    float64\n",
      " 4   Education          614 non-null    object \n",
      " 5   Self_Employed      582 non-null    object \n",
      " 6   ApplicantIncome    614 non-null    int64  \n",
      " 7   CoapplicantIncome  614 non-null    float64\n",
      " 8   LoanAmount         592 non-null    float64\n",
      " 9   Loan_Amount_Term   600 non-null    float64\n",
      " 10  Credit_History     564 non-null    float64\n",
      " 11  Property_Area      614 non-null    object \n",
      " 12  Loan_Status        614 non-null    int32  \n",
      "dtypes: float64(5), int32(1), int64(1), object(6)\n",
      "memory usage: 60.1+ KB\n"
     ]
    }
   ],
   "source": [
    "df.info()"
   ]
  },
  {
   "cell_type": "code",
   "execution_count": 24,
   "id": "9b46bd40",
   "metadata": {},
   "outputs": [],
   "source": [
    "# Creating Income_per_Dependent feature\n",
    "df['Income_per_Dependent'] = df.ApplicantIncome/(df.Dependents + 1)"
   ]
  },
  {
   "cell_type": "code",
   "execution_count": 25,
   "id": "16fe86ed",
   "metadata": {},
   "outputs": [],
   "source": [
    "# Creating total income feature\n",
    "df['total_income'] = df.ApplicantIncome + df.CoapplicantIncome"
   ]
  },
  {
   "cell_type": "code",
   "execution_count": 26,
   "id": "16c189ff",
   "metadata": {},
   "outputs": [
    {
     "data": {
      "text/html": [
       "<div>\n",
       "<style scoped>\n",
       "    .dataframe tbody tr th:only-of-type {\n",
       "        vertical-align: middle;\n",
       "    }\n",
       "\n",
       "    .dataframe tbody tr th {\n",
       "        vertical-align: top;\n",
       "    }\n",
       "\n",
       "    .dataframe thead th {\n",
       "        text-align: right;\n",
       "    }\n",
       "</style>\n",
       "<table border=\"1\" class=\"dataframe\">\n",
       "  <thead>\n",
       "    <tr style=\"text-align: right;\">\n",
       "      <th></th>\n",
       "      <th>Dependents</th>\n",
       "      <th>ApplicantIncome</th>\n",
       "      <th>CoapplicantIncome</th>\n",
       "      <th>LoanAmount</th>\n",
       "      <th>Loan_Amount_Term</th>\n",
       "      <th>Credit_History</th>\n",
       "      <th>Loan_Status</th>\n",
       "      <th>Income_per_Dependent</th>\n",
       "      <th>total_income</th>\n",
       "    </tr>\n",
       "  </thead>\n",
       "  <tbody>\n",
       "    <tr>\n",
       "      <th>count</th>\n",
       "      <td>599.000000</td>\n",
       "      <td>614.000000</td>\n",
       "      <td>614.000000</td>\n",
       "      <td>592.000000</td>\n",
       "      <td>600.00000</td>\n",
       "      <td>564.000000</td>\n",
       "      <td>614.000000</td>\n",
       "      <td>599.000000</td>\n",
       "      <td>614.000000</td>\n",
       "    </tr>\n",
       "    <tr>\n",
       "      <th>mean</th>\n",
       "      <td>0.762938</td>\n",
       "      <td>5403.459283</td>\n",
       "      <td>1621.245798</td>\n",
       "      <td>146.412162</td>\n",
       "      <td>342.00000</td>\n",
       "      <td>0.842199</td>\n",
       "      <td>0.687296</td>\n",
       "      <td>3799.442126</td>\n",
       "      <td>7024.705081</td>\n",
       "    </tr>\n",
       "    <tr>\n",
       "      <th>std</th>\n",
       "      <td>1.015216</td>\n",
       "      <td>6109.041673</td>\n",
       "      <td>2926.248369</td>\n",
       "      <td>85.587325</td>\n",
       "      <td>65.12041</td>\n",
       "      <td>0.364878</td>\n",
       "      <td>0.463973</td>\n",
       "      <td>4344.621637</td>\n",
       "      <td>6458.663872</td>\n",
       "    </tr>\n",
       "    <tr>\n",
       "      <th>min</th>\n",
       "      <td>0.000000</td>\n",
       "      <td>150.000000</td>\n",
       "      <td>0.000000</td>\n",
       "      <td>9.000000</td>\n",
       "      <td>12.00000</td>\n",
       "      <td>0.000000</td>\n",
       "      <td>0.000000</td>\n",
       "      <td>70.000000</td>\n",
       "      <td>1442.000000</td>\n",
       "    </tr>\n",
       "    <tr>\n",
       "      <th>25%</th>\n",
       "      <td>0.000000</td>\n",
       "      <td>2877.500000</td>\n",
       "      <td>0.000000</td>\n",
       "      <td>100.000000</td>\n",
       "      <td>360.00000</td>\n",
       "      <td>1.000000</td>\n",
       "      <td>0.000000</td>\n",
       "      <td>1704.250000</td>\n",
       "      <td>4166.000000</td>\n",
       "    </tr>\n",
       "    <tr>\n",
       "      <th>50%</th>\n",
       "      <td>0.000000</td>\n",
       "      <td>3812.500000</td>\n",
       "      <td>1188.500000</td>\n",
       "      <td>128.000000</td>\n",
       "      <td>360.00000</td>\n",
       "      <td>1.000000</td>\n",
       "      <td>1.000000</td>\n",
       "      <td>2718.000000</td>\n",
       "      <td>5416.500000</td>\n",
       "    </tr>\n",
       "    <tr>\n",
       "      <th>75%</th>\n",
       "      <td>2.000000</td>\n",
       "      <td>5795.000000</td>\n",
       "      <td>2297.250000</td>\n",
       "      <td>168.000000</td>\n",
       "      <td>360.00000</td>\n",
       "      <td>1.000000</td>\n",
       "      <td>1.000000</td>\n",
       "      <td>4300.000000</td>\n",
       "      <td>7521.750000</td>\n",
       "    </tr>\n",
       "    <tr>\n",
       "      <th>max</th>\n",
       "      <td>3.000000</td>\n",
       "      <td>81000.000000</td>\n",
       "      <td>41667.000000</td>\n",
       "      <td>700.000000</td>\n",
       "      <td>480.00000</td>\n",
       "      <td>1.000000</td>\n",
       "      <td>1.000000</td>\n",
       "      <td>63337.000000</td>\n",
       "      <td>81000.000000</td>\n",
       "    </tr>\n",
       "  </tbody>\n",
       "</table>\n",
       "</div>"
      ],
      "text/plain": [
       "       Dependents  ApplicantIncome  CoapplicantIncome  LoanAmount  \\\n",
       "count  599.000000       614.000000         614.000000  592.000000   \n",
       "mean     0.762938      5403.459283        1621.245798  146.412162   \n",
       "std      1.015216      6109.041673        2926.248369   85.587325   \n",
       "min      0.000000       150.000000           0.000000    9.000000   \n",
       "25%      0.000000      2877.500000           0.000000  100.000000   \n",
       "50%      0.000000      3812.500000        1188.500000  128.000000   \n",
       "75%      2.000000      5795.000000        2297.250000  168.000000   \n",
       "max      3.000000     81000.000000       41667.000000  700.000000   \n",
       "\n",
       "       Loan_Amount_Term  Credit_History  Loan_Status  Income_per_Dependent  \\\n",
       "count         600.00000      564.000000   614.000000            599.000000   \n",
       "mean          342.00000        0.842199     0.687296           3799.442126   \n",
       "std            65.12041        0.364878     0.463973           4344.621637   \n",
       "min            12.00000        0.000000     0.000000             70.000000   \n",
       "25%           360.00000        1.000000     0.000000           1704.250000   \n",
       "50%           360.00000        1.000000     1.000000           2718.000000   \n",
       "75%           360.00000        1.000000     1.000000           4300.000000   \n",
       "max           480.00000        1.000000     1.000000          63337.000000   \n",
       "\n",
       "       total_income  \n",
       "count    614.000000  \n",
       "mean    7024.705081  \n",
       "std     6458.663872  \n",
       "min     1442.000000  \n",
       "25%     4166.000000  \n",
       "50%     5416.500000  \n",
       "75%     7521.750000  \n",
       "max    81000.000000  "
      ]
     },
     "execution_count": 26,
     "metadata": {},
     "output_type": "execute_result"
    }
   ],
   "source": [
    "df.describe()"
   ]
  },
  {
   "cell_type": "code",
   "execution_count": 27,
   "id": "4d261d22",
   "metadata": {},
   "outputs": [
    {
     "data": {
      "text/plain": [
       "Medium    306\n",
       "Large     154\n",
       "Small     154\n",
       "Name: ApplicantIncome_category, dtype: int64"
      ]
     },
     "execution_count": 27,
     "metadata": {},
     "output_type": "execute_result"
    }
   ],
   "source": [
    "# Creating ApplicantIncome_category\n",
    "# Define thresholds for binning\n",
    "thresholds = [0, 2877, 5795, float('inf')] # float('inf') indicate infinety as upper value\n",
    "# Define labels for the bins\n",
    "labels = ['Small', 'Medium', 'Large']\n",
    "# Create a new column 'ApplicantIncome_category' to store the bin categories\n",
    "df['ApplicantIncome_category'] = pd.cut(df['ApplicantIncome'], bins=thresholds, labels=labels,right=False).astype('object') # right=False to include boundery bin value to the left category\n",
    "df['ApplicantIncome_category'].value_counts()"
   ]
  },
  {
   "cell_type": "code",
   "execution_count": 28,
   "id": "c1ea336d",
   "metadata": {},
   "outputs": [
    {
     "data": {
      "text/plain": [
       "Small     307\n",
       "Large     154\n",
       "Medium    153\n",
       "Name: CoapplicantIncome_category, dtype: int64"
      ]
     },
     "execution_count": 28,
     "metadata": {},
     "output_type": "execute_result"
    }
   ],
   "source": [
    "# Creating CoapplicantIncome_category\n",
    "# Define thresholds for binning\n",
    "thresholds = [0, 1188, 2297, float('inf')] # float('inf') indicate infinety as upper value\n",
    "# Create a new column 'CoapplicantIncome_category' to store the bin categories\n",
    "df['CoapplicantIncome_category'] = pd.cut(df['CoapplicantIncome'], bins=thresholds, labels=labels,right=False).astype('object') # right=False to include boundery bin value to the left category\n",
    "df['CoapplicantIncome_category'].value_counts()"
   ]
  },
  {
   "cell_type": "code",
   "execution_count": 29,
   "id": "70f7a36c",
   "metadata": {},
   "outputs": [
    {
     "data": {
      "text/plain": [
       "Medium    308\n",
       "Large     154\n",
       "Small     152\n",
       "Name: total_income_category, dtype: int64"
      ]
     },
     "execution_count": 29,
     "metadata": {},
     "output_type": "execute_result"
    }
   ],
   "source": [
    "# Creating total_income_category\n",
    "# Define thresholds for binning\n",
    "thresholds = [0, 4166, 7521, float('inf')] # float('inf') indicate infinety as upper value\n",
    "# Create a new column 'total_income_category' to store the bin categories\n",
    "df['total_income_category'] = pd.cut(df['total_income'], bins=thresholds, labels=labels,right=False).astype('object') # right=False to include boundery bin value to the left category\n",
    "df['total_income_category'].value_counts()"
   ]
  },
  {
   "cell_type": "code",
   "execution_count": 30,
   "id": "9e2fdef7",
   "metadata": {},
   "outputs": [
    {
     "data": {
      "text/plain": [
       "Medium    304\n",
       "Large     149\n",
       "Small     139\n",
       "Name: LoanAmount_category, dtype: int64"
      ]
     },
     "execution_count": 30,
     "metadata": {},
     "output_type": "execute_result"
    }
   ],
   "source": [
    "# Creating LoanAmount_category\n",
    "# Define thresholds for binning\n",
    "thresholds = [0, 100, 168, float('inf')] # float('inf') indicate infinety as upper value\n",
    "# Create a new column 'LoanAmount_category' to store the bin categories\n",
    "df['LoanAmount_category'] = pd.cut(df['LoanAmount'], bins=thresholds, labels=labels,right=False).astype('object') # right=False to include boundery bin value to the left category\n",
    "df['LoanAmount_category'].value_counts()"
   ]
  },
  {
   "cell_type": "code",
   "execution_count": 31,
   "id": "c41e4411",
   "metadata": {},
   "outputs": [
    {
     "data": {
      "text/plain": [
       "Medium    529\n",
       "Short      56\n",
       "Long       29\n",
       "Name: Loan_Amount_Term_category, dtype: int64"
      ]
     },
     "execution_count": 31,
     "metadata": {},
     "output_type": "execute_result"
    }
   ],
   "source": [
    "# Function to categorize loan terms\n",
    "def categorize_loan_term(term):\n",
    "    if term <= 180:\n",
    "        return 'Short'\n",
    "    elif term <= 360:\n",
    "        return 'Medium'\n",
    "    else:\n",
    "        return 'Long'\n",
    "\n",
    "# Apply the function to create the Loan_Amount_Term_category column\n",
    "df['Loan_Amount_Term_category'] = df['Loan_Amount_Term'].apply(categorize_loan_term)\n",
    "df['Loan_Amount_Term_category'].value_counts()"
   ]
  },
  {
   "cell_type": "markdown",
   "id": "3e75622b",
   "metadata": {},
   "source": [
    "## Step 3: Analysis\n",
    "1. Statistical analysis:\n",
    "Explore important numerical and categorical features statistics in the data sets.\n",
    "2. Correlation & Correlation Heatmap:\n",
    "To uncover correlations between features and the extent of their relationships.\n",
    "3. Analysis and visualization:\n",
    "- Univariate analysis: Explores the distribution ratio of each feature within the dataset.\n",
    "- Bivariate analysis: Investigates the impact of each feature on the loan acceptance status."
   ]
  },
  {
   "cell_type": "markdown",
   "id": "3ef46789",
   "metadata": {},
   "source": [
    "### 1. Statistical analysis:"
   ]
  },
  {
   "cell_type": "code",
   "execution_count": 32,
   "id": "e8ae5191",
   "metadata": {},
   "outputs": [
    {
     "data": {
      "text/html": [
       "<div>\n",
       "<style scoped>\n",
       "    .dataframe tbody tr th:only-of-type {\n",
       "        vertical-align: middle;\n",
       "    }\n",
       "\n",
       "    .dataframe tbody tr th {\n",
       "        vertical-align: top;\n",
       "    }\n",
       "\n",
       "    .dataframe thead th {\n",
       "        text-align: right;\n",
       "    }\n",
       "</style>\n",
       "<table border=\"1\" class=\"dataframe\">\n",
       "  <thead>\n",
       "    <tr style=\"text-align: right;\">\n",
       "      <th></th>\n",
       "      <th>Dependents</th>\n",
       "      <th>ApplicantIncome</th>\n",
       "      <th>CoapplicantIncome</th>\n",
       "      <th>LoanAmount</th>\n",
       "      <th>Loan_Amount_Term</th>\n",
       "      <th>Credit_History</th>\n",
       "      <th>Loan_Status</th>\n",
       "      <th>Income_per_Dependent</th>\n",
       "      <th>total_income</th>\n",
       "    </tr>\n",
       "  </thead>\n",
       "  <tbody>\n",
       "    <tr>\n",
       "      <th>count</th>\n",
       "      <td>599.00</td>\n",
       "      <td>614.00</td>\n",
       "      <td>614.00</td>\n",
       "      <td>592.00</td>\n",
       "      <td>600.00</td>\n",
       "      <td>564.00</td>\n",
       "      <td>614.00</td>\n",
       "      <td>599.00</td>\n",
       "      <td>614.00</td>\n",
       "    </tr>\n",
       "    <tr>\n",
       "      <th>mean</th>\n",
       "      <td>0.76</td>\n",
       "      <td>5403.46</td>\n",
       "      <td>1621.25</td>\n",
       "      <td>146.41</td>\n",
       "      <td>342.00</td>\n",
       "      <td>0.84</td>\n",
       "      <td>0.69</td>\n",
       "      <td>3799.44</td>\n",
       "      <td>7024.71</td>\n",
       "    </tr>\n",
       "    <tr>\n",
       "      <th>std</th>\n",
       "      <td>1.02</td>\n",
       "      <td>6109.04</td>\n",
       "      <td>2926.25</td>\n",
       "      <td>85.59</td>\n",
       "      <td>65.12</td>\n",
       "      <td>0.36</td>\n",
       "      <td>0.46</td>\n",
       "      <td>4344.62</td>\n",
       "      <td>6458.66</td>\n",
       "    </tr>\n",
       "    <tr>\n",
       "      <th>min</th>\n",
       "      <td>0.00</td>\n",
       "      <td>150.00</td>\n",
       "      <td>0.00</td>\n",
       "      <td>9.00</td>\n",
       "      <td>12.00</td>\n",
       "      <td>0.00</td>\n",
       "      <td>0.00</td>\n",
       "      <td>70.00</td>\n",
       "      <td>1442.00</td>\n",
       "    </tr>\n",
       "    <tr>\n",
       "      <th>25%</th>\n",
       "      <td>0.00</td>\n",
       "      <td>2877.50</td>\n",
       "      <td>0.00</td>\n",
       "      <td>100.00</td>\n",
       "      <td>360.00</td>\n",
       "      <td>1.00</td>\n",
       "      <td>0.00</td>\n",
       "      <td>1704.25</td>\n",
       "      <td>4166.00</td>\n",
       "    </tr>\n",
       "    <tr>\n",
       "      <th>50%</th>\n",
       "      <td>0.00</td>\n",
       "      <td>3812.50</td>\n",
       "      <td>1188.50</td>\n",
       "      <td>128.00</td>\n",
       "      <td>360.00</td>\n",
       "      <td>1.00</td>\n",
       "      <td>1.00</td>\n",
       "      <td>2718.00</td>\n",
       "      <td>5416.50</td>\n",
       "    </tr>\n",
       "    <tr>\n",
       "      <th>75%</th>\n",
       "      <td>2.00</td>\n",
       "      <td>5795.00</td>\n",
       "      <td>2297.25</td>\n",
       "      <td>168.00</td>\n",
       "      <td>360.00</td>\n",
       "      <td>1.00</td>\n",
       "      <td>1.00</td>\n",
       "      <td>4300.00</td>\n",
       "      <td>7521.75</td>\n",
       "    </tr>\n",
       "    <tr>\n",
       "      <th>max</th>\n",
       "      <td>3.00</td>\n",
       "      <td>81000.00</td>\n",
       "      <td>41667.00</td>\n",
       "      <td>700.00</td>\n",
       "      <td>480.00</td>\n",
       "      <td>1.00</td>\n",
       "      <td>1.00</td>\n",
       "      <td>63337.00</td>\n",
       "      <td>81000.00</td>\n",
       "    </tr>\n",
       "  </tbody>\n",
       "</table>\n",
       "</div>"
      ],
      "text/plain": [
       "       Dependents  ApplicantIncome  CoapplicantIncome  LoanAmount  \\\n",
       "count      599.00           614.00             614.00      592.00   \n",
       "mean         0.76          5403.46            1621.25      146.41   \n",
       "std          1.02          6109.04            2926.25       85.59   \n",
       "min          0.00           150.00               0.00        9.00   \n",
       "25%          0.00          2877.50               0.00      100.00   \n",
       "50%          0.00          3812.50            1188.50      128.00   \n",
       "75%          2.00          5795.00            2297.25      168.00   \n",
       "max          3.00         81000.00           41667.00      700.00   \n",
       "\n",
       "       Loan_Amount_Term  Credit_History  Loan_Status  Income_per_Dependent  \\\n",
       "count            600.00          564.00       614.00                599.00   \n",
       "mean             342.00            0.84         0.69               3799.44   \n",
       "std               65.12            0.36         0.46               4344.62   \n",
       "min               12.00            0.00         0.00                 70.00   \n",
       "25%              360.00            1.00         0.00               1704.25   \n",
       "50%              360.00            1.00         1.00               2718.00   \n",
       "75%              360.00            1.00         1.00               4300.00   \n",
       "max              480.00            1.00         1.00              63337.00   \n",
       "\n",
       "       total_income  \n",
       "count        614.00  \n",
       "mean        7024.71  \n",
       "std         6458.66  \n",
       "min         1442.00  \n",
       "25%         4166.00  \n",
       "50%         5416.50  \n",
       "75%         7521.75  \n",
       "max        81000.00  "
      ]
     },
     "execution_count": 32,
     "metadata": {},
     "output_type": "execute_result"
    }
   ],
   "source": [
    "# statistcal description for numeric features\n",
    "round(df.describe(),2)"
   ]
  },
  {
   "cell_type": "code",
   "execution_count": 33,
   "id": "43e50068",
   "metadata": {},
   "outputs": [
    {
     "data": {
      "text/html": [
       "<div>\n",
       "<style scoped>\n",
       "    .dataframe tbody tr th:only-of-type {\n",
       "        vertical-align: middle;\n",
       "    }\n",
       "\n",
       "    .dataframe tbody tr th {\n",
       "        vertical-align: top;\n",
       "    }\n",
       "\n",
       "    .dataframe thead th {\n",
       "        text-align: right;\n",
       "    }\n",
       "</style>\n",
       "<table border=\"1\" class=\"dataframe\">\n",
       "  <thead>\n",
       "    <tr style=\"text-align: right;\">\n",
       "      <th></th>\n",
       "      <th>Loan_ID</th>\n",
       "      <th>Gender</th>\n",
       "      <th>Married</th>\n",
       "      <th>Education</th>\n",
       "      <th>Self_Employed</th>\n",
       "      <th>Property_Area</th>\n",
       "      <th>ApplicantIncome_category</th>\n",
       "      <th>CoapplicantIncome_category</th>\n",
       "      <th>total_income_category</th>\n",
       "      <th>LoanAmount_category</th>\n",
       "      <th>Loan_Amount_Term_category</th>\n",
       "    </tr>\n",
       "  </thead>\n",
       "  <tbody>\n",
       "    <tr>\n",
       "      <th>count</th>\n",
       "      <td>614</td>\n",
       "      <td>601</td>\n",
       "      <td>611</td>\n",
       "      <td>614</td>\n",
       "      <td>582</td>\n",
       "      <td>614</td>\n",
       "      <td>614</td>\n",
       "      <td>614</td>\n",
       "      <td>614</td>\n",
       "      <td>592</td>\n",
       "      <td>614</td>\n",
       "    </tr>\n",
       "    <tr>\n",
       "      <th>unique</th>\n",
       "      <td>614</td>\n",
       "      <td>2</td>\n",
       "      <td>2</td>\n",
       "      <td>2</td>\n",
       "      <td>2</td>\n",
       "      <td>3</td>\n",
       "      <td>3</td>\n",
       "      <td>3</td>\n",
       "      <td>3</td>\n",
       "      <td>3</td>\n",
       "      <td>3</td>\n",
       "    </tr>\n",
       "    <tr>\n",
       "      <th>top</th>\n",
       "      <td>LP001002</td>\n",
       "      <td>Male</td>\n",
       "      <td>Yes</td>\n",
       "      <td>Graduate</td>\n",
       "      <td>No</td>\n",
       "      <td>Semiurban</td>\n",
       "      <td>Medium</td>\n",
       "      <td>Small</td>\n",
       "      <td>Medium</td>\n",
       "      <td>Medium</td>\n",
       "      <td>Medium</td>\n",
       "    </tr>\n",
       "    <tr>\n",
       "      <th>freq</th>\n",
       "      <td>1</td>\n",
       "      <td>489</td>\n",
       "      <td>398</td>\n",
       "      <td>480</td>\n",
       "      <td>500</td>\n",
       "      <td>233</td>\n",
       "      <td>306</td>\n",
       "      <td>307</td>\n",
       "      <td>308</td>\n",
       "      <td>304</td>\n",
       "      <td>529</td>\n",
       "    </tr>\n",
       "  </tbody>\n",
       "</table>\n",
       "</div>"
      ],
      "text/plain": [
       "         Loan_ID Gender Married Education Self_Employed Property_Area  \\\n",
       "count        614    601     611       614           582           614   \n",
       "unique       614      2       2         2             2             3   \n",
       "top     LP001002   Male     Yes  Graduate            No     Semiurban   \n",
       "freq           1    489     398       480           500           233   \n",
       "\n",
       "       ApplicantIncome_category CoapplicantIncome_category  \\\n",
       "count                       614                        614   \n",
       "unique                        3                          3   \n",
       "top                      Medium                      Small   \n",
       "freq                        306                        307   \n",
       "\n",
       "       total_income_category LoanAmount_category Loan_Amount_Term_category  \n",
       "count                    614                 592                       614  \n",
       "unique                     3                   3                         3  \n",
       "top                   Medium              Medium                    Medium  \n",
       "freq                     308                 304                       529  "
      ]
     },
     "execution_count": 33,
     "metadata": {},
     "output_type": "execute_result"
    }
   ],
   "source": [
    "# statistcal description for categorical features\n",
    "df.describe(include=\"O\")"
   ]
  },
  {
   "cell_type": "markdown",
   "id": "ee5e0cbb",
   "metadata": {},
   "source": [
    "* **First Statistical Description for Numeric Features:** \n",
    "\n",
    "    1. **Dependents:** Ranges from **0** to **3**, as the median 50% = 0 indicate that most of the applicant have no dependents. \n",
    "\n",
    "    2. **ApplicantIncome:** Ranges from **150** to **81000**, The mean income is **5403.46**, and the median is **3812.50**. As the mean is greater than the median, it reflects that the data is right-skewed, and there are outliers in the upper ApplicantIncome values.\n",
    "\n",
    "    3. **CoapplicantIncome:** Ranges from **0** indicate no CoapplicantIncome provided to **41667**. The mean CoapplicantIncome is **1621.25**, and the median is **1188.50**. As the mean is greater than the median, it reflects that the data is right-skewed, and there are outliers in the upper CoapplicantIncome values.\n",
    "        \n",
    "    4. **LoanAmount:** Ranges from **9,000** to **700,000**. The mean LoanAmount is **146,410**, and the median is **128,000**.  As the mean is greater than the median, it reflects that the data is right-skewed, and there are outliers in the upper LoanAmount values.\n",
    "    \n",
    "    5. **Loan_Amount_Term:** Ranges from **12** to **480** Months. As Q1 = Q2 = Q3 = 360 indicate that most of Loan_Amount_Term in the data is 360 Months.\n",
    "    \n",
    "    6. **Credit_History:** Ranges from **0** to **1**, 0 referring to applicant Not meets guidelines and 1 Yes applicant Credit history meets guidelines. The mean of Credit_History is **0.84**, indicating that **84%** of the applicant in the data set their Credit history meet the guidelines.\n",
    "    \n",
    "    7. **Loan_Status:** Ranges from **0** to **1**, 0 referring to applicant Loan status rejected and 1 Yes applicant applicant Loan status approved or accepted. The mean of Loan_Status is **0.69**, indicating that **69%** of the applicant in the data set their Loan_Status approved or accepted.\n",
    "    \n",
    "    8. **Income_per_Dependent:** Ranges from **70** to **63337**, The mean income is **3799.44**, and the median is **2718**. As the mean is greater than the median, it reflects that the data is right-skewed, and there are outliers in the upper Income_per_Dependent values.\n",
    "    \n",
    "    9. **total_income:** Ranges from **1442.** to **81000**, The mean total income is **7024.71**, and the median is **5416.50**. As the mean is greater than the median, it reflects that the data is right-skewed, and there are outliers in the upper total_income values.\n",
    "    \n",
    "---\n",
    "\n",
    "* **Second Statistical Description for Categorical Features:**\n",
    "    1. **Gender:** Out of **2** unique Gender, the most frequented Gender is **Male**, which has **489** values out of 601 total applicant Male and Female.\n",
    "\n",
    "    2. **Married:** Out of **2** unique applicants Married status, the most frequented Married status is **Yes**, which has **398** out of 611 total Married status.\n",
    "\n",
    "    3. **Education:** Out of **2** unique applicants Education status, the most frequented Education status is **Graduate**, which has **480** values out of the 614 total Education status (Graduate/Under Graduate).\n",
    "\n",
    "    4. **Self_Employed:** Out of **2** unique Self_Employed status, the most frequented status is **No**, which is repeated **500** times out of the 582 total Self_Employed status  (Yes/No). indicate that most of the applicant are employees.\n",
    "\n",
    "    5. **Property_Area:** Out of **3** unique Property_Area, the most frequented Property_Area is **Semiurban**, with **233** occurrences out of the 614 total applicants.\n",
    "\n",
    "    6. **ApplicantIncome_category:** Out of **3** unique ApplicantIncome_category, the most frequented is **Medium**, with **306** occurrences out of the 614 total applicants.\n",
    "\n",
    "    7. **CoapplicantIncome_category:** Out of **3** unique CoapplicantIncome_category, the most frequented is **Small**, with **307** occurrences out of the 614 total applicants.\n",
    "    \n",
    "    8. **total_income_category:** Out of **3** unique total_income_category, the most frequented is **Medium**, with **308** occurrences out of the 614 total applicants.\n",
    "    \n",
    "    9. **LoanAmount_category:** Out of **3** unique total_income_category, the most frequented is **Medium**, with **304** occurrences out of the 614 total applicants.\n",
    "    \n",
    "    10. **Loan_Amount_Term_category:** Out of **3** unique Loan_Amount_Term_category, the most frequented is **Medium**, with **529** occurrences out of the 614 total applicants."
   ]
  },
  {
   "cell_type": "markdown",
   "id": "add3531a",
   "metadata": {},
   "source": [
    "## 2. Correlation & Correlation Heatmap:"
   ]
  },
  {
   "cell_type": "code",
   "execution_count": 34,
   "id": "03ad80eb",
   "metadata": {},
   "outputs": [
    {
     "data": {
      "text/html": [
       "<div>\n",
       "<style scoped>\n",
       "    .dataframe tbody tr th:only-of-type {\n",
       "        vertical-align: middle;\n",
       "    }\n",
       "\n",
       "    .dataframe tbody tr th {\n",
       "        vertical-align: top;\n",
       "    }\n",
       "\n",
       "    .dataframe thead th {\n",
       "        text-align: right;\n",
       "    }\n",
       "</style>\n",
       "<table border=\"1\" class=\"dataframe\">\n",
       "  <thead>\n",
       "    <tr style=\"text-align: right;\">\n",
       "      <th></th>\n",
       "      <th>Dependents</th>\n",
       "      <th>ApplicantIncome</th>\n",
       "      <th>CoapplicantIncome</th>\n",
       "      <th>LoanAmount</th>\n",
       "      <th>Loan_Amount_Term</th>\n",
       "      <th>Credit_History</th>\n",
       "      <th>Loan_Status</th>\n",
       "      <th>Income_per_Dependent</th>\n",
       "      <th>total_income</th>\n",
       "    </tr>\n",
       "  </thead>\n",
       "  <tbody>\n",
       "    <tr>\n",
       "      <th>Dependents</th>\n",
       "      <td>1.00</td>\n",
       "      <td>0.12</td>\n",
       "      <td>0.03</td>\n",
       "      <td>0.16</td>\n",
       "      <td>-0.10</td>\n",
       "      <td>-0.05</td>\n",
       "      <td>0.01</td>\n",
       "      <td>-0.29</td>\n",
       "      <td>0.12</td>\n",
       "    </tr>\n",
       "    <tr>\n",
       "      <th>ApplicantIncome</th>\n",
       "      <td>0.12</td>\n",
       "      <td>1.00</td>\n",
       "      <td>-0.12</td>\n",
       "      <td>0.57</td>\n",
       "      <td>-0.05</td>\n",
       "      <td>-0.01</td>\n",
       "      <td>-0.00</td>\n",
       "      <td>0.78</td>\n",
       "      <td>0.89</td>\n",
       "    </tr>\n",
       "    <tr>\n",
       "      <th>CoapplicantIncome</th>\n",
       "      <td>0.03</td>\n",
       "      <td>-0.12</td>\n",
       "      <td>1.00</td>\n",
       "      <td>0.19</td>\n",
       "      <td>-0.06</td>\n",
       "      <td>-0.00</td>\n",
       "      <td>-0.06</td>\n",
       "      <td>-0.10</td>\n",
       "      <td>0.34</td>\n",
       "    </tr>\n",
       "    <tr>\n",
       "      <th>LoanAmount</th>\n",
       "      <td>0.16</td>\n",
       "      <td>0.57</td>\n",
       "      <td>0.19</td>\n",
       "      <td>1.00</td>\n",
       "      <td>0.04</td>\n",
       "      <td>-0.01</td>\n",
       "      <td>-0.04</td>\n",
       "      <td>0.44</td>\n",
       "      <td>0.62</td>\n",
       "    </tr>\n",
       "    <tr>\n",
       "      <th>Loan_Amount_Term</th>\n",
       "      <td>-0.10</td>\n",
       "      <td>-0.05</td>\n",
       "      <td>-0.06</td>\n",
       "      <td>0.04</td>\n",
       "      <td>1.00</td>\n",
       "      <td>0.00</td>\n",
       "      <td>-0.02</td>\n",
       "      <td>-0.01</td>\n",
       "      <td>-0.07</td>\n",
       "    </tr>\n",
       "    <tr>\n",
       "      <th>Credit_History</th>\n",
       "      <td>-0.05</td>\n",
       "      <td>-0.01</td>\n",
       "      <td>-0.00</td>\n",
       "      <td>-0.01</td>\n",
       "      <td>0.00</td>\n",
       "      <td>1.00</td>\n",
       "      <td>0.56</td>\n",
       "      <td>0.03</td>\n",
       "      <td>-0.02</td>\n",
       "    </tr>\n",
       "    <tr>\n",
       "      <th>Loan_Status</th>\n",
       "      <td>0.01</td>\n",
       "      <td>-0.00</td>\n",
       "      <td>-0.06</td>\n",
       "      <td>-0.04</td>\n",
       "      <td>-0.02</td>\n",
       "      <td>0.56</td>\n",
       "      <td>1.00</td>\n",
       "      <td>-0.02</td>\n",
       "      <td>-0.03</td>\n",
       "    </tr>\n",
       "    <tr>\n",
       "      <th>Income_per_Dependent</th>\n",
       "      <td>-0.29</td>\n",
       "      <td>0.78</td>\n",
       "      <td>-0.10</td>\n",
       "      <td>0.44</td>\n",
       "      <td>-0.01</td>\n",
       "      <td>0.03</td>\n",
       "      <td>-0.02</td>\n",
       "      <td>1.00</td>\n",
       "      <td>0.69</td>\n",
       "    </tr>\n",
       "    <tr>\n",
       "      <th>total_income</th>\n",
       "      <td>0.12</td>\n",
       "      <td>0.89</td>\n",
       "      <td>0.34</td>\n",
       "      <td>0.62</td>\n",
       "      <td>-0.07</td>\n",
       "      <td>-0.02</td>\n",
       "      <td>-0.03</td>\n",
       "      <td>0.69</td>\n",
       "      <td>1.00</td>\n",
       "    </tr>\n",
       "  </tbody>\n",
       "</table>\n",
       "</div>"
      ],
      "text/plain": [
       "                      Dependents  ApplicantIncome  CoapplicantIncome  \\\n",
       "Dependents                  1.00             0.12               0.03   \n",
       "ApplicantIncome             0.12             1.00              -0.12   \n",
       "CoapplicantIncome           0.03            -0.12               1.00   \n",
       "LoanAmount                  0.16             0.57               0.19   \n",
       "Loan_Amount_Term           -0.10            -0.05              -0.06   \n",
       "Credit_History             -0.05            -0.01              -0.00   \n",
       "Loan_Status                 0.01            -0.00              -0.06   \n",
       "Income_per_Dependent       -0.29             0.78              -0.10   \n",
       "total_income                0.12             0.89               0.34   \n",
       "\n",
       "                      LoanAmount  Loan_Amount_Term  Credit_History  \\\n",
       "Dependents                  0.16             -0.10           -0.05   \n",
       "ApplicantIncome             0.57             -0.05           -0.01   \n",
       "CoapplicantIncome           0.19             -0.06           -0.00   \n",
       "LoanAmount                  1.00              0.04           -0.01   \n",
       "Loan_Amount_Term            0.04              1.00            0.00   \n",
       "Credit_History             -0.01              0.00            1.00   \n",
       "Loan_Status                -0.04             -0.02            0.56   \n",
       "Income_per_Dependent        0.44             -0.01            0.03   \n",
       "total_income                0.62             -0.07           -0.02   \n",
       "\n",
       "                      Loan_Status  Income_per_Dependent  total_income  \n",
       "Dependents                   0.01                 -0.29          0.12  \n",
       "ApplicantIncome             -0.00                  0.78          0.89  \n",
       "CoapplicantIncome           -0.06                 -0.10          0.34  \n",
       "LoanAmount                  -0.04                  0.44          0.62  \n",
       "Loan_Amount_Term            -0.02                 -0.01         -0.07  \n",
       "Credit_History               0.56                  0.03         -0.02  \n",
       "Loan_Status                  1.00                 -0.02         -0.03  \n",
       "Income_per_Dependent        -0.02                  1.00          0.69  \n",
       "total_income                -0.03                  0.69          1.00  "
      ]
     },
     "execution_count": 34,
     "metadata": {},
     "output_type": "execute_result"
    }
   ],
   "source": [
    "# Correlation show the relationship between features.\n",
    "correlation_matrix = round(df.corr(),2)\n",
    "correlation_matrix"
   ]
  },
  {
   "cell_type": "code",
   "execution_count": 35,
   "id": "a1a117ad",
   "metadata": {},
   "outputs": [
    {
     "data": {
      "image/png": "[encoded data removed]",
      "text/plain": [
       "<Figure size 800x400 with 2 Axes>"
      ]
     },
     "metadata": {},
     "output_type": "display_data"
    }
   ],
   "source": [
    "# heatmap visualize the correlation \n",
    "plt.figure(figsize=(8, 4))\n",
    "sns.heatmap(correlation_matrix, annot=True, cmap='coolwarm', fmt='.2f')\n",
    "plt.title('Correlation Heatmap')\n",
    "plt.show()"
   ]
  },
  {
   "cell_type": "markdown",
   "id": "82ab76c2",
   "metadata": {},
   "source": [
    "### Correlation Analysis Summary\n",
    "\n",
    "**1. Positive Correlations:**\n",
    "\n",
    "There is a moderate positive correlation (0.57) between 'ApplicantIncome' and 'LoanAmount', indicating that higher applicant incomes tend to be associated with larger loan amounts.\n",
    "'Total_income' also shows a strong positive correlation (0.89) with 'ApplicantIncome', which is expected since total income includes applicant income.\n",
    "'LoanAmount' and 'total_income' also exhibit a strong positive correlation of 0.62, suggesting that higher total incomes are associated with larger loan amounts.\n",
    "\n",
    "**2. Negative Correlations:**\n",
    "\n",
    "There is a week negative correlation (-0.29) between 'Income_per_Dependent' and 'Dependents', implying that as income per dependent increases, the number of dependents tends to decrease.\n",
    "'Loan_Amount_Term' shows a slight negative correlation (-0.10) with 'Dependents', indicating a weak association between loan term and the number of dependents.\n",
    "\n",
    "**3. Correlation with 'Loan_Status':**\n",
    "\n",
    "'Loan_Status' has a moderate positive correlation (0.56) with 'Credit_History', suggesting that a good credit history is positively associated with loan approval status.\n",
    "Other features like 'ApplicantIncome', 'CoapplicantIncome', 'LoanAmount', 'total_income', and 'Income_per_Dependent' have weaker correlations with 'Loan_Status', suggesting they might have less direct influence on loan approval decisions.\n",
    "\n",
    "*Note: Correlation does not imply causation, and these interpretations are based on the observed associations in the data.*"
   ]
  },
  {
   "cell_type": "markdown",
   "id": "72454c18",
   "metadata": {},
   "source": [
    "## 3. Analysis and visualization\n",
    "## - Univariate analysis: Explores the distribution ratio of each feature within the dataset."
   ]
  },
  {
   "cell_type": "code",
   "execution_count": 36,
   "id": "f12cd632",
   "metadata": {},
   "outputs": [
    {
     "data": {
      "text/html": [
       "<div>\n",
       "<style scoped>\n",
       "    .dataframe tbody tr th:only-of-type {\n",
       "        vertical-align: middle;\n",
       "    }\n",
       "\n",
       "    .dataframe tbody tr th {\n",
       "        vertical-align: top;\n",
       "    }\n",
       "\n",
       "    .dataframe thead th {\n",
       "        text-align: right;\n",
       "    }\n",
       "</style>\n",
       "<table border=\"1\" class=\"dataframe\">\n",
       "  <thead>\n",
       "    <tr style=\"text-align: right;\">\n",
       "      <th></th>\n",
       "      <th>Loan_ID</th>\n",
       "      <th>Gender</th>\n",
       "      <th>Married</th>\n",
       "      <th>Dependents</th>\n",
       "      <th>Education</th>\n",
       "      <th>Self_Employed</th>\n",
       "      <th>ApplicantIncome</th>\n",
       "      <th>CoapplicantIncome</th>\n",
       "      <th>LoanAmount</th>\n",
       "      <th>Loan_Amount_Term</th>\n",
       "      <th>Credit_History</th>\n",
       "      <th>Property_Area</th>\n",
       "      <th>Loan_Status</th>\n",
       "      <th>Income_per_Dependent</th>\n",
       "      <th>total_income</th>\n",
       "      <th>ApplicantIncome_category</th>\n",
       "      <th>CoapplicantIncome_category</th>\n",
       "      <th>total_income_category</th>\n",
       "      <th>LoanAmount_category</th>\n",
       "      <th>Loan_Amount_Term_category</th>\n",
       "    </tr>\n",
       "  </thead>\n",
       "  <tbody>\n",
       "    <tr>\n",
       "      <th>0</th>\n",
       "      <td>LP001002</td>\n",
       "      <td>Male</td>\n",
       "      <td>No</td>\n",
       "      <td>0.0</td>\n",
       "      <td>Graduate</td>\n",
       "      <td>No</td>\n",
       "      <td>5849</td>\n",
       "      <td>0.0</td>\n",
       "      <td>NaN</td>\n",
       "      <td>360.0</td>\n",
       "      <td>1.0</td>\n",
       "      <td>Urban</td>\n",
       "      <td>1</td>\n",
       "      <td>5849.0</td>\n",
       "      <td>5849.0</td>\n",
       "      <td>Large</td>\n",
       "      <td>Small</td>\n",
       "      <td>Medium</td>\n",
       "      <td>NaN</td>\n",
       "      <td>Medium</td>\n",
       "    </tr>\n",
       "    <tr>\n",
       "      <th>1</th>\n",
       "      <td>LP001003</td>\n",
       "      <td>Male</td>\n",
       "      <td>Yes</td>\n",
       "      <td>1.0</td>\n",
       "      <td>Graduate</td>\n",
       "      <td>No</td>\n",
       "      <td>4583</td>\n",
       "      <td>1508.0</td>\n",
       "      <td>128.0</td>\n",
       "      <td>360.0</td>\n",
       "      <td>1.0</td>\n",
       "      <td>Rural</td>\n",
       "      <td>0</td>\n",
       "      <td>2291.5</td>\n",
       "      <td>6091.0</td>\n",
       "      <td>Medium</td>\n",
       "      <td>Medium</td>\n",
       "      <td>Medium</td>\n",
       "      <td>Medium</td>\n",
       "      <td>Medium</td>\n",
       "    </tr>\n",
       "    <tr>\n",
       "      <th>2</th>\n",
       "      <td>LP001005</td>\n",
       "      <td>Male</td>\n",
       "      <td>Yes</td>\n",
       "      <td>0.0</td>\n",
       "      <td>Graduate</td>\n",
       "      <td>Yes</td>\n",
       "      <td>3000</td>\n",
       "      <td>0.0</td>\n",
       "      <td>66.0</td>\n",
       "      <td>360.0</td>\n",
       "      <td>1.0</td>\n",
       "      <td>Urban</td>\n",
       "      <td>1</td>\n",
       "      <td>3000.0</td>\n",
       "      <td>3000.0</td>\n",
       "      <td>Medium</td>\n",
       "      <td>Small</td>\n",
       "      <td>Small</td>\n",
       "      <td>Small</td>\n",
       "      <td>Medium</td>\n",
       "    </tr>\n",
       "    <tr>\n",
       "      <th>3</th>\n",
       "      <td>LP001006</td>\n",
       "      <td>Male</td>\n",
       "      <td>Yes</td>\n",
       "      <td>0.0</td>\n",
       "      <td>Not Graduate</td>\n",
       "      <td>No</td>\n",
       "      <td>2583</td>\n",
       "      <td>2358.0</td>\n",
       "      <td>120.0</td>\n",
       "      <td>360.0</td>\n",
       "      <td>1.0</td>\n",
       "      <td>Urban</td>\n",
       "      <td>1</td>\n",
       "      <td>2583.0</td>\n",
       "      <td>4941.0</td>\n",
       "      <td>Small</td>\n",
       "      <td>Large</td>\n",
       "      <td>Medium</td>\n",
       "      <td>Medium</td>\n",
       "      <td>Medium</td>\n",
       "    </tr>\n",
       "    <tr>\n",
       "      <th>4</th>\n",
       "      <td>LP001008</td>\n",
       "      <td>Male</td>\n",
       "      <td>No</td>\n",
       "      <td>0.0</td>\n",
       "      <td>Graduate</td>\n",
       "      <td>No</td>\n",
       "      <td>6000</td>\n",
       "      <td>0.0</td>\n",
       "      <td>141.0</td>\n",
       "      <td>360.0</td>\n",
       "      <td>1.0</td>\n",
       "      <td>Urban</td>\n",
       "      <td>1</td>\n",
       "      <td>6000.0</td>\n",
       "      <td>6000.0</td>\n",
       "      <td>Large</td>\n",
       "      <td>Small</td>\n",
       "      <td>Medium</td>\n",
       "      <td>Medium</td>\n",
       "      <td>Medium</td>\n",
       "    </tr>\n",
       "  </tbody>\n",
       "</table>\n",
       "</div>"
      ],
      "text/plain": [
       "    Loan_ID Gender Married  Dependents     Education Self_Employed  \\\n",
       "0  LP001002   Male      No         0.0      Graduate            No   \n",
       "1  LP001003   Male     Yes         1.0      Graduate            No   \n",
       "2  LP001005   Male     Yes         0.0      Graduate           Yes   \n",
       "3  LP001006   Male     Yes         0.0  Not Graduate            No   \n",
       "4  LP001008   Male      No         0.0      Graduate            No   \n",
       "\n",
       "   ApplicantIncome  CoapplicantIncome  LoanAmount  Loan_Amount_Term  \\\n",
       "0             5849                0.0         NaN             360.0   \n",
       "1             4583             1508.0       128.0             360.0   \n",
       "2             3000                0.0        66.0             360.0   \n",
       "3             2583             2358.0       120.0             360.0   \n",
       "4             6000                0.0       141.0             360.0   \n",
       "\n",
       "   Credit_History Property_Area  Loan_Status  Income_per_Dependent  \\\n",
       "0             1.0         Urban            1                5849.0   \n",
       "1             1.0         Rural            0                2291.5   \n",
       "2             1.0         Urban            1                3000.0   \n",
       "3             1.0         Urban            1                2583.0   \n",
       "4             1.0         Urban            1                6000.0   \n",
       "\n",
       "   total_income ApplicantIncome_category CoapplicantIncome_category  \\\n",
       "0        5849.0                    Large                      Small   \n",
       "1        6091.0                   Medium                     Medium   \n",
       "2        3000.0                   Medium                      Small   \n",
       "3        4941.0                    Small                      Large   \n",
       "4        6000.0                    Large                      Small   \n",
       "\n",
       "  total_income_category LoanAmount_category Loan_Amount_Term_category  \n",
       "0                Medium                 NaN                    Medium  \n",
       "1                Medium              Medium                    Medium  \n",
       "2                 Small               Small                    Medium  \n",
       "3                Medium              Medium                    Medium  \n",
       "4                Medium              Medium                    Medium  "
      ]
     },
     "execution_count": 36,
     "metadata": {},
     "output_type": "execute_result"
    }
   ],
   "source": [
    "df.head()"
   ]
  },
  {
   "cell_type": "code",
   "execution_count": 37,
   "id": "6ecf2357",
   "metadata": {},
   "outputs": [
    {
     "data": {
      "text/plain": [
       "Male      489\n",
       "Female    112\n",
       "Name: Gender, dtype: int64"
      ]
     },
     "execution_count": 37,
     "metadata": {},
     "output_type": "execute_result"
    }
   ],
   "source": [
    "# 1. What is the percentage distribution of gender in the dataset?\n",
    "gender_dist = df.Gender.value_counts()\n",
    "gender_dist "
   ]
  },
  {
   "cell_type": "code",
   "execution_count": 38,
   "id": "f02fe081",
   "metadata": {},
   "outputs": [
    {
     "data": {
      "image/png": "[encoded data removed]",
      "text/plain": [
       "<Figure size 640x480 with 1 Axes>"
      ]
     },
     "metadata": {},
     "output_type": "display_data"
    }
   ],
   "source": [
    "# pie chart show the percentage of Gender in dataset\n",
    "plt.pie(gender_dist, labels=gender_dist.index, autopct='%1.1f%%')\n",
    "plt.title('percentage of Gender in the dataset')\n",
    "plt.show()"
   ]
  },
  {
   "cell_type": "markdown",
   "id": "3a475c62",
   "metadata": {},
   "source": [
    "* 81.4 % of applicant in the data set are Male"
   ]
  },
  {
   "cell_type": "code",
   "execution_count": 39,
   "id": "8de79373",
   "metadata": {},
   "outputs": [
    {
     "data": {
      "text/plain": [
       "Yes    398\n",
       "No     213\n",
       "Name: Married, dtype: int64"
      ]
     },
     "execution_count": 39,
     "metadata": {},
     "output_type": "execute_result"
    }
   ],
   "source": [
    "# 2. What is the percentage distribution of Married status in the dataset?\n",
    "married_dist = df.Married.value_counts()\n",
    "married_dist "
   ]
  },
  {
   "cell_type": "code",
   "execution_count": 40,
   "id": "f808ff53",
   "metadata": {},
   "outputs": [
    {
     "data": {
      "image/png": "[encoded data removed]",
      "text/plain": [
       "<Figure size 640x480 with 1 Axes>"
      ]
     },
     "metadata": {},
     "output_type": "display_data"
    }
   ],
   "source": [
    "# pie chart show the percentage of Married status in dataset\n",
    "plt.pie(married_dist, labels=married_dist.index, autopct='%1.1f%%')\n",
    "plt.title('percentage of Married status in the dataset')\n",
    "plt.show()"
   ]
  },
  {
   "cell_type": "markdown",
   "id": "55818277",
   "metadata": {},
   "source": [
    "* 65.1 % are Married applicant in the dataset"
   ]
  },
  {
   "cell_type": "code",
   "execution_count": 41,
   "id": "cab27374",
   "metadata": {},
   "outputs": [
    {
     "data": {
      "text/plain": [
       "0.0    56.188925\n",
       "1.0    16.612378\n",
       "2.0    16.449511\n",
       "3.0     8.306189\n",
       "Name: Dependents, dtype: float64"
      ]
     },
     "execution_count": 41,
     "metadata": {},
     "output_type": "execute_result"
    }
   ],
   "source": [
    "# 3. What is the percentage distribution of Dependents in the dataset?\n",
    "dependent_dist = df.Dependents.value_counts()/df.shape[0] * 100\n",
    "dependent_dist"
   ]
  },
  {
   "cell_type": "code",
   "execution_count": 42,
   "id": "a6bb71f1",
   "metadata": {},
   "outputs": [
    {
     "data": {
      "image/png": "[encoded data removed]",
      "text/plain": [
       "<Figure size 600x400 with 1 Axes>"
      ]
     },
     "metadata": {},
     "output_type": "display_data"
    }
   ],
   "source": [
    "# Barplot chart Reflect the percentage distribution of Dependents in the dataset.\n",
    "plt.figure(figsize=(6, 4))\n",
    "sns.barplot(x = dependent_dist.index, y = dependent_dist.values, palette='coolwarm')\n",
    "plt.ylabel('Percentage')\n",
    "plt.xlabel('Numbers of Dependents')\n",
    "plt.title('Dependents percentage in the dataset')\n",
    "plt.show()"
   ]
  },
  {
   "cell_type": "markdown",
   "id": "98db75b9",
   "metadata": {},
   "source": [
    "* Most of applicant 56.18 % have no Dependents, 16.6 % have only one Dependent, 16.4 % have 2, and 8.3 % have 3 or more Dependents."
   ]
  },
  {
   "cell_type": "code",
   "execution_count": 43,
   "id": "a86d47fb",
   "metadata": {},
   "outputs": [
    {
     "data": {
      "text/plain": [
       "Graduate        480\n",
       "Not Graduate    134\n",
       "Name: Education, dtype: int64"
      ]
     },
     "execution_count": 43,
     "metadata": {},
     "output_type": "execute_result"
    }
   ],
   "source": [
    "# 4. What is the percentage distribution of Education status in the dataset?\n",
    "education_dist = df.Education.value_counts()\n",
    "education_dist"
   ]
  },
  {
   "cell_type": "code",
   "execution_count": 44,
   "id": "bd08f4b1",
   "metadata": {},
   "outputs": [
    {
     "data": {
      "image/png": "[encoded data removed]",
      "text/plain": [
       "<Figure size 640x480 with 1 Axes>"
      ]
     },
     "metadata": {},
     "output_type": "display_data"
    }
   ],
   "source": [
    "# pie chart show the percentage of Education status in dataset\n",
    "plt.pie(education_dist, labels=education_dist.index, autopct='%1.1f%%')\n",
    "plt.title('percentage of Education status in the dataset')\n",
    "plt.show()"
   ]
  },
  {
   "cell_type": "markdown",
   "id": "02972455",
   "metadata": {},
   "source": [
    "* 78.2 % of applicant are Graduate, and 21.8 % Not Graduate"
   ]
  },
  {
   "cell_type": "code",
   "execution_count": 45,
   "id": "4667076f",
   "metadata": {},
   "outputs": [
    {
     "data": {
      "text/plain": [
       "No     500\n",
       "Yes     82\n",
       "Name: Self_Employed, dtype: int64"
      ]
     },
     "execution_count": 45,
     "metadata": {},
     "output_type": "execute_result"
    }
   ],
   "source": [
    "# 5. What is the percentage distribution of Self_Employed status in the dataset?\n",
    "self_employ_dist = df.Self_Employed.value_counts()\n",
    "self_employ_dist"
   ]
  },
  {
   "cell_type": "code",
   "execution_count": 46,
   "id": "0feff9fa",
   "metadata": {},
   "outputs": [
    {
     "data": {
      "image/png": "[encoded data removed]",
      "text/plain": [
       "<Figure size 640x480 with 1 Axes>"
      ]
     },
     "metadata": {},
     "output_type": "display_data"
    }
   ],
   "source": [
    "# pie chart show the percentage of Self_Employed status in dataset\n",
    "plt.pie(self_employ_dist, labels=self_employ_dist.index, autopct='%1.1f%%')\n",
    "plt.title('percentage of Self_Employed status in the dataset')\n",
    "plt.show()"
   ]
  },
  {
   "cell_type": "markdown",
   "id": "8c60c033",
   "metadata": {},
   "source": [
    "* Only 14.1 % are self employed and the majority 85.9 % are employee."
   ]
  },
  {
   "cell_type": "code",
   "execution_count": 47,
   "id": "a0ddc883",
   "metadata": {},
   "outputs": [
    {
     "data": {
      "text/plain": [
       "Medium    49.837134\n",
       "Large     25.081433\n",
       "Small     25.081433\n",
       "Name: ApplicantIncome_category, dtype: float64"
      ]
     },
     "execution_count": 47,
     "metadata": {},
     "output_type": "execute_result"
    }
   ],
   "source": [
    "# 6. What is the percentage distribution of ApplicantIncome_category in the dataset?\n",
    "appl_income_dist = df.ApplicantIncome_category.value_counts()/df.shape[0] * 100\n",
    "appl_income_dist"
   ]
  },
  {
   "cell_type": "code",
   "execution_count": 48,
   "id": "04188294",
   "metadata": {},
   "outputs": [
    {
     "data": {
      "image/png": "[encoded data removed]",
      "text/plain": [
       "<Figure size 600x400 with 1 Axes>"
      ]
     },
     "metadata": {},
     "output_type": "display_data"
    }
   ],
   "source": [
    "# Barplot chart Reflect the percentage distribution of ApplicantIncome_category in the dataset.\n",
    "plt.figure(figsize=(6, 4))\n",
    "sns.barplot(x = appl_income_dist.index, y = appl_income_dist.values, palette='coolwarm')\n",
    "plt.ylabel('Percentage')\n",
    "plt.xlabel('ApplicantIncome_category')\n",
    "plt.title('ApplicantIncome_category percentage in the dataset')\n",
    "plt.show()"
   ]
  },
  {
   "cell_type": "markdown",
   "id": "14511d74",
   "metadata": {},
   "source": [
    "* Almost 50 % of Medium ApplicantIncome_category represented in the dataset."
   ]
  },
  {
   "cell_type": "code",
   "execution_count": 49,
   "id": "a80cd8ae",
   "metadata": {},
   "outputs": [
    {
     "data": {
      "text/plain": [
       "Small     50.000000\n",
       "Large     25.081433\n",
       "Medium    24.918567\n",
       "Name: CoapplicantIncome_category, dtype: float64"
      ]
     },
     "execution_count": 49,
     "metadata": {},
     "output_type": "execute_result"
    }
   ],
   "source": [
    "# 7. What is the percentage distribution of CoapplicantIncome_category in the dataset?\n",
    "CoapplicantIncome_cat_dist = df.CoapplicantIncome_category.value_counts()/df.shape[0] * 100\n",
    "CoapplicantIncome_cat_dist "
   ]
  },
  {
   "cell_type": "code",
   "execution_count": 50,
   "id": "5d819af8",
   "metadata": {},
   "outputs": [
    {
     "data": {
      "text/plain": [
       "0.0       273\n",
       "2083.0      5\n",
       "1666.0      5\n",
       "2500.0      5\n",
       "1625.0      3\n",
       "         ... \n",
       "2087.0      1\n",
       "1664.0      1\n",
       "3683.0      1\n",
       "2079.0      1\n",
       "240.0       1\n",
       "Name: CoapplicantIncome, Length: 287, dtype: int64"
      ]
     },
     "execution_count": 50,
     "metadata": {},
     "output_type": "execute_result"
    }
   ],
   "source": [
    "# checking CoapplicantIncome feature value counts.\n",
    "df.CoapplicantIncome.value_counts().sort_values(ascending=False)"
   ]
  },
  {
   "cell_type": "code",
   "execution_count": 51,
   "id": "544b30c0",
   "metadata": {},
   "outputs": [
    {
     "data": {
      "image/png": "[encoded data removed]",
      "text/plain": [
       "<Figure size 600x400 with 1 Axes>"
      ]
     },
     "metadata": {},
     "output_type": "display_data"
    }
   ],
   "source": [
    "# Barplot chart Reflect the percentage distribution of CoapplicantIncome_category in the dataset.\n",
    "plt.figure(figsize=(6, 4))\n",
    "sns.barplot(x = CoapplicantIncome_cat_dist.index, y = CoapplicantIncome_cat_dist.values, palette='coolwarm')\n",
    "plt.ylabel('Percentage')\n",
    "plt.xlabel('CoapplicantIncome_category')\n",
    "plt.title('CoapplicantIncome_category percentage in the dataset')\n",
    "plt.show()"
   ]
  },
  {
   "cell_type": "markdown",
   "id": "764217dd",
   "metadata": {},
   "source": [
    "* Small CoapplicantIncome Category represents 50% of the dataset, as a high percentage of applicants have no CoapplicantIncome, represented by 0 in the CoapplicantIncome feature."
   ]
  },
  {
   "cell_type": "code",
   "execution_count": 52,
   "id": "4cf43b1e",
   "metadata": {},
   "outputs": [
    {
     "data": {
      "text/plain": [
       "Medium    49.511401\n",
       "Large     24.267101\n",
       "Small     22.638436\n",
       "Name: LoanAmount_category, dtype: float64"
      ]
     },
     "execution_count": 52,
     "metadata": {},
     "output_type": "execute_result"
    }
   ],
   "source": [
    "# 8. What is the percentage distribution of LoanAmount_category in the dataset?\n",
    "LoanAmount_cat_dist = df.LoanAmount_category.value_counts()/df.shape[0] * 100\n",
    "LoanAmount_cat_dist "
   ]
  },
  {
   "cell_type": "code",
   "execution_count": 53,
   "id": "04985c2c",
   "metadata": {},
   "outputs": [
    {
     "data": {
      "image/png": "[encoded data removed]",
      "text/plain": [
       "<Figure size 600x400 with 1 Axes>"
      ]
     },
     "metadata": {},
     "output_type": "display_data"
    }
   ],
   "source": [
    "# Barplot chart Reflect the percentage distribution of LoanAmount_category in the dataset.\n",
    "plt.figure(figsize=(6, 4))\n",
    "sns.barplot(x = LoanAmount_cat_dist .index, y = LoanAmount_cat_dist.values, palette='coolwarm')\n",
    "plt.ylabel('Percentage')\n",
    "plt.xlabel('LoanAmount_category')\n",
    "plt.title('LoanAmount_category percentage in the dataset')\n",
    "plt.show()"
   ]
  },
  {
   "cell_type": "markdown",
   "id": "2d3f2f4a",
   "metadata": {},
   "source": [
    "* Almost 50 % of Medium LoanAmount_category represented in the dataset."
   ]
  },
  {
   "cell_type": "code",
   "execution_count": 54,
   "id": "c8e43497",
   "metadata": {},
   "outputs": [
    {
     "data": {
      "text/plain": [
       "360.0    83.387622\n",
       "180.0     7.166124\n",
       "480.0     2.442997\n",
       "300.0     2.117264\n",
       "240.0     0.651466\n",
       "84.0      0.651466\n",
       "120.0     0.488599\n",
       "60.0      0.325733\n",
       "36.0      0.325733\n",
       "12.0      0.162866\n",
       "Name: Loan_Amount_Term, dtype: float64"
      ]
     },
     "execution_count": 54,
     "metadata": {},
     "output_type": "execute_result"
    }
   ],
   "source": [
    "# 9. What is the percentage distribution of Loan_Amount_Term in the dataset?\n",
    "Loan_Amount_Term_dist = df.Loan_Amount_Term.value_counts()/df.shape[0] * 100\n",
    "Loan_Amount_Term_dist"
   ]
  },
  {
   "cell_type": "code",
   "execution_count": 55,
   "id": "4aa701a4",
   "metadata": {},
   "outputs": [
    {
     "data": {
      "image/png": "[encoded data removed]",
      "text/plain": [
       "<Figure size 600x400 with 1 Axes>"
      ]
     },
     "metadata": {},
     "output_type": "display_data"
    }
   ],
   "source": [
    "# Barplot chart Reflect the percentage distribution of Loan_Amount_Term in the dataset.\n",
    "plt.figure(figsize=(6, 4))\n",
    "sns.barplot(x = Loan_Amount_Term_dist.index, y = Loan_Amount_Term_dist.values, palette='coolwarm')\n",
    "plt.ylabel('Percentage')\n",
    "plt.xlabel('Loan_Amount_Term')\n",
    "plt.title('Loan_Amount_Term percentage in the dataset')\n",
    "plt.show()"
   ]
  },
  {
   "cell_type": "markdown",
   "id": "16e2d3e8",
   "metadata": {},
   "source": [
    "* The majority of loans have a term of 360 months (or 30 years), representing 83.39% of the dataset. Shorter-term loans of 180 months (or 15 years) account for 7.17%, while longer-term loans of 480 months (or 40 years) represent 2.44%. This distribution suggests that most loans in the dataset have standard 30-year terms, with fewer loans falling into shorter or longer-term categories."
   ]
  },
  {
   "cell_type": "code",
   "execution_count": 56,
   "id": "737c1d3a",
   "metadata": {},
   "outputs": [
    {
     "data": {
      "text/plain": [
       "Medium    86.156352\n",
       "Short      9.120521\n",
       "Long       4.723127\n",
       "Name: Loan_Amount_Term_category, dtype: float64"
      ]
     },
     "execution_count": 56,
     "metadata": {},
     "output_type": "execute_result"
    }
   ],
   "source": [
    "Loan_Amount_Term_category_dist = df.Loan_Amount_Term_category.value_counts()/df.shape[0] * 100\n",
    "Loan_Amount_Term_category_dist"
   ]
  },
  {
   "cell_type": "code",
   "execution_count": 57,
   "id": "81249c77",
   "metadata": {},
   "outputs": [
    {
     "data": {
      "image/png": "[encoded data removed]",
      "text/plain": [
       "<Figure size 600x400 with 1 Axes>"
      ]
     },
     "metadata": {},
     "output_type": "display_data"
    }
   ],
   "source": [
    "# Barplot chart Reflect the percentage distribution of Loan_Amount_Term in the dataset.\n",
    "plt.figure(figsize=(6, 4))\n",
    "sns.barplot(x = Loan_Amount_Term_category_dist.index, y = Loan_Amount_Term_category_dist.values, palette='coolwarm')\n",
    "plt.ylabel('Percentage')\n",
    "plt.xlabel('Loan_Amount_Term_category_dist')\n",
    "plt.title('Loan_Amount_Term_category_dist percentage in the dataset')\n",
    "plt.show()"
   ]
  },
  {
   "cell_type": "code",
   "execution_count": 58,
   "id": "704aeaa2",
   "metadata": {},
   "outputs": [
    {
     "data": {
      "text/plain": [
       "1.0    475\n",
       "0.0     89\n",
       "Name: Credit_History, dtype: int64"
      ]
     },
     "execution_count": 58,
     "metadata": {},
     "output_type": "execute_result"
    }
   ],
   "source": [
    "# 10. What is the percentage distribution of Credit_History in the dataset?\n",
    "Credit_History_dist = df.Credit_History.value_counts()\n",
    "Credit_History_dist"
   ]
  },
  {
   "cell_type": "code",
   "execution_count": 59,
   "id": "367aa188",
   "metadata": {},
   "outputs": [
    {
     "data": {
      "image/png": "[encoded data removed]",
      "text/plain": [
       "<Figure size 640x480 with 1 Axes>"
      ]
     },
     "metadata": {},
     "output_type": "display_data"
    }
   ],
   "source": [
    "# pie chart show the percentage of Credit_History status in dataset\n",
    "plt.pie(Credit_History_dist, labels=Credit_History_dist.index, autopct='%1.1f%%')\n",
    "plt.title('percentage of Credit_History status in the dataset')\n",
    "plt.show()"
   ]
  },
  {
   "cell_type": "markdown",
   "id": "4d9d5979",
   "metadata": {},
   "source": [
    "* 84.2% of applicants with Credit_History in the dataset meet the guidelines, while 15.8% do not meet the guidelines."
   ]
  },
  {
   "cell_type": "code",
   "execution_count": 60,
   "id": "1c7c8625",
   "metadata": {},
   "outputs": [
    {
     "data": {
      "text/plain": [
       "Semiurban    37.947883\n",
       "Urban        32.899023\n",
       "Rural        29.153094\n",
       "Name: Property_Area, dtype: float64"
      ]
     },
     "execution_count": 60,
     "metadata": {},
     "output_type": "execute_result"
    }
   ],
   "source": [
    "# 11. What is the percentage distribution of Property_Area in the dataset?\n",
    "Property_Area_dist = df.Property_Area.value_counts()/df.shape[0] * 100\n",
    "Property_Area_dist"
   ]
  },
  {
   "cell_type": "code",
   "execution_count": 61,
   "id": "efefc0d4",
   "metadata": {},
   "outputs": [
    {
     "data": {
      "image/png": "[encoded data removed]",
      "text/plain": [
       "<Figure size 600x400 with 1 Axes>"
      ]
     },
     "metadata": {},
     "output_type": "display_data"
    }
   ],
   "source": [
    "# Barplot chart Reflect the percentage distribution of Property_Area in the dataset.\n",
    "plt.figure(figsize=(6, 4))\n",
    "sns.barplot(x = Property_Area_dist.index, y = Property_Area_dist.values, palette='coolwarm')\n",
    "plt.ylabel('Percentage')\n",
    "plt.xlabel('Property_Area')\n",
    "plt.title('Property_Area percentage in the dataset')\n",
    "plt.show()"
   ]
  },
  {
   "cell_type": "markdown",
   "id": "d8f8540b",
   "metadata": {},
   "source": [
    "* The semi-urban areas have the highest representation at 37.95%, followed by urban areas at 32.90%, and rural areas at 29.15%. This suggests that the dataset contains a diverse representation of property areas, with a slightly higher proportion of semi-urban properties compared to urban and rural areas."
   ]
  },
  {
   "cell_type": "code",
   "execution_count": 62,
   "id": "7cafeb5e",
   "metadata": {},
   "outputs": [
    {
     "data": {
      "text/plain": [
       "1    422\n",
       "0    192\n",
       "Name: Loan_Status, dtype: int64"
      ]
     },
     "execution_count": 62,
     "metadata": {},
     "output_type": "execute_result"
    }
   ],
   "source": [
    "# 12. What is the percentage distribution of Loan_Status in the dataset?\n",
    "Loan_Status_dist = df.Loan_Status.value_counts()\n",
    "Loan_Status_dist"
   ]
  },
  {
   "cell_type": "code",
   "execution_count": 63,
   "id": "315a02dd",
   "metadata": {},
   "outputs": [
    {
     "data": {
      "image/png": "[encoded data removed]",
      "text/plain": [
       "<Figure size 640x480 with 1 Axes>"
      ]
     },
     "metadata": {},
     "output_type": "display_data"
    }
   ],
   "source": [
    "# pie chart show the percentage of Loan_Status in dataset\n",
    "plt.pie(Loan_Status_dist, labels=Loan_Status_dist.index, autopct='%1.1f%%')\n",
    "plt.title('percentage of Loan_Status in the dataset')\n",
    "plt.show()"
   ]
  },
  {
   "cell_type": "markdown",
   "id": "33e98ae9",
   "metadata": {},
   "source": [
    "* 68.73% of loans were approved (denoted by '1'), while 31.27% were not approved (denoted by '0'). This suggests that a significantly higher proportion of loans in the dataset were approved compared to those that were not approved. \n",
    "* Additionally, the imbalance in Loan_Status, where approvals dominate the dataset, highlights the highly imbalanced class nature of this target feature."
   ]
  },
  {
   "cell_type": "markdown",
   "id": "daa2820d",
   "metadata": {},
   "source": [
    "## - Bivariate analysis: Investigates the impact of each feature on the loan acceptance status."
   ]
  },
  {
   "cell_type": "code",
   "execution_count": 64,
   "id": "2767d441",
   "metadata": {},
   "outputs": [
    {
     "data": {
      "text/plain": [
       "Male      489\n",
       "Female    112\n",
       "Name: Gender, dtype: int64"
      ]
     },
     "execution_count": 64,
     "metadata": {},
     "output_type": "execute_result"
    }
   ],
   "source": [
    "# 1. What is the impact of Gender on Loan_Status?\n",
    "df.Gender.value_counts()"
   ]
  },
  {
   "cell_type": "code",
   "execution_count": 65,
   "id": "221d9a49",
   "metadata": {},
   "outputs": [
    {
     "data": {
      "text/plain": [
       "Gender\n",
       "Male      0.693252\n",
       "Female    0.669643\n",
       "Name: Loan_Status, dtype: float64"
      ]
     },
     "execution_count": 65,
     "metadata": {},
     "output_type": "execute_result"
    }
   ],
   "source": [
    "# Getting loan_Status rate by each level of Gender to determine which level have greater effect on Loan acceptance.\n",
    "Loan_Status_by_gender = df.groupby(\"Gender\")['Loan_Status'].mean().sort_values(ascending=False)\n",
    "Loan_Status_by_gender"
   ]
  },
  {
   "cell_type": "markdown",
   "id": "4bf69d6d",
   "metadata": {},
   "source": [
    "* There is no significant impact of gender on loan acceptance, as the acceptance ratio for males is 69.3%, while for females, it is almost 67%."
   ]
  },
  {
   "cell_type": "code",
   "execution_count": 66,
   "id": "07fd176d",
   "metadata": {},
   "outputs": [
    {
     "data": {
      "text/plain": [
       "Yes    398\n",
       "No     213\n",
       "Name: Married, dtype: int64"
      ]
     },
     "execution_count": 66,
     "metadata": {},
     "output_type": "execute_result"
    }
   ],
   "source": [
    "# 2. What is the impact of Married on Loan_Status?\n",
    "df.Married.value_counts()"
   ]
  },
  {
   "cell_type": "code",
   "execution_count": 67,
   "id": "9cc08df9",
   "metadata": {},
   "outputs": [
    {
     "data": {
      "text/plain": [
       "Married\n",
       "Yes    0.716080\n",
       "No     0.629108\n",
       "Name: Loan_Status, dtype: float64"
      ]
     },
     "execution_count": 67,
     "metadata": {},
     "output_type": "execute_result"
    }
   ],
   "source": [
    "# Getting loan_Status rate by each level of Married to determine which level have greater effect on Loan acceptance.\n",
    "Loan_Status_by_Married = df.groupby(\"Married\")['Loan_Status'].mean().sort_values(ascending=False)\n",
    "Loan_Status_by_Married"
   ]
  },
  {
   "cell_type": "code",
   "execution_count": 68,
   "id": "06bf8121",
   "metadata": {},
   "outputs": [
    {
     "data": {
      "text/plain": [
       "Text(0.5, 1.0, 'Loan Acceptance Rate by Married Status')"
      ]
     },
     "execution_count": 68,
     "metadata": {},
     "output_type": "execute_result"
    },
    {
     "data": {
      "image/png": "[encoded data removed]",
      "text/plain": [
       "<Figure size 800x400 with 1 Axes>"
      ]
     },
     "metadata": {},
     "output_type": "display_data"
    }
   ],
   "source": [
    "# Barplot graph Reflect the Loan Acceptance Rate by each level of Married Status.\n",
    "plt.figure(figsize=(8, 4))\n",
    "sns.barplot(x=Loan_Status_by_Married.index, y=Loan_Status_by_Married.values, palette='coolwarm')\n",
    "plt.title('Loan Acceptance Rate by Married Status')"
   ]
  },
  {
   "cell_type": "markdown",
   "id": "053730db",
   "metadata": {},
   "source": [
    "* There is a slight tendency to accept married individuals for loans, with an acceptance rate of 71.6%, compared to unmarried individuals, who have an acceptance rate of 62.9%."
   ]
  },
  {
   "cell_type": "code",
   "execution_count": 69,
   "id": "0655ef35",
   "metadata": {},
   "outputs": [
    {
     "data": {
      "text/plain": [
       "0.0    345\n",
       "1.0    102\n",
       "2.0    101\n",
       "3.0     51\n",
       "Name: Dependents, dtype: int64"
      ]
     },
     "execution_count": 69,
     "metadata": {},
     "output_type": "execute_result"
    }
   ],
   "source": [
    "# 3. What is the impact of Dependents on Loan_Status?\n",
    "df.Dependents.value_counts()"
   ]
  },
  {
   "cell_type": "code",
   "execution_count": 70,
   "id": "157192bd",
   "metadata": {},
   "outputs": [
    {
     "data": {
      "text/plain": [
       "Dependents\n",
       "2.0    0.752475\n",
       "0.0    0.689855\n",
       "1.0    0.647059\n",
       "3.0    0.647059\n",
       "Name: Loan_Status, dtype: float64"
      ]
     },
     "execution_count": 70,
     "metadata": {},
     "output_type": "execute_result"
    }
   ],
   "source": [
    "# Getting loan_Status rate by each level of Dependents to determine which level have greater effect on Loan acceptance.\n",
    "Loan_Status_by_Dependents = df.groupby(\"Dependents\")['Loan_Status'].mean().sort_values(ascending=False)\n",
    "Loan_Status_by_Dependents"
   ]
  },
  {
   "cell_type": "code",
   "execution_count": 71,
   "id": "13decd0f",
   "metadata": {},
   "outputs": [
    {
     "data": {
      "text/plain": [
       "Text(0.5, 1.0, 'Loan Acceptance Rate by Dependents')"
      ]
     },
     "execution_count": 71,
     "metadata": {},
     "output_type": "execute_result"
    },
    {
     "data": {
      "image/png": "[encoded data removed]",
      "text/plain": [
       "<Figure size 800x400 with 1 Axes>"
      ]
     },
     "metadata": {},
     "output_type": "display_data"
    }
   ],
   "source": [
    "# Barplot graph Reflect the Loan Acceptance Rate by each level of Dependents.\n",
    "plt.figure(figsize=(8, 4))\n",
    "sns.barplot(x=Loan_Status_by_Dependents.index, y=Loan_Status_by_Dependents.values, palette='coolwarm')\n",
    "plt.title('Loan Acceptance Rate by Dependents')"
   ]
  },
  {
   "cell_type": "markdown",
   "id": "1b6baa33",
   "metadata": {},
   "source": [
    "* Applicants with 2 dependents have the highest loan approval rate at 75.25%. Those with no dependents (0) follow closely with a loan approval rate of 68.99%. Individuals with 1 or 3 or more dependents have similar loan approval rates, both at 64.71%."
   ]
  },
  {
   "cell_type": "code",
   "execution_count": 72,
   "id": "1a39ba5b",
   "metadata": {},
   "outputs": [
    {
     "data": {
      "text/html": [
       "<div>\n",
       "<style scoped>\n",
       "    .dataframe tbody tr th:only-of-type {\n",
       "        vertical-align: middle;\n",
       "    }\n",
       "\n",
       "    .dataframe tbody tr th {\n",
       "        vertical-align: top;\n",
       "    }\n",
       "\n",
       "    .dataframe thead th {\n",
       "        text-align: right;\n",
       "    }\n",
       "</style>\n",
       "<table border=\"1\" class=\"dataframe\">\n",
       "  <thead>\n",
       "    <tr style=\"text-align: right;\">\n",
       "      <th></th>\n",
       "      <th>Loan_Status</th>\n",
       "      <th>Property_Area</th>\n",
       "      <th>Income_per_Dependent</th>\n",
       "      <th>ApplicantIncome</th>\n",
       "      <th>CoapplicantIncome</th>\n",
       "      <th>total_income</th>\n",
       "      <th>Credit_History</th>\n",
       "      <th>Loan_Amount_Term</th>\n",
       "    </tr>\n",
       "    <tr>\n",
       "      <th>Dependents</th>\n",
       "      <th></th>\n",
       "      <th></th>\n",
       "      <th></th>\n",
       "      <th></th>\n",
       "      <th></th>\n",
       "      <th></th>\n",
       "      <th></th>\n",
       "      <th></th>\n",
       "    </tr>\n",
       "  </thead>\n",
       "  <tbody>\n",
       "    <tr>\n",
       "      <th>0.0</th>\n",
       "      <td>0.689855</td>\n",
       "      <td>Semiurban</td>\n",
       "      <td>4917.423188</td>\n",
       "      <td>4917.423188</td>\n",
       "      <td>1623.696000</td>\n",
       "      <td>6541.119188</td>\n",
       "      <td>0.857595</td>\n",
       "      <td>348.107784</td>\n",
       "    </tr>\n",
       "    <tr>\n",
       "      <th>1.0</th>\n",
       "      <td>0.647059</td>\n",
       "      <td>Urban</td>\n",
       "      <td>2981.137255</td>\n",
       "      <td>5962.274510</td>\n",
       "      <td>1426.235294</td>\n",
       "      <td>7388.509804</td>\n",
       "      <td>0.844444</td>\n",
       "      <td>329.346535</td>\n",
       "    </tr>\n",
       "    <tr>\n",
       "      <th>2.0</th>\n",
       "      <td>0.752475</td>\n",
       "      <td>Semiurban</td>\n",
       "      <td>1642.260726</td>\n",
       "      <td>4926.782178</td>\n",
       "      <td>1687.245544</td>\n",
       "      <td>6614.027723</td>\n",
       "      <td>0.852632</td>\n",
       "      <td>340.871287</td>\n",
       "    </tr>\n",
       "    <tr>\n",
       "      <th>3.0</th>\n",
       "      <td>0.647059</td>\n",
       "      <td>Semiurban</td>\n",
       "      <td>2145.303922</td>\n",
       "      <td>8581.215686</td>\n",
       "      <td>2024.313725</td>\n",
       "      <td>10605.529412</td>\n",
       "      <td>0.770833</td>\n",
       "      <td>325.200000</td>\n",
       "    </tr>\n",
       "  </tbody>\n",
       "</table>\n",
       "</div>"
      ],
      "text/plain": [
       "            Loan_Status Property_Area  Income_per_Dependent  ApplicantIncome  \\\n",
       "Dependents                                                                     \n",
       "0.0            0.689855     Semiurban           4917.423188      4917.423188   \n",
       "1.0            0.647059         Urban           2981.137255      5962.274510   \n",
       "2.0            0.752475     Semiurban           1642.260726      4926.782178   \n",
       "3.0            0.647059     Semiurban           2145.303922      8581.215686   \n",
       "\n",
       "            CoapplicantIncome  total_income  Credit_History  Loan_Amount_Term  \n",
       "Dependents                                                                     \n",
       "0.0               1623.696000   6541.119188        0.857595        348.107784  \n",
       "1.0               1426.235294   7388.509804        0.844444        329.346535  \n",
       "2.0               1687.245544   6614.027723        0.852632        340.871287  \n",
       "3.0               2024.313725  10605.529412        0.770833        325.200000  "
      ]
     },
     "execution_count": 72,
     "metadata": {},
     "output_type": "execute_result"
    }
   ],
   "source": [
    "# Define a custom function to calculate mode\n",
    "def get_mode(x):\n",
    "    return x.mode().iloc[0] if not x.mode().empty else None\n",
    "\n",
    "# checking why applicants with 2 Dependents have more acceptance rate than applicant with 0, and 1 dependants.\n",
    "df.groupby(\"Dependents\").agg({'Loan_Status':'mean', 'Property_Area': get_mode , 'Income_per_Dependent':'mean','ApplicantIncome':'mean', 'CoapplicantIncome':'mean', 'total_income':'mean','Credit_History':'mean', 'Loan_Amount_Term':'mean'})"
   ]
  },
  {
   "cell_type": "markdown",
   "id": "21d1e8a0",
   "metadata": {},
   "source": [
    "* Although Applicants with 2 dependents have the lowest Income_per_Dependent it exhibit a higher acceptance rate than those with 0 or 1 dependents, possibly due to their predominantly Semiurban property area than Urban area for 1 dependents, favorable credit history (85.26%) than for 1 dependents, and potentially higher combined total income than 0 dependents.  "
   ]
  },
  {
   "cell_type": "code",
   "execution_count": 73,
   "id": "27bc7e4a",
   "metadata": {},
   "outputs": [
    {
     "data": {
      "text/plain": [
       "Graduate        480\n",
       "Not Graduate    134\n",
       "Name: Education, dtype: int64"
      ]
     },
     "execution_count": 73,
     "metadata": {},
     "output_type": "execute_result"
    }
   ],
   "source": [
    "# 4. What is the impact of Education on Loan acceptance Status?\n",
    "df.Education.value_counts()"
   ]
  },
  {
   "cell_type": "code",
   "execution_count": 74,
   "id": "bf0bb7ea",
   "metadata": {},
   "outputs": [
    {
     "data": {
      "text/plain": [
       "Education\n",
       "Graduate        0.708333\n",
       "Not Graduate    0.611940\n",
       "Name: Loan_Status, dtype: float64"
      ]
     },
     "execution_count": 74,
     "metadata": {},
     "output_type": "execute_result"
    }
   ],
   "source": [
    "# Getting loan_Status rate by each level of Education to determine which level have greater effect on Loan acceptance.\n",
    "Loan_Status_by_Education = df.groupby(\"Education\")['Loan_Status'].mean().sort_values(ascending=False)\n",
    "Loan_Status_by_Education"
   ]
  },
  {
   "cell_type": "code",
   "execution_count": 75,
   "id": "d0e94818",
   "metadata": {},
   "outputs": [
    {
     "data": {
      "text/plain": [
       "Text(0.5, 1.0, 'Loan status by Education')"
      ]
     },
     "execution_count": 75,
     "metadata": {},
     "output_type": "execute_result"
    },
    {
     "data": {
      "image/png": "[encoded data removed]",
      "text/plain": [
       "<Figure size 800x400 with 1 Axes>"
      ]
     },
     "metadata": {},
     "output_type": "display_data"
    }
   ],
   "source": [
    "# Count plot graph Reflect the Loan status as hue by each level of Education.\n",
    "plt.figure(figsize=(8, 4))\n",
    "sns.countplot(data=df, x='Education', hue = 'Loan_Status')\n",
    "plt.title('Loan status by Education')"
   ]
  },
  {
   "cell_type": "markdown",
   "id": "d3f0e7f4",
   "metadata": {},
   "source": [
    "* Graduates have a higher loan approval rate of 70.83% compared to non-graduates, who have a loan approval rate of 61.19%. This suggests that education level may influence loan approval rates, with graduates generally having a higher likelihood of loan approval compared to non-graduates."
   ]
  },
  {
   "cell_type": "code",
   "execution_count": 76,
   "id": "aff2f9dc",
   "metadata": {},
   "outputs": [
    {
     "data": {
      "text/plain": [
       "No     500\n",
       "Yes     82\n",
       "Name: Self_Employed, dtype: int64"
      ]
     },
     "execution_count": 76,
     "metadata": {},
     "output_type": "execute_result"
    }
   ],
   "source": [
    "# 5. What is the impact of Self_Employed on Loan acceptance Status?\n",
    "df.Self_Employed.value_counts()"
   ]
  },
  {
   "cell_type": "code",
   "execution_count": 77,
   "id": "67ec443c",
   "metadata": {},
   "outputs": [
    {
     "data": {
      "text/plain": [
       "Self_Employed\n",
       "No     0.686000\n",
       "Yes    0.682927\n",
       "Name: Loan_Status, dtype: float64"
      ]
     },
     "execution_count": 77,
     "metadata": {},
     "output_type": "execute_result"
    }
   ],
   "source": [
    "# Getting loan_Status rate by each level of Education to determine which level have greater effect on Loan acceptance.\n",
    "Loan_Status_by_Self_Employed = df.groupby(\"Self_Employed\")['Loan_Status'].mean().sort_values(ascending=False)\n",
    "Loan_Status_by_Self_Employed"
   ]
  },
  {
   "cell_type": "markdown",
   "id": "dcfe29af",
   "metadata": {},
   "source": [
    "* The above ratios indicates that being self-employed or not does not significantly impact the loan approval rate in the dataset."
   ]
  },
  {
   "cell_type": "code",
   "execution_count": 78,
   "id": "30254e3e",
   "metadata": {},
   "outputs": [
    {
     "data": {
      "text/plain": [
       "Loan_Status\n",
       "0    5446.078125\n",
       "1    5384.068720\n",
       "Name: ApplicantIncome, dtype: float64"
      ]
     },
     "execution_count": 78,
     "metadata": {},
     "output_type": "execute_result"
    }
   ],
   "source": [
    "# 6. What is the impact of ApplicantIncome on Loan acceptance Status?\n",
    "df.groupby(\"Loan_Status\")['ApplicantIncome'].mean().sort_values(ascending=False)"
   ]
  },
  {
   "cell_type": "code",
   "execution_count": 79,
   "id": "517b5b45",
   "metadata": {},
   "outputs": [
    {
     "data": {
      "text/html": [
       "<div>\n",
       "<style scoped>\n",
       "    .dataframe tbody tr th:only-of-type {\n",
       "        vertical-align: middle;\n",
       "    }\n",
       "\n",
       "    .dataframe tbody tr th {\n",
       "        vertical-align: top;\n",
       "    }\n",
       "\n",
       "    .dataframe thead th {\n",
       "        text-align: right;\n",
       "    }\n",
       "</style>\n",
       "<table border=\"1\" class=\"dataframe\">\n",
       "  <thead>\n",
       "    <tr style=\"text-align: right;\">\n",
       "      <th></th>\n",
       "      <th>count</th>\n",
       "      <th>mean</th>\n",
       "      <th>std</th>\n",
       "      <th>min</th>\n",
       "      <th>25%</th>\n",
       "      <th>50%</th>\n",
       "      <th>75%</th>\n",
       "      <th>max</th>\n",
       "    </tr>\n",
       "    <tr>\n",
       "      <th>Loan_Status</th>\n",
       "      <th></th>\n",
       "      <th></th>\n",
       "      <th></th>\n",
       "      <th></th>\n",
       "      <th></th>\n",
       "      <th></th>\n",
       "      <th></th>\n",
       "      <th></th>\n",
       "    </tr>\n",
       "  </thead>\n",
       "  <tbody>\n",
       "    <tr>\n",
       "      <th>0</th>\n",
       "      <td>192.0</td>\n",
       "      <td>5446.078125</td>\n",
       "      <td>6819.558528</td>\n",
       "      <td>150.0</td>\n",
       "      <td>2885.0</td>\n",
       "      <td>3833.5</td>\n",
       "      <td>5861.25</td>\n",
       "      <td>81000.0</td>\n",
       "    </tr>\n",
       "    <tr>\n",
       "      <th>1</th>\n",
       "      <td>422.0</td>\n",
       "      <td>5384.068720</td>\n",
       "      <td>5765.441615</td>\n",
       "      <td>210.0</td>\n",
       "      <td>2877.5</td>\n",
       "      <td>3812.5</td>\n",
       "      <td>5771.50</td>\n",
       "      <td>63337.0</td>\n",
       "    </tr>\n",
       "  </tbody>\n",
       "</table>\n",
       "</div>"
      ],
      "text/plain": [
       "             count         mean          std    min     25%     50%      75%  \\\n",
       "Loan_Status                                                                    \n",
       "0            192.0  5446.078125  6819.558528  150.0  2885.0  3833.5  5861.25   \n",
       "1            422.0  5384.068720  5765.441615  210.0  2877.5  3812.5  5771.50   \n",
       "\n",
       "                 max  \n",
       "Loan_Status           \n",
       "0            81000.0  \n",
       "1            63337.0  "
      ]
     },
     "execution_count": 79,
     "metadata": {},
     "output_type": "execute_result"
    }
   ],
   "source": [
    "df.groupby(\"Loan_Status\")['ApplicantIncome'].describe()"
   ]
  },
  {
   "cell_type": "code",
   "execution_count": 80,
   "id": "15089c5e",
   "metadata": {},
   "outputs": [
    {
     "data": {
      "text/plain": [
       "Text(0.5, 1.0, 'ApplicantIncome by loan Status')"
      ]
     },
     "execution_count": 80,
     "metadata": {},
     "output_type": "execute_result"
    },
    {
     "data": {
      "image/png": "[encoded data removed]",
      "text/plain": [
       "<Figure size 800x600 with 1 Axes>"
      ]
     },
     "metadata": {},
     "output_type": "display_data"
    }
   ],
   "source": [
    "# Boxplot to visualize the ApplicantIncome by Loan acceptance Status\n",
    "plt.figure(figsize=(8, 6))\n",
    "sns.boxplot(x='Loan_Status', y='ApplicantIncome', data=df, palette='coolwarm')\n",
    "plt.title('ApplicantIncome by loan Status')"
   ]
  },
  {
   "cell_type": "markdown",
   "id": "6406fabb",
   "metadata": {},
   "source": [
    "* For individuals whose loans were not approved (Loan_Status = 0), the mean ApplicantIncome is 5446.08, with a standard deviation of 6819.56. The minimum income is 150, while the maximum is 81000.\n",
    "* In contrast, for those whose loans were approved (Loan_Status = 1), the mean ApplicantIncome is slightly lower at 5384.07, with a standard deviation of 5765.44. The income range spans from 210 to 63337.\n",
    "* Overall, the mean ApplicantIncome is comparable between the two loan status categories, indicating that ApplicantIncome alone may not be a decisive factor in loan approval."
   ]
  },
  {
   "cell_type": "code",
   "execution_count": 81,
   "id": "32d47ac2",
   "metadata": {},
   "outputs": [
    {
     "data": {
      "text/plain": [
       "Medium    306\n",
       "Large     154\n",
       "Small     154\n",
       "Name: ApplicantIncome_category, dtype: int64"
      ]
     },
     "execution_count": 81,
     "metadata": {},
     "output_type": "execute_result"
    }
   ],
   "source": [
    "# 7. What is the impact of ApplicantIncome_category on Loan acceptance Status?\n",
    "df.ApplicantIncome_category.value_counts()"
   ]
  },
  {
   "cell_type": "code",
   "execution_count": 82,
   "id": "97495517",
   "metadata": {},
   "outputs": [
    {
     "data": {
      "text/plain": [
       "ApplicantIncome_category\n",
       "Medium    0.689542\n",
       "Small     0.688312\n",
       "Large     0.681818\n",
       "Name: Loan_Status, dtype: float64"
      ]
     },
     "execution_count": 82,
     "metadata": {},
     "output_type": "execute_result"
    }
   ],
   "source": [
    "# Getting loan_Status rate by each level of ApplicantIncome_category to determine which level have greater effect on Loan acceptance.\n",
    "Loan_Status_by_ApplicantIncome_category = df.groupby(\"ApplicantIncome_category\")['Loan_Status'].mean().sort_values(ascending=False)\n",
    "Loan_Status_by_ApplicantIncome_category"
   ]
  },
  {
   "cell_type": "markdown",
   "id": "92afb750",
   "metadata": {},
   "source": [
    "* The above ratios indicates that ApplicantIncome_category alone does not significantly impact the loan approval rate in the dataset."
   ]
  },
  {
   "cell_type": "code",
   "execution_count": 83,
   "id": "28b54f37",
   "metadata": {},
   "outputs": [
    {
     "data": {
      "text/plain": [
       "Small     307\n",
       "Large     154\n",
       "Medium    153\n",
       "Name: CoapplicantIncome_category, dtype: int64"
      ]
     },
     "execution_count": 83,
     "metadata": {},
     "output_type": "execute_result"
    }
   ],
   "source": [
    "# 8. What is the impact of CoapplicantIncome_category on Loan acceptance Status?\n",
    "df.CoapplicantIncome_category.value_counts()"
   ]
  },
  {
   "cell_type": "code",
   "execution_count": 84,
   "id": "59722b36",
   "metadata": {},
   "outputs": [
    {
     "data": {
      "text/plain": [
       "CoapplicantIncome_category\n",
       "Medium    0.705882\n",
       "Large     0.688312\n",
       "Small     0.677524\n",
       "Name: Loan_Status, dtype: float64"
      ]
     },
     "execution_count": 84,
     "metadata": {},
     "output_type": "execute_result"
    }
   ],
   "source": [
    "# Getting loan_Status rate by each level of CoapplicantIncome_category to determine which level have greater effect on Loan acceptance.\n",
    "Loan_Status_by_CoapplicantIncome_category = df.groupby(\"CoapplicantIncome_category\")['Loan_Status'].mean().sort_values(ascending=False)\n",
    "Loan_Status_by_CoapplicantIncome_category"
   ]
  },
  {
   "cell_type": "code",
   "execution_count": 85,
   "id": "25b5b645",
   "metadata": {},
   "outputs": [
    {
     "data": {
      "text/plain": [
       "Text(0.5, 1.0, 'Loan Acceptance Rate by CoapplicantIncome_category')"
      ]
     },
     "execution_count": 85,
     "metadata": {},
     "output_type": "execute_result"
    },
    {
     "data": {
      "image/png": "[encoded data removed]",
      "text/plain": [
       "<Figure size 800x400 with 1 Axes>"
      ]
     },
     "metadata": {},
     "output_type": "display_data"
    }
   ],
   "source": [
    "# Barplot graph Reflect the Loan Acceptance Rate by each level of CoapplicantIncome_category.\n",
    "plt.figure(figsize=(8, 4))\n",
    "sns.barplot(x=Loan_Status_by_CoapplicantIncome_category.index, y=Loan_Status_by_CoapplicantIncome_category.values, palette='coolwarm')\n",
    "plt.title('Loan Acceptance Rate by CoapplicantIncome_category')"
   ]
  },
  {
   "cell_type": "markdown",
   "id": "ac4a6e49",
   "metadata": {},
   "source": [
    "* The loan approval rates vary across CoapplicantIncome categories: 'Medium' category has the highest rate at 70.59%, followed by 'Large' at 68.83%, and 'Small' at 67.75%. This indicates a potential correlation between CoapplicantIncome levels and loan approval, suggesting that applicants with higher CoapplicantIncome categories tend to have slightly higher approval rates."
   ]
  },
  {
   "cell_type": "code",
   "execution_count": 86,
   "id": "1a136b6a",
   "metadata": {},
   "outputs": [
    {
     "data": {
      "text/plain": [
       "Medium    308\n",
       "Large     154\n",
       "Small     152\n",
       "Name: total_income_category, dtype: int64"
      ]
     },
     "execution_count": 86,
     "metadata": {},
     "output_type": "execute_result"
    }
   ],
   "source": [
    "# 9. What is the impact of total_income_category on Loan acceptance Status?\n",
    "df.total_income_category.value_counts()"
   ]
  },
  {
   "cell_type": "code",
   "execution_count": 87,
   "id": "3a1650d9",
   "metadata": {},
   "outputs": [
    {
     "data": {
      "text/plain": [
       "total_income_category\n",
       "Medium    0.694805\n",
       "Small     0.684211\n",
       "Large     0.675325\n",
       "Name: Loan_Status, dtype: float64"
      ]
     },
     "execution_count": 87,
     "metadata": {},
     "output_type": "execute_result"
    }
   ],
   "source": [
    "# Getting loan_Status rate by each level of total_income_category to determine which level have greater effect on Loan acceptance.\n",
    "Loan_Status_by_total_income_category = df.groupby(\"total_income_category\")['Loan_Status'].mean().sort_values(ascending=False)\n",
    "Loan_Status_by_total_income_category"
   ]
  },
  {
   "cell_type": "markdown",
   "id": "765343c4",
   "metadata": {},
   "source": [
    "* The above ratios indicates that total_income_category alone does not significantly impact the loan approval rate in the dataset."
   ]
  },
  {
   "cell_type": "code",
   "execution_count": 88,
   "id": "333621cb",
   "metadata": {},
   "outputs": [
    {
     "data": {
      "text/plain": [
       "Medium    304\n",
       "Large     149\n",
       "Small     139\n",
       "Name: LoanAmount_category, dtype: int64"
      ]
     },
     "execution_count": 88,
     "metadata": {},
     "output_type": "execute_result"
    }
   ],
   "source": [
    "# 9. What is the impact of LoanAmount_category on Loan acceptance Status?\n",
    "df.LoanAmount_category.value_counts()"
   ]
  },
  {
   "cell_type": "code",
   "execution_count": 89,
   "id": "f536c557",
   "metadata": {},
   "outputs": [
    {
     "data": {
      "text/plain": [
       "LoanAmount_category\n",
       "Medium    0.717105\n",
       "Small     0.690647\n",
       "Large     0.651007\n",
       "Name: Loan_Status, dtype: float64"
      ]
     },
     "execution_count": 89,
     "metadata": {},
     "output_type": "execute_result"
    }
   ],
   "source": [
    "# Getting loan_Status rate by each level of LoanAmount_category to determine which level have greater effect on Loan acceptance.\n",
    "Loan_Status_by_LoanAmount_category = df.groupby(\"LoanAmount_category\")['Loan_Status'].mean().sort_values(ascending=False)\n",
    "Loan_Status_by_LoanAmount_category"
   ]
  },
  {
   "cell_type": "code",
   "execution_count": 90,
   "id": "7cd9fe8a",
   "metadata": {},
   "outputs": [
    {
     "data": {
      "text/plain": [
       "Text(0.5, 1.0, 'Loan status by LoanAmount_category')"
      ]
     },
     "execution_count": 90,
     "metadata": {},
     "output_type": "execute_result"
    },
    {
     "data": {
      "image/png": "[encoded data removed]",
      "text/plain": [
       "<Figure size 800x400 with 1 Axes>"
      ]
     },
     "metadata": {},
     "output_type": "display_data"
    }
   ],
   "source": [
    "# Count plot graph Reflect the Loan status as hue by each level of LoanAmount_category.\n",
    "plt.figure(figsize=(8, 4))\n",
    "sns.countplot(data=df, x='LoanAmount_category', hue = 'Loan_Status')\n",
    "plt.title('Loan status by LoanAmount_category')"
   ]
  },
  {
   "cell_type": "markdown",
   "id": "8f43fcee",
   "metadata": {},
   "source": [
    "* The loan approval rates vary across LoanAmount categories: 'Medium' category has the highest rate at 71.71%, followed by 'Small' at 69.06%, and 'Large' at 65.10%. This suggests that LoanAmount categories may influence loan approval, with applicants in the 'Medium' category having the highest approval rates, followed by 'Small' and 'Large' categories, respectively."
   ]
  },
  {
   "cell_type": "code",
   "execution_count": 91,
   "id": "f4db4619",
   "metadata": {},
   "outputs": [
    {
     "data": {
      "text/plain": [
       "Medium    529\n",
       "Short      56\n",
       "Long       29\n",
       "Name: Loan_Amount_Term_category, dtype: int64"
      ]
     },
     "execution_count": 91,
     "metadata": {},
     "output_type": "execute_result"
    }
   ],
   "source": [
    "# 10. What is the impact of Loan_Amount_Term_category on Loan acceptance Status?\n",
    "df.Loan_Amount_Term_category.value_counts()"
   ]
  },
  {
   "cell_type": "code",
   "execution_count": 92,
   "id": "81853d16",
   "metadata": {},
   "outputs": [
    {
     "data": {
      "text/plain": [
       "Loan_Amount_Term_category\n",
       "Medium    0.699433\n",
       "Short     0.678571\n",
       "Long      0.482759\n",
       "Name: Loan_Status, dtype: float64"
      ]
     },
     "execution_count": 92,
     "metadata": {},
     "output_type": "execute_result"
    }
   ],
   "source": [
    "# Getting loan_Status rate by each level of Loan_Amount_Term_category to determine which level have greater effect on Loan acceptance.\n",
    "Loan_Status_by_Loan_Amount_Term_category = df.groupby(\"Loan_Amount_Term_category\")['Loan_Status'].mean().sort_values(ascending=False)\n",
    "Loan_Status_by_Loan_Amount_Term_category"
   ]
  },
  {
   "cell_type": "code",
   "execution_count": 93,
   "id": "b960c213",
   "metadata": {},
   "outputs": [
    {
     "data": {
      "text/plain": [
       "Text(0.5, 1.0, 'Loan Acceptance Rate by Loan_Amount_Term_category')"
      ]
     },
     "execution_count": 93,
     "metadata": {},
     "output_type": "execute_result"
    },
    {
     "data": {
      "image/png": "[encoded data removed]",
      "text/plain": [
       "<Figure size 800x400 with 1 Axes>"
      ]
     },
     "metadata": {},
     "output_type": "display_data"
    }
   ],
   "source": [
    "# Barplot graph Reflect the Loan Acceptance Rate by each level of Loan_Amount_Term_category.\n",
    "plt.figure(figsize=(8, 4))\n",
    "sns.barplot(x=Loan_Status_by_Loan_Amount_Term_category.index, y=Loan_Status_by_Loan_Amount_Term_category.values, palette='coolwarm')\n",
    "plt.title('Loan Acceptance Rate by Loan_Amount_Term_category')"
   ]
  },
  {
   "cell_type": "markdown",
   "id": "ddcda9c2",
   "metadata": {},
   "source": [
    "* medium-term loans have the highest approval rate at 69.94%, followed by short-term loans at 67.86%. However, long-term loans exhibit a significantly lower approval rate of 48.28%. \n",
    "* This suggests that applicants with medium-term and short-term loan durations are more likely to have their loans approved compared to those applying for long-term loans."
   ]
  },
  {
   "cell_type": "code",
   "execution_count": 94,
   "id": "ab4a4585",
   "metadata": {},
   "outputs": [
    {
     "data": {
      "text/plain": [
       "1.0    475\n",
       "0.0     89\n",
       "Name: Credit_History, dtype: int64"
      ]
     },
     "execution_count": 94,
     "metadata": {},
     "output_type": "execute_result"
    }
   ],
   "source": [
    "# 11. What is the impact of Credit_History on Loan acceptance Status?\n",
    "df.Credit_History.value_counts()"
   ]
  },
  {
   "cell_type": "code",
   "execution_count": 95,
   "id": "975fff8d",
   "metadata": {},
   "outputs": [
    {
     "data": {
      "text/plain": [
       "Credit_History\n",
       "1.0    0.795789\n",
       "0.0    0.078652\n",
       "Name: Loan_Status, dtype: float64"
      ]
     },
     "execution_count": 95,
     "metadata": {},
     "output_type": "execute_result"
    }
   ],
   "source": [
    "# Getting loan_Status rate by each level of Credit_History to determine which level have greater effect on Loan acceptance.\n",
    "Loan_Status_by_Credit_History = df.groupby(\"Credit_History\")['Loan_Status'].mean().sort_values(ascending=False)\n",
    "Loan_Status_by_Credit_History"
   ]
  },
  {
   "cell_type": "code",
   "execution_count": 96,
   "id": "c8c2ae4d",
   "metadata": {},
   "outputs": [
    {
     "data": {
      "text/plain": [
       "Text(0.5, 1.0, 'Loan status by Credit_History')"
      ]
     },
     "execution_count": 96,
     "metadata": {},
     "output_type": "execute_result"
    },
    {
     "data": {
      "image/png": "[encoded data removed]",
      "text/plain": [
       "<Figure size 800x400 with 1 Axes>"
      ]
     },
     "metadata": {},
     "output_type": "display_data"
    }
   ],
   "source": [
    "# Count plot graph Reflect the Loan status as hue by each level of Credit_History.\n",
    "plt.figure(figsize=(8, 4))\n",
    "sns.countplot(data=df, x='Credit_History', hue = 'Loan_Status')\n",
    "plt.title('Loan status by Credit_History')"
   ]
  },
  {
   "cell_type": "markdown",
   "id": "9a4796aa",
   "metadata": {},
   "source": [
    "* Applicants with a Credit_History of 1.0 have a significantly higher loan approval rate of 79.58%.\n",
    "* In contrast, applicants with a Credit_History of 0.0 have a much lower approval rate of 7.87%.\n",
    "* This highlights the crucial role of Credit_History in loan approval decisions, with a positive credit history strongly associated with higher loan approval rates."
   ]
  },
  {
   "cell_type": "code",
   "execution_count": 97,
   "id": "af066d45",
   "metadata": {},
   "outputs": [
    {
     "data": {
      "text/plain": [
       "Semiurban    233\n",
       "Urban        202\n",
       "Rural        179\n",
       "Name: Property_Area, dtype: int64"
      ]
     },
     "execution_count": 97,
     "metadata": {},
     "output_type": "execute_result"
    }
   ],
   "source": [
    "# 11. What is the impact of Property_Area on Loan acceptance Status?\n",
    "df.Property_Area.value_counts()"
   ]
  },
  {
   "cell_type": "code",
   "execution_count": 98,
   "id": "9e5cde6b",
   "metadata": {},
   "outputs": [
    {
     "data": {
      "text/plain": [
       "Property_Area\n",
       "Semiurban    0.768240\n",
       "Urban        0.658416\n",
       "Rural        0.614525\n",
       "Name: Loan_Status, dtype: float64"
      ]
     },
     "execution_count": 98,
     "metadata": {},
     "output_type": "execute_result"
    }
   ],
   "source": [
    "# Getting loan_Status rate by each level of Property_Area to determine which level have greater effect on Loan acceptance.\n",
    "Loan_Status_by_Property_Area = df.groupby(\"Property_Area\")['Loan_Status'].mean().sort_values(ascending=False)\n",
    "Loan_Status_by_Property_Area"
   ]
  },
  {
   "cell_type": "code",
   "execution_count": 99,
   "id": "5ae171b9",
   "metadata": {},
   "outputs": [
    {
     "data": {
      "text/plain": [
       "Text(0.5, 1.0, 'Loan status by Property_Area')"
      ]
     },
     "execution_count": 99,
     "metadata": {},
     "output_type": "execute_result"
    },
    {
     "data": {
      "image/png": "[encoded data removed]",
      "text/plain": [
       "<Figure size 800x400 with 1 Axes>"
      ]
     },
     "metadata": {},
     "output_type": "display_data"
    }
   ],
   "source": [
    "# Count plot graph Reflect the Loan status as hue by each level of Property_Area.\n",
    "plt.figure(figsize=(8, 4))\n",
    "sns.countplot(data=df, x='Property_Area', hue = 'Loan_Status')\n",
    "plt.title('Loan status by Property_Area')"
   ]
  },
  {
   "cell_type": "markdown",
   "id": "face440a",
   "metadata": {},
   "source": [
    "* Applicants plan to residing  in Semiurban areas exhibit the highest loan approval rate at 76.82%.\n",
    "* Urban areas follow with a moderate approval rate of 65.84%.\n",
    "* Rural areas have the lowest approval rate at 61.45%.\n",
    "* This suggests that property location, as categorized by Property_Area, influences loan approval rates, with Semiurban areas showing the highest likelihood of loan approval compared to Urban and Rural areas."
   ]
  },
  {
   "cell_type": "markdown",
   "id": "bde42c92",
   "metadata": {},
   "source": [
    "## Analysis Sumary:\n",
    "### As a summary, we can say that applicants applying for a house loan with the following characteristics have a chance of acceptance or rejection as follows:\n",
    "\n",
    "* If they are married, have 2 or 0 dependents, have a high level of education or are graduates, fall into the medium or large CoapplicantIncome_category (greater than 1188), apply for a medium or small loan amount (less than or equal to 168,000), choose a medium or short loan term (less than or equal to 360 months), meet the credit history guidelines (Credit_History == 1), and apply for a property area in a semi-urban area, applicants with these characteristics have a greater chance of loan approval or acceptance.\n",
    "-----------\n",
    " * If they are not married, have 1 or 3 dependents, have a low level of education or are not graduates, fall into the small CoapplicantIncome_category (less than or equal to 1188), apply for a large loan amount (greater than 168,000), choose a long loan term (greater than 360 months), do not meet the credit history guidelines (Credit_History == 0), and apply for a property area in a rural area, applicants with these characteristics have a greater chance of their loan not being approved or not accepted."
   ]
  },
  {
   "cell_type": "markdown",
   "id": "245c9135",
   "metadata": {},
   "source": [
    "## Step 4: Preprocessing & Modeling\n",
    "\n",
    "1. Removing Irrelevant Columns:\n",
    "2. Dividing the data set to features (x) and the target (y)\n",
    "3. Handling missing values and Encode categorical columns\n",
    "4. scaler\n",
    "5. deaing with target class imbalances.\n",
    "6. modeling and cross validation\n",
    "7. Hyperparameter Tuning for best selected Model. "
   ]
  },
  {
   "cell_type": "code",
   "execution_count": 100,
   "id": "b7a9ad8e",
   "metadata": {},
   "outputs": [],
   "source": [
    "# Importing necessary libraries\n",
    "from sklearn.compose import ColumnTransformer\n",
    "from sklearn.impute import SimpleImputer, KNNImputer\n",
    "from sklearn.preprocessing import StandardScaler,RobustScaler,OneHotEncoder\n",
    "from imblearn.over_sampling import RandomOverSampler, SMOTE\n",
    "from imblearn.pipeline import Pipeline\n",
    "from category_encoders import BinaryEncoder\n",
    "\n",
    "from sklearn.linear_model import LogisticRegression\n",
    "from sklearn.neighbors import KNeighborsClassifier\n",
    "from sklearn.tree import DecisionTreeClassifier\n",
    "from sklearn.ensemble import RandomForestClassifier\n",
    "from xgboost import XGBClassifier\n",
    "\n",
    "from sklearn.metrics import accuracy_score,precision_score,recall_score,make_scorer\n",
    "from sklearn.model_selection import cross_validate, GridSearchCV, RandomizedSearchCV\n",
    "\n",
    "import joblib"
   ]
  },
  {
   "cell_type": "markdown",
   "id": "02d90c22",
   "metadata": {},
   "source": [
    "### 1. Removing unnecessary Irrelevant Columns:\n",
    "\n",
    "* like: Loan_ID, Income_per_Dependent, total_income, ApplicantIncome_category, CoapplicantIncome_category, total_income_category, LoanAmount_category, Loan_Amount_Term"
   ]
  },
  {
   "cell_type": "code",
   "execution_count": 101,
   "id": "636b0ec0",
   "metadata": {},
   "outputs": [],
   "source": [
    "# dropping irrelevant columns\n",
    "df.drop(['Loan_ID', 'Income_per_Dependent', 'total_income', 'ApplicantIncome_category', 'CoapplicantIncome_category', 'total_income_category', 'LoanAmount_category','Loan_Amount_Term'],axis=1, inplace=True)"
   ]
  },
  {
   "cell_type": "code",
   "execution_count": 102,
   "id": "cfcc11a8",
   "metadata": {},
   "outputs": [
    {
     "data": {
      "text/plain": [
       "0"
      ]
     },
     "execution_count": 102,
     "metadata": {},
     "output_type": "execute_result"
    }
   ],
   "source": [
    "#checking for duplication in data \n",
    "df.duplicated().sum()"
   ]
  },
  {
   "cell_type": "code",
   "execution_count": 103,
   "id": "1a0e3a8b",
   "metadata": {},
   "outputs": [
    {
     "name": "stdout",
     "output_type": "stream",
     "text": [
      "<class 'pandas.core.frame.DataFrame'>\n",
      "RangeIndex: 614 entries, 0 to 613\n",
      "Data columns (total 12 columns):\n",
      " #   Column                     Non-Null Count  Dtype  \n",
      "---  ------                     --------------  -----  \n",
      " 0   Gender                     601 non-null    object \n",
      " 1   Married                    611 non-null    object \n",
      " 2   Dependents                 599 non-null    float64\n",
      " 3   Education                  614 non-null    object \n",
      " 4   Self_Employed              582 non-null    object \n",
      " 5   ApplicantIncome            614 non-null    int64  \n",
      " 6   CoapplicantIncome          614 non-null    float64\n",
      " 7   LoanAmount                 592 non-null    float64\n",
      " 8   Credit_History             564 non-null    float64\n",
      " 9   Property_Area              614 non-null    object \n",
      " 10  Loan_Status                614 non-null    int32  \n",
      " 11  Loan_Amount_Term_category  614 non-null    object \n",
      "dtypes: float64(4), int32(1), int64(1), object(6)\n",
      "memory usage: 55.3+ KB\n"
     ]
    }
   ],
   "source": [
    "df.info()"
   ]
  },
  {
   "cell_type": "markdown",
   "id": "1fa46fcb",
   "metadata": {},
   "source": [
    "### 2. Dividing the data set to features (x) and the target (y)"
   ]
  },
  {
   "cell_type": "code",
   "execution_count": 104,
   "id": "e690463a",
   "metadata": {},
   "outputs": [],
   "source": [
    "x = df.drop('Loan_Status',axis=1)\n",
    "y = df.Loan_Status"
   ]
  },
  {
   "cell_type": "code",
   "execution_count": 105,
   "id": "2706b8e4",
   "metadata": {},
   "outputs": [
    {
     "data": {
      "text/plain": [
       "1    422\n",
       "0    192\n",
       "Name: Loan_Status, dtype: int64"
      ]
     },
     "execution_count": 105,
     "metadata": {},
     "output_type": "execute_result"
    }
   ],
   "source": [
    "y.value_counts()"
   ]
  },
  {
   "cell_type": "code",
   "execution_count": 106,
   "id": "dd8ac828",
   "metadata": {},
   "outputs": [
    {
     "data": {
      "text/html": [
       "<div>\n",
       "<style scoped>\n",
       "    .dataframe tbody tr th:only-of-type {\n",
       "        vertical-align: middle;\n",
       "    }\n",
       "\n",
       "    .dataframe tbody tr th {\n",
       "        vertical-align: top;\n",
       "    }\n",
       "\n",
       "    .dataframe thead th {\n",
       "        text-align: right;\n",
       "    }\n",
       "</style>\n",
       "<table border=\"1\" class=\"dataframe\">\n",
       "  <thead>\n",
       "    <tr style=\"text-align: right;\">\n",
       "      <th></th>\n",
       "      <th>Gender</th>\n",
       "      <th>Married</th>\n",
       "      <th>Dependents</th>\n",
       "      <th>Education</th>\n",
       "      <th>Self_Employed</th>\n",
       "      <th>ApplicantIncome</th>\n",
       "      <th>CoapplicantIncome</th>\n",
       "      <th>LoanAmount</th>\n",
       "      <th>Credit_History</th>\n",
       "      <th>Property_Area</th>\n",
       "      <th>Loan_Amount_Term_category</th>\n",
       "    </tr>\n",
       "  </thead>\n",
       "  <tbody>\n",
       "    <tr>\n",
       "      <th>0</th>\n",
       "      <td>Male</td>\n",
       "      <td>No</td>\n",
       "      <td>0.0</td>\n",
       "      <td>Graduate</td>\n",
       "      <td>No</td>\n",
       "      <td>5849</td>\n",
       "      <td>0.0</td>\n",
       "      <td>NaN</td>\n",
       "      <td>1.0</td>\n",
       "      <td>Urban</td>\n",
       "      <td>Medium</td>\n",
       "    </tr>\n",
       "    <tr>\n",
       "      <th>1</th>\n",
       "      <td>Male</td>\n",
       "      <td>Yes</td>\n",
       "      <td>1.0</td>\n",
       "      <td>Graduate</td>\n",
       "      <td>No</td>\n",
       "      <td>4583</td>\n",
       "      <td>1508.0</td>\n",
       "      <td>128.0</td>\n",
       "      <td>1.0</td>\n",
       "      <td>Rural</td>\n",
       "      <td>Medium</td>\n",
       "    </tr>\n",
       "    <tr>\n",
       "      <th>2</th>\n",
       "      <td>Male</td>\n",
       "      <td>Yes</td>\n",
       "      <td>0.0</td>\n",
       "      <td>Graduate</td>\n",
       "      <td>Yes</td>\n",
       "      <td>3000</td>\n",
       "      <td>0.0</td>\n",
       "      <td>66.0</td>\n",
       "      <td>1.0</td>\n",
       "      <td>Urban</td>\n",
       "      <td>Medium</td>\n",
       "    </tr>\n",
       "    <tr>\n",
       "      <th>3</th>\n",
       "      <td>Male</td>\n",
       "      <td>Yes</td>\n",
       "      <td>0.0</td>\n",
       "      <td>Not Graduate</td>\n",
       "      <td>No</td>\n",
       "      <td>2583</td>\n",
       "      <td>2358.0</td>\n",
       "      <td>120.0</td>\n",
       "      <td>1.0</td>\n",
       "      <td>Urban</td>\n",
       "      <td>Medium</td>\n",
       "    </tr>\n",
       "    <tr>\n",
       "      <th>4</th>\n",
       "      <td>Male</td>\n",
       "      <td>No</td>\n",
       "      <td>0.0</td>\n",
       "      <td>Graduate</td>\n",
       "      <td>No</td>\n",
       "      <td>6000</td>\n",
       "      <td>0.0</td>\n",
       "      <td>141.0</td>\n",
       "      <td>1.0</td>\n",
       "      <td>Urban</td>\n",
       "      <td>Medium</td>\n",
       "    </tr>\n",
       "  </tbody>\n",
       "</table>\n",
       "</div>"
      ],
      "text/plain": [
       "  Gender Married  Dependents     Education Self_Employed  ApplicantIncome  \\\n",
       "0   Male      No         0.0      Graduate            No             5849   \n",
       "1   Male     Yes         1.0      Graduate            No             4583   \n",
       "2   Male     Yes         0.0      Graduate           Yes             3000   \n",
       "3   Male     Yes         0.0  Not Graduate            No             2583   \n",
       "4   Male      No         0.0      Graduate            No             6000   \n",
       "\n",
       "   CoapplicantIncome  LoanAmount  Credit_History Property_Area  \\\n",
       "0                0.0         NaN             1.0         Urban   \n",
       "1             1508.0       128.0             1.0         Rural   \n",
       "2                0.0        66.0             1.0         Urban   \n",
       "3             2358.0       120.0             1.0         Urban   \n",
       "4                0.0       141.0             1.0         Urban   \n",
       "\n",
       "  Loan_Amount_Term_category  \n",
       "0                    Medium  \n",
       "1                    Medium  \n",
       "2                    Medium  \n",
       "3                    Medium  \n",
       "4                    Medium  "
      ]
     },
     "execution_count": 106,
     "metadata": {},
     "output_type": "execute_result"
    }
   ],
   "source": [
    "x.head()"
   ]
  },
  {
   "cell_type": "markdown",
   "id": "f714add2",
   "metadata": {},
   "source": [
    "### 3.,4. Handling missing values, Encode categorical columns, and Scaling numerical values"
   ]
  },
  {
   "cell_type": "code",
   "execution_count": 107,
   "id": "be777f9b",
   "metadata": {},
   "outputs": [
    {
     "data": {
      "text/plain": [
       "Gender                       13\n",
       "Married                       3\n",
       "Dependents                   15\n",
       "Education                     0\n",
       "Self_Employed                32\n",
       "ApplicantIncome               0\n",
       "CoapplicantIncome             0\n",
       "LoanAmount                   22\n",
       "Credit_History               50\n",
       "Property_Area                 0\n",
       "Loan_Amount_Term_category     0\n",
       "dtype: int64"
      ]
     },
     "execution_count": 107,
     "metadata": {},
     "output_type": "execute_result"
    }
   ],
   "source": [
    "x.isnull().sum()"
   ]
  },
  {
   "cell_type": "code",
   "execution_count": 108,
   "id": "9bf0fe48",
   "metadata": {},
   "outputs": [
    {
     "name": "stdout",
     "output_type": "stream",
     "text": [
      "<class 'pandas.core.frame.DataFrame'>\n",
      "RangeIndex: 614 entries, 0 to 613\n",
      "Data columns (total 11 columns):\n",
      " #   Column                     Non-Null Count  Dtype  \n",
      "---  ------                     --------------  -----  \n",
      " 0   Gender                     601 non-null    object \n",
      " 1   Married                    611 non-null    object \n",
      " 2   Dependents                 599 non-null    float64\n",
      " 3   Education                  614 non-null    object \n",
      " 4   Self_Employed              582 non-null    object \n",
      " 5   ApplicantIncome            614 non-null    int64  \n",
      " 6   CoapplicantIncome          614 non-null    float64\n",
      " 7   LoanAmount                 592 non-null    float64\n",
      " 8   Credit_History             564 non-null    float64\n",
      " 9   Property_Area              614 non-null    object \n",
      " 10  Loan_Amount_Term_category  614 non-null    object \n",
      "dtypes: float64(4), int64(1), object(6)\n",
      "memory usage: 52.9+ KB\n"
     ]
    }
   ],
   "source": [
    "x.info()"
   ]
  },
  {
   "cell_type": "code",
   "execution_count": 109,
   "id": "0f2a510e",
   "metadata": {},
   "outputs": [
    {
     "data": {
      "text/plain": [
       "['Gender',\n",
       " 'Married',\n",
       " 'Education',\n",
       " 'Self_Employed',\n",
       " 'Property_Area',\n",
       " 'Loan_Amount_Term_category']"
      ]
     },
     "execution_count": 109,
     "metadata": {},
     "output_type": "execute_result"
    }
   ],
   "source": [
    "# Creating Categorical columns list\n",
    "cat_col = x.select_dtypes(include=['object']).columns.tolist()\n",
    "cat_col"
   ]
  },
  {
   "cell_type": "code",
   "execution_count": 110,
   "id": "6cda063d",
   "metadata": {},
   "outputs": [
    {
     "data": {
      "text/plain": [
       "['Dependents',\n",
       " 'ApplicantIncome',\n",
       " 'CoapplicantIncome',\n",
       " 'LoanAmount',\n",
       " 'Credit_History']"
      ]
     },
     "execution_count": 110,
     "metadata": {},
     "output_type": "execute_result"
    }
   ],
   "source": [
    "# Creating numerical columns list\n",
    "num_col = x.select_dtypes(include=[np.number]).columns.tolist()\n",
    "num_col"
   ]
  },
  {
   "cell_type": "code",
   "execution_count": 111,
   "id": "80da3581",
   "metadata": {},
   "outputs": [],
   "source": [
    "# Making pipeline for Categorical feature, and Numerical Feature\n",
    "Cat_pip = Pipeline([('Mode_imputer', SimpleImputer(strategy='most_frequent',add_indicator=False)),\n",
    "                    ('OHE', OneHotEncoder(sparse=False,drop='first', handle_unknown='ignore'))])\n",
    "                       \n",
    "numirc_pip = Pipeline([('Median_imputer', SimpleImputer(strategy='median', add_indicator=False)),\n",
    "                      ('Scaler', StandardScaler())])\n",
    "                   "
   ]
  },
  {
   "cell_type": "code",
   "execution_count": 112,
   "id": "c1218a19",
   "metadata": {},
   "outputs": [],
   "source": [
    "# usining Column trasformer to categorical and numerical pip line\n",
    "preprocesser = ColumnTransformer(transformers=[\n",
    "    ('Cat_pip', Cat_pip, cat_col),\n",
    "    ('numirc_pip', numirc_pip, num_col),\n",
    "], remainder='passthrough')"
   ]
  },
  {
   "cell_type": "code",
   "execution_count": 113,
   "id": "e7eeef3b",
   "metadata": {},
   "outputs": [
    {
     "data": {
      "text/html": [
       "<div>\n",
       "<style scoped>\n",
       "    .dataframe tbody tr th:only-of-type {\n",
       "        vertical-align: middle;\n",
       "    }\n",
       "\n",
       "    .dataframe tbody tr th {\n",
       "        vertical-align: top;\n",
       "    }\n",
       "\n",
       "    .dataframe thead th {\n",
       "        text-align: right;\n",
       "    }\n",
       "</style>\n",
       "<table border=\"1\" class=\"dataframe\">\n",
       "  <thead>\n",
       "    <tr style=\"text-align: right;\">\n",
       "      <th></th>\n",
       "      <th>0</th>\n",
       "      <th>1</th>\n",
       "      <th>2</th>\n",
       "      <th>3</th>\n",
       "      <th>4</th>\n",
       "      <th>5</th>\n",
       "      <th>6</th>\n",
       "      <th>7</th>\n",
       "      <th>8</th>\n",
       "      <th>9</th>\n",
       "      <th>10</th>\n",
       "      <th>11</th>\n",
       "      <th>12</th>\n",
       "    </tr>\n",
       "  </thead>\n",
       "  <tbody>\n",
       "    <tr>\n",
       "      <th>0</th>\n",
       "      <td>1.0</td>\n",
       "      <td>0.0</td>\n",
       "      <td>0.0</td>\n",
       "      <td>0.0</td>\n",
       "      <td>0.0</td>\n",
       "      <td>1.0</td>\n",
       "      <td>1.0</td>\n",
       "      <td>0.0</td>\n",
       "      <td>-0.737806</td>\n",
       "      <td>0.072991</td>\n",
       "      <td>-0.554487</td>\n",
       "      <td>-0.211241</td>\n",
       "      <td>0.411733</td>\n",
       "    </tr>\n",
       "    <tr>\n",
       "      <th>1</th>\n",
       "      <td>1.0</td>\n",
       "      <td>1.0</td>\n",
       "      <td>0.0</td>\n",
       "      <td>0.0</td>\n",
       "      <td>0.0</td>\n",
       "      <td>0.0</td>\n",
       "      <td>1.0</td>\n",
       "      <td>0.0</td>\n",
       "      <td>0.253470</td>\n",
       "      <td>-0.134412</td>\n",
       "      <td>-0.038732</td>\n",
       "      <td>-0.211241</td>\n",
       "      <td>0.411733</td>\n",
       "    </tr>\n",
       "    <tr>\n",
       "      <th>2</th>\n",
       "      <td>1.0</td>\n",
       "      <td>1.0</td>\n",
       "      <td>0.0</td>\n",
       "      <td>1.0</td>\n",
       "      <td>0.0</td>\n",
       "      <td>1.0</td>\n",
       "      <td>1.0</td>\n",
       "      <td>0.0</td>\n",
       "      <td>-0.737806</td>\n",
       "      <td>-0.393747</td>\n",
       "      <td>-0.554487</td>\n",
       "      <td>-0.948996</td>\n",
       "      <td>0.411733</td>\n",
       "    </tr>\n",
       "    <tr>\n",
       "      <th>3</th>\n",
       "      <td>1.0</td>\n",
       "      <td>1.0</td>\n",
       "      <td>1.0</td>\n",
       "      <td>0.0</td>\n",
       "      <td>0.0</td>\n",
       "      <td>1.0</td>\n",
       "      <td>1.0</td>\n",
       "      <td>0.0</td>\n",
       "      <td>-0.737806</td>\n",
       "      <td>-0.462062</td>\n",
       "      <td>0.251980</td>\n",
       "      <td>-0.306435</td>\n",
       "      <td>0.411733</td>\n",
       "    </tr>\n",
       "    <tr>\n",
       "      <th>4</th>\n",
       "      <td>1.0</td>\n",
       "      <td>0.0</td>\n",
       "      <td>0.0</td>\n",
       "      <td>0.0</td>\n",
       "      <td>0.0</td>\n",
       "      <td>1.0</td>\n",
       "      <td>1.0</td>\n",
       "      <td>0.0</td>\n",
       "      <td>-0.737806</td>\n",
       "      <td>0.097728</td>\n",
       "      <td>-0.554487</td>\n",
       "      <td>-0.056551</td>\n",
       "      <td>0.411733</td>\n",
       "    </tr>\n",
       "    <tr>\n",
       "      <th>...</th>\n",
       "      <td>...</td>\n",
       "      <td>...</td>\n",
       "      <td>...</td>\n",
       "      <td>...</td>\n",
       "      <td>...</td>\n",
       "      <td>...</td>\n",
       "      <td>...</td>\n",
       "      <td>...</td>\n",
       "      <td>...</td>\n",
       "      <td>...</td>\n",
       "      <td>...</td>\n",
       "      <td>...</td>\n",
       "      <td>...</td>\n",
       "    </tr>\n",
       "    <tr>\n",
       "      <th>609</th>\n",
       "      <td>0.0</td>\n",
       "      <td>0.0</td>\n",
       "      <td>0.0</td>\n",
       "      <td>0.0</td>\n",
       "      <td>0.0</td>\n",
       "      <td>0.0</td>\n",
       "      <td>1.0</td>\n",
       "      <td>0.0</td>\n",
       "      <td>-0.737806</td>\n",
       "      <td>-0.410130</td>\n",
       "      <td>-0.554487</td>\n",
       "      <td>-0.889500</td>\n",
       "      <td>0.411733</td>\n",
       "    </tr>\n",
       "    <tr>\n",
       "      <th>610</th>\n",
       "      <td>1.0</td>\n",
       "      <td>1.0</td>\n",
       "      <td>0.0</td>\n",
       "      <td>0.0</td>\n",
       "      <td>0.0</td>\n",
       "      <td>0.0</td>\n",
       "      <td>0.0</td>\n",
       "      <td>1.0</td>\n",
       "      <td>2.236021</td>\n",
       "      <td>-0.212557</td>\n",
       "      <td>-0.554487</td>\n",
       "      <td>-1.258378</td>\n",
       "      <td>0.411733</td>\n",
       "    </tr>\n",
       "    <tr>\n",
       "      <th>611</th>\n",
       "      <td>1.0</td>\n",
       "      <td>1.0</td>\n",
       "      <td>0.0</td>\n",
       "      <td>0.0</td>\n",
       "      <td>0.0</td>\n",
       "      <td>1.0</td>\n",
       "      <td>1.0</td>\n",
       "      <td>0.0</td>\n",
       "      <td>0.253470</td>\n",
       "      <td>0.437174</td>\n",
       "      <td>-0.472404</td>\n",
       "      <td>1.276168</td>\n",
       "      <td>0.411733</td>\n",
       "    </tr>\n",
       "    <tr>\n",
       "      <th>612</th>\n",
       "      <td>1.0</td>\n",
       "      <td>1.0</td>\n",
       "      <td>0.0</td>\n",
       "      <td>0.0</td>\n",
       "      <td>0.0</td>\n",
       "      <td>1.0</td>\n",
       "      <td>1.0</td>\n",
       "      <td>0.0</td>\n",
       "      <td>1.244745</td>\n",
       "      <td>0.357064</td>\n",
       "      <td>-0.554487</td>\n",
       "      <td>0.490816</td>\n",
       "      <td>0.411733</td>\n",
       "    </tr>\n",
       "    <tr>\n",
       "      <th>613</th>\n",
       "      <td>0.0</td>\n",
       "      <td>0.0</td>\n",
       "      <td>0.0</td>\n",
       "      <td>1.0</td>\n",
       "      <td>1.0</td>\n",
       "      <td>0.0</td>\n",
       "      <td>1.0</td>\n",
       "      <td>0.0</td>\n",
       "      <td>-0.737806</td>\n",
       "      <td>-0.134412</td>\n",
       "      <td>-0.554487</td>\n",
       "      <td>-0.151745</td>\n",
       "      <td>-2.428760</td>\n",
       "    </tr>\n",
       "  </tbody>\n",
       "</table>\n",
       "<p>614 rows × 13 columns</p>\n",
       "</div>"
      ],
      "text/plain": [
       "      0    1    2    3    4    5    6    7         8         9         10  \\\n",
       "0    1.0  0.0  0.0  0.0  0.0  1.0  1.0  0.0 -0.737806  0.072991 -0.554487   \n",
       "1    1.0  1.0  0.0  0.0  0.0  0.0  1.0  0.0  0.253470 -0.134412 -0.038732   \n",
       "2    1.0  1.0  0.0  1.0  0.0  1.0  1.0  0.0 -0.737806 -0.393747 -0.554487   \n",
       "3    1.0  1.0  1.0  0.0  0.0  1.0  1.0  0.0 -0.737806 -0.462062  0.251980   \n",
       "4    1.0  0.0  0.0  0.0  0.0  1.0  1.0  0.0 -0.737806  0.097728 -0.554487   \n",
       "..   ...  ...  ...  ...  ...  ...  ...  ...       ...       ...       ...   \n",
       "609  0.0  0.0  0.0  0.0  0.0  0.0  1.0  0.0 -0.737806 -0.410130 -0.554487   \n",
       "610  1.0  1.0  0.0  0.0  0.0  0.0  0.0  1.0  2.236021 -0.212557 -0.554487   \n",
       "611  1.0  1.0  0.0  0.0  0.0  1.0  1.0  0.0  0.253470  0.437174 -0.472404   \n",
       "612  1.0  1.0  0.0  0.0  0.0  1.0  1.0  0.0  1.244745  0.357064 -0.554487   \n",
       "613  0.0  0.0  0.0  1.0  1.0  0.0  1.0  0.0 -0.737806 -0.134412 -0.554487   \n",
       "\n",
       "           11        12  \n",
       "0   -0.211241  0.411733  \n",
       "1   -0.211241  0.411733  \n",
       "2   -0.948996  0.411733  \n",
       "3   -0.306435  0.411733  \n",
       "4   -0.056551  0.411733  \n",
       "..        ...       ...  \n",
       "609 -0.889500  0.411733  \n",
       "610 -1.258378  0.411733  \n",
       "611  1.276168  0.411733  \n",
       "612  0.490816  0.411733  \n",
       "613 -0.151745 -2.428760  \n",
       "\n",
       "[614 rows x 13 columns]"
      ]
     },
     "execution_count": 113,
     "metadata": {},
     "output_type": "execute_result"
    }
   ],
   "source": [
    "# checking preprocesser out come\n",
    "pd.DataFrame(preprocesser.fit_transform(x))"
   ]
  },
  {
   "cell_type": "code",
   "execution_count": 114,
   "id": "cb1bdd7b",
   "metadata": {},
   "outputs": [
    {
     "data": {
      "text/plain": [
       "0     0\n",
       "1     0\n",
       "2     0\n",
       "3     0\n",
       "4     0\n",
       "5     0\n",
       "6     0\n",
       "7     0\n",
       "8     0\n",
       "9     0\n",
       "10    0\n",
       "11    0\n",
       "12    0\n",
       "dtype: int64"
      ]
     },
     "execution_count": 114,
     "metadata": {},
     "output_type": "execute_result"
    }
   ],
   "source": [
    "# checking preprocesser out come\n",
    "pd.DataFrame(preprocesser.fit_transform(x)).isna().sum()"
   ]
  },
  {
   "cell_type": "markdown",
   "id": "eff528a8",
   "metadata": {},
   "source": [
    "### 5., 6. deaing with target class imbalances, and modeling and cross validation"
   ]
  },
  {
   "cell_type": "code",
   "execution_count": 115,
   "id": "0970ef24",
   "metadata": {},
   "outputs": [],
   "source": [
    "# Creating list of models to compare between them\n",
    "models = []\n",
    "models.append((\"LR\", LogisticRegression()))\n",
    "models.append((\"DTC\", DecisionTreeClassifier()))\n",
    "models.append((\"KNN\", KNeighborsClassifier()))\n",
    "models.append((\"RF\", RandomForestClassifier()))\n",
    "models.append((\"XGC\", XGBClassifier()))"
   ]
  },
  {
   "cell_type": "code",
   "execution_count": 116,
   "id": "5595fca0",
   "metadata": {},
   "outputs": [
    {
     "name": "stdout",
     "output_type": "stream",
     "text": [
      "Model LR train acc is 0.776060967330651\n",
      "Model LR test acc is 0.7540450486472078\n",
      "Model LR test precision is 0.8016566377346607\n",
      "Model LR test recall is 0.8552941176470588\n",
      "****************************************************************************************************\n",
      "Model DTC train acc is 1.0\n",
      "Model DTC test acc is 0.7036518725842996\n",
      "Model DTC test precision is 0.7874277047544761\n",
      "Model DTC test recall is 0.781904761904762\n",
      "****************************************************************************************************\n",
      "Model KNN train acc is 0.8106701107744275\n",
      "Model KNN test acc is 0.6970145275223244\n",
      "Model KNN test precision is 0.8030350253543828\n",
      "Model KNN test recall is 0.7438375350140056\n",
      "****************************************************************************************************\n",
      "Model RF train acc is 1.0\n",
      "Model RF test acc is 0.7622284419565508\n",
      "Model RF test precision is 0.7907530639253564\n",
      "Model RF test recall is 0.8910364145658264\n",
      "****************************************************************************************************\n",
      "Model XGC train acc is 1.0\n",
      "Model XGC test acc is 0.740983606557377\n",
      "Model XGC test precision is 0.7989720272231947\n",
      "Model XGC test recall is 0.8340056022408963\n",
      "****************************************************************************************************\n"
     ]
    }
   ],
   "source": [
    "# Creating pipe line using encoder and RobustScaler() as the numerical features like cost for two contains outliers.\n",
    "for model in models:\n",
    "    steps = []\n",
    "    steps.append(('Preprocesser', preprocesser))\n",
    "    steps.append(('Over_Sampler', RandomOverSampler()))\n",
    "    steps.append(model)\n",
    "    pipline = Pipeline(steps=steps)\n",
    "    scoring = {'accuracy':make_scorer(accuracy_score),'precision':make_scorer(precision_score),'recall':make_scorer(recall_score)}  \n",
    "    res = cross_validate(pipline, x,y, cv=5, scoring=scoring, return_train_score=True)\n",
    "    print(f\"Model {model[0]} train acc is {res['train_accuracy'].mean()}\")\n",
    "    print(f\"Model {model[0]} test acc is {res['test_accuracy'].mean()}\")\n",
    "    print(f\"Model {model[0]} test precision is {res['test_precision'].mean()}\")\n",
    "    print(f\"Model {model[0]} test recall is {res['test_recall'].mean()}\")\n",
    "    print(\"*\" * 100)"
   ]
  },
  {
   "cell_type": "markdown",
   "id": "3c37fd7f",
   "metadata": {},
   "source": [
    "* From the above scores Logistic Regression show better accuracy result during testing and not facing over fitting like Random Forest Xgboost classifer model. we are going to select it."
   ]
  },
  {
   "cell_type": "markdown",
   "id": "ad153df2",
   "metadata": {},
   "source": [
    "### 7. Hyperparameter Tuning for best selected Model"
   ]
  },
  {
   "cell_type": "code",
   "execution_count": 117,
   "id": "155f2717",
   "metadata": {},
   "outputs": [],
   "source": [
    "# Selecting Logistic Regression Model in pipeline\n",
    "steps = []\n",
    "steps.append(('Preprocesser', preprocesser))\n",
    "steps.append(('Over_Sampler', RandomOverSampler()))\n",
    "steps.append(('Model', LogisticRegression()))\n",
    "pipeline = Pipeline(steps=steps)"
   ]
  },
  {
   "cell_type": "code",
   "execution_count": 118,
   "id": "8750784f",
   "metadata": {},
   "outputs": [],
   "source": [
    "# Define parameters to tune\n",
    "param_grid = {\n",
    "    'Model__C': [0.001, 0.01, 0.1, 1, 10, 100],\n",
    "    'Model__solver': ['liblinear', 'lbfgs'],\n",
    "}\n",
    "\n",
    "# Create GridSearchCV object\n",
    "grid_search = GridSearchCV(estimator=pipeline , cv = 5 ,param_grid=param_grid, scoring=\"accuracy\" , return_train_score=True)"
   ]
  },
  {
   "cell_type": "code",
   "execution_count": 119,
   "id": "313d77db",
   "metadata": {},
   "outputs": [],
   "source": [
    "# Fitting grid search to the data\n",
    "result = grid_search.fit(x,y)"
   ]
  },
  {
   "cell_type": "code",
   "execution_count": 120,
   "id": "00a4880b",
   "metadata": {},
   "outputs": [
    {
     "data": {
      "text/plain": [
       "0.7941479144934016"
      ]
     },
     "execution_count": 120,
     "metadata": {},
     "output_type": "execute_result"
    }
   ],
   "source": [
    "result.cv_results_[\"mean_train_score\"].mean()"
   ]
  },
  {
   "cell_type": "code",
   "execution_count": 121,
   "id": "c3ecc68a",
   "metadata": {},
   "outputs": [
    {
     "data": {
      "text/plain": [
       "0.776433870896086"
      ]
     },
     "execution_count": 121,
     "metadata": {},
     "output_type": "execute_result"
    }
   ],
   "source": [
    "result.cv_results_[\"mean_test_score\"].mean()"
   ]
  },
  {
   "cell_type": "code",
   "execution_count": 122,
   "id": "bbeaeacf",
   "metadata": {},
   "outputs": [
    {
     "data": {
      "text/plain": [
       "{'Model__C': 0.001, 'Model__solver': 'liblinear'}"
      ]
     },
     "execution_count": 122,
     "metadata": {},
     "output_type": "execute_result"
    }
   ],
   "source": [
    "result.best_params_"
   ]
  },
  {
   "cell_type": "markdown",
   "id": "bc526872",
   "metadata": {},
   "source": [
    "* After hyper parameter tuinig the both train and test score increse: \n",
    "   - mean_train_score from 77.6 % to 79.4 %\n",
    "   - mean_test_score from 75.4 % to 77.64 %   "
   ]
  },
  {
   "cell_type": "code",
   "execution_count": 123,
   "id": "2e971439",
   "metadata": {},
   "outputs": [],
   "source": [
    "# Creating final Model object\n",
    "Final_Model = result.best_estimator_"
   ]
  },
  {
   "cell_type": "code",
   "execution_count": 124,
   "id": "1ce8bceb",
   "metadata": {},
   "outputs": [
    {
     "data": {
      "text/plain": [
       "Pipeline(steps=[('Preprocesser',\n",
       "                 ColumnTransformer(remainder='passthrough',\n",
       "                                   transformers=[('Cat_pip',\n",
       "                                                  Pipeline(steps=[('Mode_imputer',\n",
       "                                                                   SimpleImputer(strategy='most_frequent')),\n",
       "                                                                  ('OHE',\n",
       "                                                                   OneHotEncoder(drop='first',\n",
       "                                                                                 handle_unknown='ignore',\n",
       "                                                                                 sparse=False))]),\n",
       "                                                  ['Gender', 'Married',\n",
       "                                                   'Education', 'Self_Employed',\n",
       "                                                   'Property_Area',\n",
       "                                                   'Loan_Amount_Term_category']),\n",
       "                                                 ('numirc_pip',\n",
       "                                                  Pipeline(steps=[('Median_imputer',\n",
       "                                                                   SimpleImputer(strategy='median')),\n",
       "                                                                  ('Scaler',\n",
       "                                                                   StandardScaler())]),\n",
       "                                                  ['Dependents',\n",
       "                                                   'ApplicantIncome',\n",
       "                                                   'CoapplicantIncome',\n",
       "                                                   'LoanAmount',\n",
       "                                                   'Credit_History'])])),\n",
       "                ('Over_Sampler', RandomOverSampler()),\n",
       "                ('Model', LogisticRegression(C=0.001, solver='liblinear'))])"
      ]
     },
     "execution_count": 124,
     "metadata": {},
     "output_type": "execute_result"
    }
   ],
   "source": [
    "# Fittin Final Model with best parameter and estimator.\n",
    "Final_Model.fit(x,y)"
   ]
  },
  {
   "cell_type": "code",
   "execution_count": 125,
   "id": "9f0a4e48",
   "metadata": {},
   "outputs": [],
   "source": [
    "## Visualize Final Model Pipline\n",
    "from sklearn import set_config"
   ]
  },
  {
   "cell_type": "code",
   "execution_count": 126,
   "id": "238e5c50",
   "metadata": {},
   "outputs": [],
   "source": [
    "set_config(display=\"diagram\")"
   ]
  },
  {
   "cell_type": "code",
   "execution_count": 127,
   "id": "287b34c9",
   "metadata": {},
   "outputs": [
    {
     "data": {
      "text/html": [
       "<style>#sk-11f612af-91f8-4b6f-8e42-2129edfe58ea {color: black;background-color: white;}#sk-11f612af-91f8-4b6f-8e42-2129edfe58ea pre{padding: 0;}#sk-11f612af-91f8-4b6f-8e42-2129edfe58ea div.sk-toggleable {background-color: white;}#sk-11f612af-91f8-4b6f-8e42-2129edfe58ea label.sk-toggleable__label {cursor: pointer;display: block;width: 100%;margin-bottom: 0;padding: 0.3em;box-sizing: border-box;text-align: center;}#sk-11f612af-91f8-4b6f-8e42-2129edfe58ea label.sk-toggleable__label-arrow:before {content: \"▸\";float: left;margin-right: 0.25em;color: #696969;}#sk-11f612af-91f8-4b6f-8e42-2129edfe58ea label.sk-toggleable__label-arrow:hover:before {color: black;}#sk-11f612af-91f8-4b6f-8e42-2129edfe58ea div.sk-estimator:hover label.sk-toggleable__label-arrow:before {color: black;}#sk-11f612af-91f8-4b6f-8e42-2129edfe58ea div.sk-toggleable__content {max-height: 0;max-width: 0;overflow: hidden;text-align: left;background-color: #f0f8ff;}#sk-11f612af-91f8-4b6f-8e42-2129edfe58ea div.sk-toggleable__content pre {margin: 0.2em;color: black;border-radius: 0.25em;background-color: #f0f8ff;}#sk-11f612af-91f8-4b6f-8e42-2129edfe58ea input.sk-toggleable__control:checked~div.sk-toggleable__content {max-height: 200px;max-width: 100%;overflow: auto;}#sk-11f612af-91f8-4b6f-8e42-2129edfe58ea input.sk-toggleable__control:checked~label.sk-toggleable__label-arrow:before {content: \"▾\";}#sk-11f612af-91f8-4b6f-8e42-2129edfe58ea div.sk-estimator input.sk-toggleable__control:checked~label.sk-toggleable__label {background-color: #d4ebff;}#sk-11f612af-91f8-4b6f-8e42-2129edfe58ea div.sk-label input.sk-toggleable__control:checked~label.sk-toggleable__label {background-color: #d4ebff;}#sk-11f612af-91f8-4b6f-8e42-2129edfe58ea input.sk-hidden--visually {border: 0;clip: rect(1px 1px 1px 1px);clip: rect(1px, 1px, 1px, 1px);height: 1px;margin: -1px;overflow: hidden;padding: 0;position: absolute;width: 1px;}#sk-11f612af-91f8-4b6f-8e42-2129edfe58ea div.sk-estimator {font-family: monospace;background-color: #f0f8ff;border: 1px dotted black;border-radius: 0.25em;box-sizing: border-box;margin-bottom: 0.5em;}#sk-11f612af-91f8-4b6f-8e42-2129edfe58ea div.sk-estimator:hover {background-color: #d4ebff;}#sk-11f612af-91f8-4b6f-8e42-2129edfe58ea div.sk-parallel-item::after {content: \"\";width: 100%;border-bottom: 1px solid gray;flex-grow: 1;}#sk-11f612af-91f8-4b6f-8e42-2129edfe58ea div.sk-label:hover label.sk-toggleable__label {background-color: #d4ebff;}#sk-11f612af-91f8-4b6f-8e42-2129edfe58ea div.sk-serial::before {content: \"\";position: absolute;border-left: 1px solid gray;box-sizing: border-box;top: 2em;bottom: 0;left: 50%;}#sk-11f612af-91f8-4b6f-8e42-2129edfe58ea div.sk-serial {display: flex;flex-direction: column;align-items: center;background-color: white;padding-right: 0.2em;padding-left: 0.2em;}#sk-11f612af-91f8-4b6f-8e42-2129edfe58ea div.sk-item {z-index: 1;}#sk-11f612af-91f8-4b6f-8e42-2129edfe58ea div.sk-parallel {display: flex;align-items: stretch;justify-content: center;background-color: white;}#sk-11f612af-91f8-4b6f-8e42-2129edfe58ea div.sk-parallel::before {content: \"\";position: absolute;border-left: 1px solid gray;box-sizing: border-box;top: 2em;bottom: 0;left: 50%;}#sk-11f612af-91f8-4b6f-8e42-2129edfe58ea div.sk-parallel-item {display: flex;flex-direction: column;position: relative;background-color: white;}#sk-11f612af-91f8-4b6f-8e42-2129edfe58ea div.sk-parallel-item:first-child::after {align-self: flex-end;width: 50%;}#sk-11f612af-91f8-4b6f-8e42-2129edfe58ea div.sk-parallel-item:last-child::after {align-self: flex-start;width: 50%;}#sk-11f612af-91f8-4b6f-8e42-2129edfe58ea div.sk-parallel-item:only-child::after {width: 0;}#sk-11f612af-91f8-4b6f-8e42-2129edfe58ea div.sk-dashed-wrapped {border: 1px dashed gray;margin: 0 0.4em 0.5em 0.4em;box-sizing: border-box;padding-bottom: 0.4em;background-color: white;position: relative;}#sk-11f612af-91f8-4b6f-8e42-2129edfe58ea div.sk-label label {font-family: monospace;font-weight: bold;background-color: white;display: inline-block;line-height: 1.2em;}#sk-11f612af-91f8-4b6f-8e42-2129edfe58ea div.sk-label-container {position: relative;z-index: 2;text-align: center;}#sk-11f612af-91f8-4b6f-8e42-2129edfe58ea div.sk-container {/* jupyter's `normalize.less` sets `[hidden] { display: none; }` but bootstrap.min.css set `[hidden] { display: none !important; }` so we also need the `!important` here to be able to override the default hidden behavior on the sphinx rendered scikit-learn.org. See: https://github.com/scikit-learn/scikit-learn/issues/21755 */display: inline-block !important;position: relative;}#sk-11f612af-91f8-4b6f-8e42-2129edfe58ea div.sk-text-repr-fallback {display: none;}</style><div id=\"sk-11f612af-91f8-4b6f-8e42-2129edfe58ea\" class=\"sk-top-container\"><div class=\"sk-text-repr-fallback\"><pre>Pipeline(steps=[(&#x27;Preprocesser&#x27;,\n",
       "                 ColumnTransformer(remainder=&#x27;passthrough&#x27;,\n",
       "                                   transformers=[(&#x27;Cat_pip&#x27;,\n",
       "                                                  Pipeline(steps=[(&#x27;Mode_imputer&#x27;,\n",
       "                                                                   SimpleImputer(strategy=&#x27;most_frequent&#x27;)),\n",
       "                                                                  (&#x27;OHE&#x27;,\n",
       "                                                                   OneHotEncoder(drop=&#x27;first&#x27;,\n",
       "                                                                                 handle_unknown=&#x27;ignore&#x27;,\n",
       "                                                                                 sparse=False))]),\n",
       "                                                  [&#x27;Gender&#x27;, &#x27;Married&#x27;,\n",
       "                                                   &#x27;Education&#x27;, &#x27;Self_Employed&#x27;,\n",
       "                                                   &#x27;Property_Area&#x27;,\n",
       "                                                   &#x27;Loan_Amount_Term_category&#x27;]),\n",
       "                                                 (&#x27;numirc_pip&#x27;,\n",
       "                                                  Pipeline(steps=[(&#x27;Median_imputer&#x27;,\n",
       "                                                                   SimpleImputer(strategy=&#x27;median&#x27;)),\n",
       "                                                                  (&#x27;Scaler&#x27;,\n",
       "                                                                   StandardScaler())]),\n",
       "                                                  [&#x27;Dependents&#x27;,\n",
       "                                                   &#x27;ApplicantIncome&#x27;,\n",
       "                                                   &#x27;CoapplicantIncome&#x27;,\n",
       "                                                   &#x27;LoanAmount&#x27;,\n",
       "                                                   &#x27;Credit_History&#x27;])])),\n",
       "                (&#x27;Over_Sampler&#x27;, RandomOverSampler()),\n",
       "                (&#x27;Model&#x27;, LogisticRegression(C=0.001, solver=&#x27;liblinear&#x27;))])</pre><b>Please rerun this cell to show the HTML repr or trust the notebook.</b></div><div class=\"sk-container\" hidden><div class=\"sk-item sk-dashed-wrapped\"><div class=\"sk-label-container\"><div class=\"sk-label sk-toggleable\"><input class=\"sk-toggleable__control sk-hidden--visually\" id=\"0ef115b3-87b9-4e90-b42f-793e91e63d37\" type=\"checkbox\" ><label for=\"0ef115b3-87b9-4e90-b42f-793e91e63d37\" class=\"sk-toggleable__label sk-toggleable__label-arrow\">Pipeline</label><div class=\"sk-toggleable__content\"><pre>Pipeline(steps=[(&#x27;Preprocesser&#x27;,\n",
       "                 ColumnTransformer(remainder=&#x27;passthrough&#x27;,\n",
       "                                   transformers=[(&#x27;Cat_pip&#x27;,\n",
       "                                                  Pipeline(steps=[(&#x27;Mode_imputer&#x27;,\n",
       "                                                                   SimpleImputer(strategy=&#x27;most_frequent&#x27;)),\n",
       "                                                                  (&#x27;OHE&#x27;,\n",
       "                                                                   OneHotEncoder(drop=&#x27;first&#x27;,\n",
       "                                                                                 handle_unknown=&#x27;ignore&#x27;,\n",
       "                                                                                 sparse=False))]),\n",
       "                                                  [&#x27;Gender&#x27;, &#x27;Married&#x27;,\n",
       "                                                   &#x27;Education&#x27;, &#x27;Self_Employed&#x27;,\n",
       "                                                   &#x27;Property_Area&#x27;,\n",
       "                                                   &#x27;Loan_Amount_Term_category&#x27;]),\n",
       "                                                 (&#x27;numirc_pip&#x27;,\n",
       "                                                  Pipeline(steps=[(&#x27;Median_imputer&#x27;,\n",
       "                                                                   SimpleImputer(strategy=&#x27;median&#x27;)),\n",
       "                                                                  (&#x27;Scaler&#x27;,\n",
       "                                                                   StandardScaler())]),\n",
       "                                                  [&#x27;Dependents&#x27;,\n",
       "                                                   &#x27;ApplicantIncome&#x27;,\n",
       "                                                   &#x27;CoapplicantIncome&#x27;,\n",
       "                                                   &#x27;LoanAmount&#x27;,\n",
       "                                                   &#x27;Credit_History&#x27;])])),\n",
       "                (&#x27;Over_Sampler&#x27;, RandomOverSampler()),\n",
       "                (&#x27;Model&#x27;, LogisticRegression(C=0.001, solver=&#x27;liblinear&#x27;))])</pre></div></div></div><div class=\"sk-serial\"><div class=\"sk-item sk-dashed-wrapped\"><div class=\"sk-label-container\"><div class=\"sk-label sk-toggleable\"><input class=\"sk-toggleable__control sk-hidden--visually\" id=\"96482330-2c45-4257-99e2-9fd957dd2d1c\" type=\"checkbox\" ><label for=\"96482330-2c45-4257-99e2-9fd957dd2d1c\" class=\"sk-toggleable__label sk-toggleable__label-arrow\">Preprocesser: ColumnTransformer</label><div class=\"sk-toggleable__content\"><pre>ColumnTransformer(remainder=&#x27;passthrough&#x27;,\n",
       "                  transformers=[(&#x27;Cat_pip&#x27;,\n",
       "                                 Pipeline(steps=[(&#x27;Mode_imputer&#x27;,\n",
       "                                                  SimpleImputer(strategy=&#x27;most_frequent&#x27;)),\n",
       "                                                 (&#x27;OHE&#x27;,\n",
       "                                                  OneHotEncoder(drop=&#x27;first&#x27;,\n",
       "                                                                handle_unknown=&#x27;ignore&#x27;,\n",
       "                                                                sparse=False))]),\n",
       "                                 [&#x27;Gender&#x27;, &#x27;Married&#x27;, &#x27;Education&#x27;,\n",
       "                                  &#x27;Self_Employed&#x27;, &#x27;Property_Area&#x27;,\n",
       "                                  &#x27;Loan_Amount_Term_category&#x27;]),\n",
       "                                (&#x27;numirc_pip&#x27;,\n",
       "                                 Pipeline(steps=[(&#x27;Median_imputer&#x27;,\n",
       "                                                  SimpleImputer(strategy=&#x27;median&#x27;)),\n",
       "                                                 (&#x27;Scaler&#x27;, StandardScaler())]),\n",
       "                                 [&#x27;Dependents&#x27;, &#x27;ApplicantIncome&#x27;,\n",
       "                                  &#x27;CoapplicantIncome&#x27;, &#x27;LoanAmount&#x27;,\n",
       "                                  &#x27;Credit_History&#x27;])])</pre></div></div></div><div class=\"sk-parallel\"><div class=\"sk-parallel-item\"><div class=\"sk-item\"><div class=\"sk-label-container\"><div class=\"sk-label sk-toggleable\"><input class=\"sk-toggleable__control sk-hidden--visually\" id=\"1e794a83-9393-4ebd-ab11-c1ed66107a03\" type=\"checkbox\" ><label for=\"1e794a83-9393-4ebd-ab11-c1ed66107a03\" class=\"sk-toggleable__label sk-toggleable__label-arrow\">Cat_pip</label><div class=\"sk-toggleable__content\"><pre>[&#x27;Gender&#x27;, &#x27;Married&#x27;, &#x27;Education&#x27;, &#x27;Self_Employed&#x27;, &#x27;Property_Area&#x27;, &#x27;Loan_Amount_Term_category&#x27;]</pre></div></div></div><div class=\"sk-serial\"><div class=\"sk-item\"><div class=\"sk-serial\"><div class=\"sk-item\"><div class=\"sk-estimator sk-toggleable\"><input class=\"sk-toggleable__control sk-hidden--visually\" id=\"3577177f-e8bd-4173-9cc3-6e1413eb2ecf\" type=\"checkbox\" ><label for=\"3577177f-e8bd-4173-9cc3-6e1413eb2ecf\" class=\"sk-toggleable__label sk-toggleable__label-arrow\">SimpleImputer</label><div class=\"sk-toggleable__content\"><pre>SimpleImputer(strategy=&#x27;most_frequent&#x27;)</pre></div></div></div><div class=\"sk-item\"><div class=\"sk-estimator sk-toggleable\"><input class=\"sk-toggleable__control sk-hidden--visually\" id=\"9fdf3ea5-8711-40e3-b015-132a9c8ab82e\" type=\"checkbox\" ><label for=\"9fdf3ea5-8711-40e3-b015-132a9c8ab82e\" class=\"sk-toggleable__label sk-toggleable__label-arrow\">OneHotEncoder</label><div class=\"sk-toggleable__content\"><pre>OneHotEncoder(drop=&#x27;first&#x27;, handle_unknown=&#x27;ignore&#x27;, sparse=False)</pre></div></div></div></div></div></div></div></div><div class=\"sk-parallel-item\"><div class=\"sk-item\"><div class=\"sk-label-container\"><div class=\"sk-label sk-toggleable\"><input class=\"sk-toggleable__control sk-hidden--visually\" id=\"d70e3f71-031c-4b64-99f1-a178409e5194\" type=\"checkbox\" ><label for=\"d70e3f71-031c-4b64-99f1-a178409e5194\" class=\"sk-toggleable__label sk-toggleable__label-arrow\">numirc_pip</label><div class=\"sk-toggleable__content\"><pre>[&#x27;Dependents&#x27;, &#x27;ApplicantIncome&#x27;, &#x27;CoapplicantIncome&#x27;, &#x27;LoanAmount&#x27;, &#x27;Credit_History&#x27;]</pre></div></div></div><div class=\"sk-serial\"><div class=\"sk-item\"><div class=\"sk-serial\"><div class=\"sk-item\"><div class=\"sk-estimator sk-toggleable\"><input class=\"sk-toggleable__control sk-hidden--visually\" id=\"686ec9da-cb44-466e-bfb7-a675080f661d\" type=\"checkbox\" ><label for=\"686ec9da-cb44-466e-bfb7-a675080f661d\" class=\"sk-toggleable__label sk-toggleable__label-arrow\">SimpleImputer</label><div class=\"sk-toggleable__content\"><pre>SimpleImputer(strategy=&#x27;median&#x27;)</pre></div></div></div><div class=\"sk-item\"><div class=\"sk-estimator sk-toggleable\"><input class=\"sk-toggleable__control sk-hidden--visually\" id=\"6dd88add-569f-4153-af06-aeae9d399329\" type=\"checkbox\" ><label for=\"6dd88add-569f-4153-af06-aeae9d399329\" class=\"sk-toggleable__label sk-toggleable__label-arrow\">StandardScaler</label><div class=\"sk-toggleable__content\"><pre>StandardScaler()</pre></div></div></div></div></div></div></div></div><div class=\"sk-parallel-item\"><div class=\"sk-item\"><div class=\"sk-label-container\"><div class=\"sk-label sk-toggleable\"><input class=\"sk-toggleable__control sk-hidden--visually\" id=\"0b96782b-1030-46f8-91f0-f539d4bc7bff\" type=\"checkbox\" ><label for=\"0b96782b-1030-46f8-91f0-f539d4bc7bff\" class=\"sk-toggleable__label sk-toggleable__label-arrow\">remainder</label><div class=\"sk-toggleable__content\"><pre>[]</pre></div></div></div><div class=\"sk-serial\"><div class=\"sk-item\"><div class=\"sk-estimator sk-toggleable\"><input class=\"sk-toggleable__control sk-hidden--visually\" id=\"2927c591-ea48-4ec3-b601-ab85414e5329\" type=\"checkbox\" ><label for=\"2927c591-ea48-4ec3-b601-ab85414e5329\" class=\"sk-toggleable__label sk-toggleable__label-arrow\">passthrough</label><div class=\"sk-toggleable__content\"><pre>passthrough</pre></div></div></div></div></div></div></div></div><div class=\"sk-item\"><div class=\"sk-estimator sk-toggleable\"><input class=\"sk-toggleable__control sk-hidden--visually\" id=\"e21b06b1-74ef-4e92-813c-0ec91f5df035\" type=\"checkbox\" ><label for=\"e21b06b1-74ef-4e92-813c-0ec91f5df035\" class=\"sk-toggleable__label sk-toggleable__label-arrow\">RandomOverSampler</label><div class=\"sk-toggleable__content\"><pre>RandomOverSampler()</pre></div></div></div><div class=\"sk-item\"><div class=\"sk-estimator sk-toggleable\"><input class=\"sk-toggleable__control sk-hidden--visually\" id=\"ee8096ae-f8a7-4c20-a09c-9b380778a198\" type=\"checkbox\" ><label for=\"ee8096ae-f8a7-4c20-a09c-9b380778a198\" class=\"sk-toggleable__label sk-toggleable__label-arrow\">LogisticRegression</label><div class=\"sk-toggleable__content\"><pre>LogisticRegression(C=0.001, solver=&#x27;liblinear&#x27;)</pre></div></div></div></div></div></div></div>"
      ],
      "text/plain": [
       "Pipeline(steps=[('Preprocesser',\n",
       "                 ColumnTransformer(remainder='passthrough',\n",
       "                                   transformers=[('Cat_pip',\n",
       "                                                  Pipeline(steps=[('Mode_imputer',\n",
       "                                                                   SimpleImputer(strategy='most_frequent')),\n",
       "                                                                  ('OHE',\n",
       "                                                                   OneHotEncoder(drop='first',\n",
       "                                                                                 handle_unknown='ignore',\n",
       "                                                                                 sparse=False))]),\n",
       "                                                  ['Gender', 'Married',\n",
       "                                                   'Education', 'Self_Employed',\n",
       "                                                   'Property_Area',\n",
       "                                                   'Loan_Amount_Term_category']),\n",
       "                                                 ('numirc_pip',\n",
       "                                                  Pipeline(steps=[('Median_imputer',\n",
       "                                                                   SimpleImputer(strategy='median')),\n",
       "                                                                  ('Scaler',\n",
       "                                                                   StandardScaler())]),\n",
       "                                                  ['Dependents',\n",
       "                                                   'ApplicantIncome',\n",
       "                                                   'CoapplicantIncome',\n",
       "                                                   'LoanAmount',\n",
       "                                                   'Credit_History'])])),\n",
       "                ('Over_Sampler', RandomOverSampler()),\n",
       "                ('Model', LogisticRegression(C=0.001, solver='liblinear'))])"
      ]
     },
     "execution_count": 127,
     "metadata": {},
     "output_type": "execute_result"
    }
   ],
   "source": [
    "# Visualize Final_Model as diagram\n",
    "Final_Model"
   ]
  },
  {
   "cell_type": "markdown",
   "id": "7be5c24c",
   "metadata": {},
   "source": [
    "### 9. Model Saving "
   ]
  },
  {
   "cell_type": "code",
   "execution_count": 128,
   "id": "f33a8475",
   "metadata": {},
   "outputs": [
    {
     "data": {
      "text/plain": [
       "['Gender',\n",
       " 'Married',\n",
       " 'Dependents',\n",
       " 'Education',\n",
       " 'Self_Employed',\n",
       " 'ApplicantIncome',\n",
       " 'CoapplicantIncome',\n",
       " 'LoanAmount',\n",
       " 'Credit_History',\n",
       " 'Property_Area',\n",
       " 'Loan_Amount_Term_category']"
      ]
     },
     "execution_count": 128,
     "metadata": {},
     "output_type": "execute_result"
    }
   ],
   "source": [
    "Features = x.columns.to_list()\n",
    "Features"
   ]
  },
  {
   "cell_type": "code",
   "execution_count": 129,
   "id": "e7f02f68",
   "metadata": {},
   "outputs": [
    {
     "data": {
      "text/plain": [
       "['Features.pkl']"
      ]
     },
     "execution_count": 129,
     "metadata": {},
     "output_type": "execute_result"
    }
   ],
   "source": [
    "# using joblib to dump the model and features names\n",
    "joblib.dump(Final_Model , \"Model.pkl\")\n",
    "joblib.dump(Features , \"Features.pkl\")"
   ]
  },
  {
   "cell_type": "code",
   "execution_count": 130,
   "id": "c2984f1e",
   "metadata": {},
   "outputs": [
    {
     "data": {
      "text/plain": [
       "Medium    529\n",
       "Short      56\n",
       "Long       29\n",
       "Name: Loan_Amount_Term_category, dtype: int64"
      ]
     },
     "execution_count": 130,
     "metadata": {},
     "output_type": "execute_result"
    }
   ],
   "source": [
    "x.Loan_Amount_Term_category.value_counts()"
   ]
  },
  {
   "cell_type": "markdown",
   "id": "f42e0aa8",
   "metadata": {},
   "source": [
    "## Final Step Deployment "
   ]
  },
  {
   "cell_type": "code",
   "execution_count": 136,
   "id": "d6eb6913",
   "metadata": {},
   "outputs": [
    {
     "name": "stdout",
     "output_type": "stream",
     "text": [
      "Overwriting app.py\n"
     ]
    }
   ],
   "source": [
    "%%writefile app.py\n",
    "\n",
    "# Importing necessary libraries\n",
    "import streamlit as st\n",
    "import pandas as pd\n",
    "import joblib\n",
    "import sklearn\n",
    "import imblearn\n",
    "\n",
    "# Loading Model & feature name in:\n",
    "model = joblib.load(\"Model.pkl\")\n",
    "feature_in = joblib.load(\"Features.pkl\")\n",
    "\n",
    "# Creating Prediction Function:\n",
    "def prediction(Gender,Married,Dependents,Education,Self_Employed,ApplicantIncome,CoapplicantIncome,\n",
    "               LoanAmount,Credit_History,Property_Area,Loan_Amount_Term_category):\n",
    "    \n",
    "    # Creating data frame recive user input and deliver input to the model for preduction\n",
    "    df = pd.DataFrame(columns=feature_in)\n",
    "    df.at[0,'Gender'] = Gender\n",
    "    df.at[0,'Married'] = Married\n",
    "    df.at[0,'Dependents'] = Dependents\n",
    "    df.at[0,'Education'] = Education\n",
    "    df.at[0,'Self_Employed'] = Self_Employed\n",
    "    df.at[0,'ApplicantIncome'] = ApplicantIncome\n",
    "    df.at[0,'CoapplicantIncome'] = CoapplicantIncome\n",
    "    df.at[0,'LoanAmount'] = LoanAmount\n",
    "    df.at[0,'Credit_History'] = Credit_History\n",
    "    df.at[0,'Property_Area'] = Property_Area\n",
    "    df.at[0,'Loan_Amount_Term_category'] = Loan_Amount_Term_category\n",
    "    \n",
    "    result = model.predict(df)\n",
    "    return result[0]\n",
    "    \n",
    "    \n",
    "# Creating a main function involves designing a user interface for feature input using Streamlit. \n",
    "# Based on the input provided by the user, the model will make predictions.\n",
    "def main():\n",
    "    st.title(\"Loan Status Prediction Model\")\n",
    "    st.text(\"The model shows an accuracy score of approximately 77.6% for loan approval status \\nduring testing.\")\n",
    "    st.text('''Analysis Sumary:\\n\n",
    "As a summary, we can say that applicants applying for a house loan with the\\nfollowing characteristics have a chance of acceptance or rejection as follows:\n",
    "\n",
    "* If they are married, have 2 or 0 dependents, have a high level of education or \\ngraduates, fall into the medium or large CoapplicantIncome_category \\n(greater than 1188), apply for a medium or small loan amount (less than or equal \\nto 168,000), choose a medium or short loan term (less than or equal to 360 months), \\nmeet the credit history guidelines (Credit_History == 1), and apply for a property \\narea in a semi-urban area, applicants with these characteristics have a greater \\nchance of loan approval or acceptance.\\n\n",
    "* If they are not married, have 1 or 3 dependents, have a low level of education \\nor are not graduates, fall into the small CoapplicantIncome_category \\n(less than or equal to 1188), apply for a large loan amount (greater than 168,000), \\nchoose a long loan term (greater than 360 months), do not meet the credit history \\nguidelines (Credit_History == 0), and apply for a property area in a rural area, \\napplicants with these characteristics have a greater chance of their loan not being \\napproved or not accepted.''')\n",
    "    Gender = st.selectbox('Applicant Gender',['Male','Female'])\n",
    "    Married = st.selectbox('Married Status', ['Yes','No'])\n",
    "    Dependents = st.selectbox(\"Select Number of Dependents (*Notice: The maximum number '3' indicates '3 or more'.)\", [0,1,2,3])\n",
    "    Education = st.selectbox(\"Education Status\", ['Graduate','Not Graduate'])\n",
    "    Self_Employed = st.selectbox(\"Self_Employed Status\",['No','Yes'])\n",
    "    ApplicantIncome = st.number_input(\"Enter Applicant Income\")\n",
    "    CoapplicantIncome = st.number_input(\"Enter Coapplicant Income\")\n",
    "    LoanAmount = st.slider(\"Enter Loan Amont in Thousands\", min_value=5, max_value=800, value= 100, step=1)\n",
    "    Credit_History = st.selectbox(\"Enter Credit_History Status\", [1,0])\n",
    "    Property_Area = st.selectbox(\"Enter Property Area\", ['Semiurban','Urban','Rural'])\n",
    "    Loan_Amount_Term_category = st.selectbox('''Enter Loan Term Period:\n",
    "    Short: ≤ 180 Months, Medium: 180 < Months ≤ 360, Long: > 360 Months''', ['Short','Medium','Long'])\n",
    "    \n",
    "    if st.button(\"Predict\"):\n",
    "        Results = prediction(Gender,Married,Dependents,Education,Self_Employed,ApplicantIncome,CoapplicantIncome,\n",
    "               LoanAmount,Credit_History,Property_Area,Loan_Amount_Term_category)\n",
    "        loan_status_list = [\"Sorry Your Loan Request Rejected\" , \"Your Loan Request Accepted\"]\n",
    "        st.text(loan_status_list[Results])\n",
    "\n",
    "main()"
   ]
  },
  {
   "cell_type": "markdown",
   "id": "07165b68",
   "metadata": {},
   "source": [
    "## Project online link for GitHub and Stream lit\n",
    "\n",
    "#### Project GitHub link: https://github.com/DiaaAldein/Loan-Status---Data-Analysis-and-Predictive-Modeling\n",
    "\n",
    "#### Project online Deployment on streamlit:\n",
    "#### Streamlit link: https://loan-status---data-analysis-and-predictive-modeling-7ehpneoxdw.streamlit.app/"
   ]
  },
  {
   "cell_type": "code",
   "execution_count": null,
   "id": "a0f3c413",
   "metadata": {},
   "outputs": [],
   "source": []
  },
  {
   "cell_type": "code",
   "execution_count": null,
   "id": "0091a1c7",
   "metadata": {},
   "outputs": [],
   "source": []
  }
 ],
 "metadata": {
  "kernelspec": {
   "display_name": "Python 3 (ipykernel)",
   "language": "python",
   "name": "python3"
  },
  "language_info": {
   "codemirror_mode": {
    "name": "ipython",
    "version": 3
   },
   "file_extension": ".py",
   "mimetype": "text/x-python",
   "name": "python",
   "nbconvert_exporter": "python",
   "pygments_lexer": "ipython3",
   "version": "3.7.15"
  }
 },
 "nbformat": 4,
 "nbformat_minor": 5
}
